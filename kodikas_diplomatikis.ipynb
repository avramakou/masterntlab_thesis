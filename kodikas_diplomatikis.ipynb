{
  "nbformat": 4,
  "nbformat_minor": 0,
  "metadata": {
    "colab": {
      "name": "kodikas_diplomatikis.ipynb",
      "provenance": [],
      "collapsed_sections": []
    },
    "kernelspec": {
      "name": "python3",
      "display_name": "Python 3"
    },
    "language_info": {
      "name": "python"
    }
  },
  "cells": [
    {
      "cell_type": "code",
      "metadata": {
        "id": "bzBp4bkZetqZ"
      },
      "source": [
        "# Import libraries\n",
        "import numpy as np\n",
        "import pandas as pd\n",
        "import matplotlib\n",
        "import matplotlib.pyplot as plt\n",
        "%matplotlib inline\n",
        "import seaborn as sns"
      ],
      "execution_count": null,
      "outputs": []
    },
    {
      "cell_type": "code",
      "metadata": {
        "id": "DlrA0iLje2DT"
      },
      "source": [
        "# Import drive\n",
        "from google.colab import drive\n",
        "drive.mount('/gdrive')"
      ],
      "execution_count": null,
      "outputs": []
    },
    {
      "cell_type": "code",
      "metadata": {
        "id": "R1B0x7oFfDYa"
      },
      "source": [
        "# Create dataframe \n",
        "analisi_ana_dimo_2015_df1 = pd.read_excel('/gdrive/My Drive/Colab Notebooks/Files/Thesis - Datasets & Reports/EDSNA/2015/EXCEL (converted files)/ΑΝΑΛΥΣΗ ΑΝΑ ΔΗΜΟ.xlsx', sheet_name='Table 1')"
      ],
      "execution_count": null,
      "outputs": []
    },
    {
      "cell_type": "code",
      "metadata": {
        "id": "CHDzNXO4d56e"
      },
      "source": [
        "# Delete first row\n",
        "analisi_ana_dimo_2015_df1 = analisi_ana_dimo_2015_df1.iloc[1:] "
      ],
      "execution_count": null,
      "outputs": []
    },
    {
      "cell_type": "code",
      "metadata": {
        "id": "2LgDMLBEmHaG"
      },
      "source": [
        "# Delete column \"Unnamed 7\" since it doesn't have data\n",
        "del analisi_ana_dimo_2015_df1['Unnamed: 7']"
      ],
      "execution_count": null,
      "outputs": []
    },
    {
      "cell_type": "code",
      "metadata": {
        "id": "t_4u3rMdWQ0j"
      },
      "source": [
        "# Rename columns\n",
        "analisi_ana_dimo_2015_df1.rename(columns = {'ΠΙΝΑΚΑ΢ 1: Α΢Α & ΠΡΑ΢ΙΝΟ (kg) ΔΗΜΩΝ ΢ΣΟΝ ΕΔ΢ΝΑ - ποζόηηηες τωρίς σπολείμμαηα\\nμπλε κάδων από ΚΔΑΤ':'ΔΗΜΟΣ', 'Unnamed: 1':'ΠΡΟΣ ΧΥΤΑ', \n",
        "                              'Unnamed: 2':'ΠΡΟΣ ΣΜΑ', 'Unnamed: 3':'ΠΡΟΣ ΕΜΑ ΑΠΟΡΡΙΜΜΑΤΑ', 'Unnamed: 4':'ΠΡΟΣ ΕΜΑ ΠΡΑΣΙΝΑ', 'Unnamed: 5':'ΠΡΟΣ ΕΜΑ ΠΡΟΔΙΑΛΕΓΜΕΝΑ ΠΡΟΓ. LIFE', \n",
        "                              'Unnamed: 6':'ΠΡΟΣ ΕΜΑ ΠΙΛΟΤΙΚΗ ΑΝΑΚΥΚΛΩΣΗ', '2015':'ΣΥΝΟΛΟ'}, inplace = True)"
      ],
      "execution_count": null,
      "outputs": []
    },
    {
      "cell_type": "code",
      "metadata": {
        "id": "2HYOM7Sg9pFC"
      },
      "source": [
        "# Rename last column since it couldn't be renamed before (probably bug)\n",
        "analisi_ana_dimo_2015_df1.rename(columns={ analisi_ana_dimo_2015_df1.columns[7]: \"ΣΥΝΟΛΟ\" }, inplace = True)"
      ],
      "execution_count": null,
      "outputs": []
    },
    {
      "cell_type": "code",
      "metadata": {
        "id": "52teJpUn0hUR"
      },
      "source": [
        "# Create dataframe \n",
        "analisi_ana_dimo_2015_df2 = pd.read_excel('/gdrive/My Drive/Colab Notebooks/Files/Thesis - Datasets & Reports/EDSNA/2015/EXCEL (converted files)/ΑΝΑΛΥΣΗ ΑΝΑ ΔΗΜΟ.xlsx', sheet_name='Table 2')"
      ],
      "execution_count": null,
      "outputs": []
    },
    {
      "cell_type": "code",
      "metadata": {
        "id": "a3RBJsNd3JAv"
      },
      "source": [
        "# Delete column\n",
        "del analisi_ana_dimo_2015_df2['Unnamed: 7']"
      ],
      "execution_count": null,
      "outputs": []
    },
    {
      "cell_type": "code",
      "metadata": {
        "id": "oDCSSTJE3E8j"
      },
      "source": [
        "# Rename columns\n",
        "analisi_ana_dimo_2015_df2.rename(columns = {'ΔΗΜΟ΢':'ΔΗΜΟΣ', 'ΠΡΟ΢ ΥΤΣΑ':'ΠΡΟΣ ΧΥΤΑ', 'ΠΡΟ΢ ΢ΜΑ':'ΠΡΟΣ ΣΜΑ', 'ΠΡΟ΢ ΕΜΑ ΑΠΟΡΡΙΜΜΑ- ΣΑ':'ΠΡΟΣ ΕΜΑ ΑΠΟΡΡΙΜΜΑΤΑ', \n",
        "                                            'ΠΡΟ΢ ΕΜΑ ΠΡΑ΢ΙΝΑ':'ΠΡΟΣ ΕΜΑ ΠΡΑΣΙΝΑ', 'ΠΡΟ΢ ΕΜΑ ΠΡΟΔΙΑΛΕΓ- ΜΕΝΑ ΠΡΟΓ. LIFE':'ΠΡΟΣ ΕΜΑ ΠΡΟΔΙΑΛΕΓΜΕΝΑ ΠΡΟΓ. LIFE', 'ΠΡΟ΢ ΕΜΑ ΠΙΛΟΣΙΚΗ ΑΝΑΚΤ- ΚΛΩ΢Η':'ΠΡΟΣ ΕΜΑ ΠΙΛΟΤΙΚΗ ΑΝΑΚΥΚΛΩΣΗ', '΢ΤΝΟΛΟ':'ΣΥΝΟΛΟ'}, inplace = True)"
      ],
      "execution_count": null,
      "outputs": []
    },
    {
      "cell_type": "code",
      "metadata": {
        "id": "lrqb3h2wzSzI"
      },
      "source": [
        "# Create dataframe \n",
        "analisi_ana_dimo_2015_df3 = pd.read_excel('/gdrive/My Drive/Colab Notebooks/Files/Thesis - Datasets & Reports/EDSNA/2015/EXCEL (converted files)/ΑΝΑΛΥΣΗ ΑΝΑ ΔΗΜΟ.xlsx', sheet_name='Table 3')"
      ],
      "execution_count": null,
      "outputs": []
    },
    {
      "cell_type": "code",
      "metadata": {
        "id": "l7_UH9jA3-XL"
      },
      "source": [
        "# Delete column\n",
        "del analisi_ana_dimo_2015_df3['Unnamed: 7']"
      ],
      "execution_count": null,
      "outputs": []
    },
    {
      "cell_type": "code",
      "metadata": {
        "id": "kpgLZhAP3Pfu"
      },
      "source": [
        "# Rename columns\n",
        "analisi_ana_dimo_2015_df3.rename(columns = {'ΔΗΜΟ΢':'ΔΗΜΟΣ', 'ΠΡΟ΢ ΥΤΣΑ':'ΠΡΟΣ ΧΥΤΑ', \n",
        "                              'ΠΡΟ΢ ΢ΜΑ':'ΠΡΟΣ ΣΜΑ', 'ΠΡΟ΢ ΕΜΑ ΑΠΟΡΡΙΜΜΑ- ΣΑ':'ΠΡΟΣ ΕΜΑ ΑΠΟΡΡΙΜΜΑΤΑ', 'ΠΡΟ΢ ΕΜΑ ΠΡΑ΢ΙΝΑ':'ΠΡΟΣ ΕΜΑ ΠΡΑΣΙΝΑ', 'ΠΡΟ΢ ΕΜΑ ΠΡΟΔΙΑΛΕΓ- ΜΕΝΑ ΠΡΟΓ. LIFE':'ΠΡΟΣ ΕΜΑ ΠΡΟΔΙΑΛΕΓΜΕΝΑ ΠΡΟΓ. LIFE', \n",
        "                              'ΠΡΟ΢ ΕΜΑ ΠΙΛΟΣΙΚΗ ΑΝΑΚΤ- ΚΛΩ΢Η':'ΠΡΟΣ ΕΜΑ ΠΙΛΟΤΙΚΗ ΑΝΑΚΥΚΛΩΣΗ', '΢ΤΝΟΛΟ':'ΣΥΝΟΛΟ'}, inplace = True)"
      ],
      "execution_count": null,
      "outputs": []
    },
    {
      "cell_type": "code",
      "metadata": {
        "id": "Tt2jMlUT7X-Q"
      },
      "source": [
        "# Drop last row\n",
        "analisi_ana_dimo_2015_df3 = analisi_ana_dimo_2015_df3.drop([4], axis=0)"
      ],
      "execution_count": null,
      "outputs": []
    },
    {
      "cell_type": "code",
      "metadata": {
        "id": "m5zSpIXLCv0I"
      },
      "source": [
        "# Concatenate\n",
        "analisi_ana_dimo_2015_df = pd.concat([analisi_ana_dimo_2015_df1, analisi_ana_dimo_2015_df2, analisi_ana_dimo_2015_df3], axis=0)"
      ],
      "execution_count": null,
      "outputs": []
    },
    {
      "cell_type": "code",
      "metadata": {
        "id": "PKQDGkn_JxkE"
      },
      "source": [
        "# Add column\n",
        "analisi_ana_dimo_2015_df.insert(7, \"ΠΡΟΣ ΕΜΑ ΛΑΪΚΕΣ ΑΓΟΡΕΣ\", '0')"
      ],
      "execution_count": null,
      "outputs": []
    },
    {
      "cell_type": "code",
      "metadata": {
        "id": "oc-9akxMNlGR"
      },
      "source": [
        "# Replace values (unicode encoding issue)\n",
        "analisi_ana_dimo_2015_df['ΔΗΜΟΣ'] = analisi_ana_dimo_2015_df['ΔΗΜΟΣ'].replace(['ΓΖΜΟ΢ ΑΓ.ΒΑΡΒΑΡΑ΢','ΓΖΜΟ΢ ΑΓ.ΓΖΜΖΣΡΗΟΤ','ΓΖΜΟ΢ ΑΓ.ΠΑΡΑ΢ΚΔΤΖ΢','ΓΖΜΟ΢ ΑΓΗΧΝ ΑΝΑΡΓΤΡΧΝ - ΚΑΜΑΣΔΡΟΤ','ΓΖΜΟ΢ ΑΓΚΗ΢ΣΡΗΟΤ','ΓΖΜΟ΢ ΑΘΖΝΑΗΧΝ','ΓΖΜΟ΢ ΑΗΓΑΛΔΧ','ΓΖΜΟ΢ ΑΗΓΗΝΑ΢','ΓΖΜΟ΢ ΑΛΗΜΟΤ','ΓΖΜΟ΢ ΑΜΑΡΟΤ΢ΗΟΤ','ΓΖΜΟ΢ Α΢ΠΡΟΠΤΡΓΟΤ','ΓΖΜΟ΢ ΑΥΑΡΝΧΝ','ΓΖΜΟ΢ ΒΑΡΖ΢ - ΒΟΤΛΑ΢ - ΒΟΤΛΗΑΓΜΔΝΖ΢','ΓΖΜΟ΢ ΒΡΗΛΖ΢ΗΧΝ','ΓΖΜΟ΢ ΒΤΡΧΝΑ','ΓΖΜΟ΢ ΓΑΛΑΣ΢ΗΟΤ','ΓΖΜΟ΢ ΓΛΤΦΑΓΑ΢','ΓΖΜΟ΢ ΓΑΦΝΖ΢ - ΤΜΖΣΣΟΤ','ΓΖΜΟ΢ ΓΗΟΝΤ΢ΟΤ','ΓΖΜΟ΢ ΔΛΔΤ΢ΗΝΑ΢','ΓΖΜΟ΢ ΔΛΛΖΝΗΚΟΤ - ΑΡΓΤΡΟΤΠΟΛΖ΢','ΓΖΜΟ΢ ΕΧΓΡΑΦΟΤ','ΓΖΜΟ΢ ΖΛΗΟΤΠΟΛΖ΢','ΓΖΜΟ΢ ΖΡΑΚΛΔΗΟΤ','ΓΖΜΟ΢ ΗΛΗΟΤ','ΓΖΜΟ΢ ΚΑΗ΢ΑΡΗΑΝΖ΢','ΓΖΜΟ΢ ΚΑΛΛΗΘΔΑ΢','ΓΖΜΟ΢ ΚΔΡΑΣ΢ΗΝΗΟΤ - ΓΡΑΠΔΣ΢ΧΝΑ΢','ΓΖΜΟ΢ ΚΖΦΗ΢ΗΑ΢','ΓΖΜΟ΢ ΚΟΡΤΓΑΛΛΟΤ','ΓΖΜΟ΢ ΚΡΧΠΗΑ΢','ΓΖΜΟ΢ ΚΤΘΖΡΧΝ','ΓΖΜΟ΢ ΛΑΤΡΔΧΣΗΚΖ΢','ΓΖΜΟ΢ ΛΤΚΟΒΡΤ΢Ζ΢ - ΠΔΤΚΖ΢','ΓΖΜΟ΢ ΜΑΝΓΡΑ΢ - ΔΗΓΤΛΛΗΑ΢','ΓΖΜΟ΢ ΜΑΡΑΘΧΝΑ','ΓΖΜΟ΢ ΜΑΡΚΟΠΟΤΛΟΤ ΜΔ΢ΟΓΑΗΑ΢','ΓΖΜΟ΢ ΜΔΓΑΡΔΧΝ','ΓΖΜΟ΢ ΜΔΣΑΜΟΡΦΧ΢Ζ΢','ΓΖΜΟ΢ ΜΟ΢ΥΑΣΟΤ - ΣΑΤΡΟΤ','ΓΖΜΟ΢ Ν. ΗΧΝΗΑ΢','ΓΖΜΟ΢ Ν.΢ΜΤΡΝΖ΢','ΓΖΜΟ΢ ΝΗΚΑΗΑ΢ - ΑΓ. Η. ΡΔΝΣΖ','ΓΖΜΟ΢ Π. ΦΑΛΖΡΟΤ','ΓΖΜΟ΢ ΠΑΗΑΝΗΑ΢','ΓΖΜΟ΢ ΠΑΛΛΖΝΖ΢','ΓΖΜΟ΢ ΠΑΠΑΓΟΤ - ΥΟΛΑΡΓΟΤ','ΓΖΜΟ΢ ΠΔΗΡΑΗΑ','ΓΖΜΟ΢ ΠΔΝΣΔΛΖ΢','ΓΖΜΟ΢ ΠΔΡΑΜΑΣΟ΢','ΓΖΜΟ΢ ΠΔΡΗ΢ΣΔΡΗΟΤ','ΓΖΜΟ΢ ΠΔΣΡΟΤΠΟΛΖ΢','ΓΖΜΟ΢ ΠΟΡΟΤ','ΓΖΜΟ΢ ΡΑΦΖΝΑ΢ - ΠΗΚΔΡΜΗΟΤ','ΓΖΜΟ΢ ΢ΑΛΑΜΗΝΑ΢','ΓΖΜΟ΢ ΢ΑΡΧΝΗΚΟΤ','ΓΖΜΟ΢ ΢ΠΑΣΧΝ - ΑΡΣΔΜΗΓΟ΢','ΓΖΜΟ΢ ΢ΠΔΣ΢ΧΝ','ΓΖΜΟ΢ ΣΡΟΗΕΖΝΗΑ΢','ΓΖΜΟ΢ ΤΓΡΑ΢','ΓΖΜΟ΢ ΦΗΛΑΓΔΛΦΔΗΑ΢ - ΥΑΛΚΖΓΟΝΑ΢','ΓΖΜΟ΢ ΦΗΛΟΘΔΖ΢ - ΦΤΥΗΚΟΤ','ΓΖΜΟ΢ ΦΤΛΖ΢','ΓΖΜΟ΢ ΥΑΗΓΑΡΗΟΤ','ΓΖΜΟ΢ ΥΑΛΑΝΓΡΗΟΤ','ΓΖΜΟ΢ ΧΡΧΠΟΤ','Γενικά ΢ύνολα Δήμων Περιφέρειας Αττικής'],\n",
        "                                                                              ['ΔΗΜΟΣ ΑΓΙΑΣ ΒΑΡΒΑΡΑΣ','ΔΗΜΟΣ ΑΓΙΟΥ ΔΗΜΗΤΡΙΟΥ','ΔΗΜΟΣ ΑΓΙΑΣ ΠΑΡΑΣΚΕΥΗΣ','ΔΗΜΟΣ ΑΓΙΩΝ ΑΝΑΡΓΥΡΩΝ-ΚΑΜΑΤΕΡΟΥ','ΔΗΜΟΣ ΑΓΚΙΣΤΡΙΟΥ','ΔΗΜΟΣ ΑΘΗΝΑΙΩΝ','ΔΗΜΟΣ ΑΙΓΑΛΕΩ','ΔΗΜΟΣ ΑΙΓΙΝΑΣ','ΔΗΜΟΣ ΑΛΙΜΟΥ','ΔΗΜΟΣ ΑΜΑΡΟΥΣΙΟΥ','ΔΗΜΟΣ ΑΣΠΡΟΠΥΡΓΟΥ','ΔΗΜΟΣ ΑΧΑΡΝΩΝ','ΔΗΜΟΣ ΒΑΡΗΣ - ΒΟΥΛΑΣ - ΒΟΥΛΙΑΓΜΕΝΗΣ','ΔΗΜΟΣ ΒΡΙΛΗΣΣΙΩΝ','ΔΗΜΟΣ ΒΥΡΩΝΑ','ΔΗΜΟΣ ΓΑΛΑΤΣΙΟΥ','ΔΗΜΟΣ ΓΛΥΦΑΔΑΣ','ΔΗΜΟΣ ΔΑΦΝΗΣ - ΥΜΗΤΤΟΥ', 'ΔΗΜΟΣ ΔΙΟΝΥΣΟΥ','ΔΗΜΟΣ ΕΛΕΥΣΙΝΑΣ','ΔΗΜΟΣ ΕΛΛΗΝΙΚΟΥ - ΑΡΓΥΡΟΥΠΟΛΗΣ','ΔΗΜΟΣ ΖΩΓΡΑΦΟΥ','ΔΗΜΟΣ ΗΛΙΟΥΠΟΛΗΣ','ΔΗΜΟΣ ΗΡΑΚΛΕΙΟΥ','ΔΗΜΟΣ ΙΛΙΟΥ','ΔΗΜΟΣ ΚΑΙΣΑΡΙΑΝΗΣ','ΔΗΜΟΣ ΚΑΛΛΙΘΕΑΣ','ΔΗΜΟΣ ΚΕΡΑΤΣΙΝΙΟΥ - ΔΡΑΠΕΤΣΩΝΑΣ','ΔΗΜΟΣ ΚΗΦΙΣΙΑΣ','ΔΗΜΟΣ ΚΟΡΥΔΑΛΛΟΥ','ΔΗΜΟΣ ΚΡΩΠΙΑΣ','ΔΗΜΟΣ ΚΥΘΗΡΩΝ','ΔΗΜΟΣ ΛΑΥΡΕΩΤΙΚΗΣ','ΔΗΜΟΣ ΛΥΚΟΒΡΥΣΗΣ - ΠΕΥΚΗΣ','ΔΗΜΟΣ ΜΑΝΔΡΑΣ - ΕΙΔΥΛΛΙΑΣ','ΔΗΜΟΣ ΜΑΡΑΘΩΝΑ','ΔΗΜΟΣ ΜΑΡΚΟΠΟΥΛΟΥ ΜΕΣΟΓΑΙΑΣ','ΔΗΜΟΣ ΜΕΓΑΡΕΩΝ','ΔΗΜΟΣ ΜΕΤΑΜΟΡΦΩΣΗΣ','ΔΗΜΟΣ ΜΟΣΧΑΤΟΥ - ΤΑΥΡΟΥ','ΔΗΜΟΣ ΝΕΑΣ ΙΩΝΙΑΣ','ΔΗΜΟΣ ΝΕΑΣ ΣΜΥΡΝΗΣ','ΔΗΜΟΣ ΝΙΚΑΙΑΣ - ΑΓΙΟΥ ΙΩΑΝΝΗ ΡΕΝΤΗ','ΔΗΜΟΣ ΠΑΛΑΙΟΥ ΦΑΛΗΡΟΥ','ΔΗΜΟΣ ΠΑΙΑΝΙΑΣ','ΔΗΜΟΣ ΠΑΛΛΗΝΗΣ','ΔΗΜΟΣ ΠΑΠΑΓΟΥ - ΧΟΛΑΡΓΟΥ','ΔΗΜΟΣ ΠΕΙΡΑΙΑ','ΔΗΜΟΣ ΠΕΝΤΕΛΗΣ','ΔΗΜΟΣ ΠΕΡΑΜΑΤΟΣ','ΔΗΜΟΣ ΠΕΡΙΣΤΕΡΙΟΥ','ΔΗΜΟΣ ΠΕΤΡΟΥΠΟΛΗΣ','ΔΗΜΟΣ ΠΟΡΟΥ','ΔΗΜΟΣ ΡΑΦΗΝΑΣ - ΠΙΚΕΡΜΙΟΥ','ΔΗΜΟΣ ΣΑΛΑΜΙΝΑΣ','ΔΗΜΟΣ ΣΑΡΩΝΙΚΟΥ','ΔΗΜΟΣ ΣΠΑΤΩΝ - ΑΡΤΕΜΙΔΟΣ','ΔΗΜΟΣ ΣΠΕΤΣΩΝ','ΔΗΜΟΣ ΤΡΟΙΖΗΝΙΑΣ','ΔΗΜΟΣ ΥΔΡΑΣ','ΔΗΜΟΣ ΦΙΛΑΔΕΛΦΙΑΣ - ΧΑΛΚΗΔΟΝΑΣ','ΔΗΜΟΣ ΦΙΛΟΘΕΗΣ - ΨΥΧΙΚΟΥ','ΔΗΜΟΣ ΦΥΛΗΣ','ΔΗΜΟΣ ΧΑΪΔΑΡΙΟΥ','ΔΗΜΟΣ ΧΑΛΑΝΔΡΙΟΥ','ΔΗΜΟΣ ΩΡΟΠΟΥ','ΓΕΝΙΚΑ ΣΥΝΟΛΑ ΔΗΜΩΝ ΠΕΡΙΦΕΡΕΙΑΣ ΑΤΤΙΚΗΣ'])"
      ],
      "execution_count": null,
      "outputs": []
    },
    {
      "cell_type": "code",
      "metadata": {
        "id": "DDv4VEZ79wYO"
      },
      "source": [
        "# Create dataframe \n",
        "analisi_ana_dimo_2016_df1 = pd.read_excel('/gdrive/My Drive/Colab Notebooks/Files/Thesis - Datasets & Reports/EDSNA/2016/EXCEL (converted files)/2016 Ανάλυση ανά Δήμο.xlsx', sheet_name='Table 1')"
      ],
      "execution_count": null,
      "outputs": []
    },
    {
      "cell_type": "code",
      "metadata": {
        "id": "vFGRY-QbZm02"
      },
      "source": [
        "# Delete column\n",
        "del analisi_ana_dimo_2016_df1['Unnamed: 8']"
      ],
      "execution_count": null,
      "outputs": []
    },
    {
      "cell_type": "code",
      "metadata": {
        "id": "EVAOlU7tZo9m"
      },
      "source": [
        "# Rename columns\n",
        "analisi_ana_dimo_2016_df1.rename(columns = {'ΠΗΝΑΚΑ΢ 1: Α΢Α & ΠΡΑ΢ΗΝΟ (kg) ΓΖΜΧΝ ΢ΣΟΝ ΔΓ΢ΝΑ - ποζόηηηες τωρίς σπολείμμαηα μπλε κάδων από ΚΓΑΤ':'ΔΗΜΟΣ', 'Unnamed: 1':'ΠΡΟΣ ΧΥΤΑ', \n",
        "                              'Unnamed: 2':'ΠΡΟΣ ΣΜΑ', 'Unnamed: 3':'ΠΡΟΣ ΕΜΑ ΑΠΟΡΡΙΜΜΑΤΑ', 'Unnamed: 4':'ΠΡΟΣ ΕΜΑ ΠΡΑΣΙΝΑ', 'Unnamed: 5':'ΠΡΟΣ ΕΜΑ ΠΡΟΔΙΑΛΕΓΜΕΝΑ BIO WASTE', \n",
        "                              'Unnamed: 6':'ΠΡΟΣ ΕΜΑ ΠΙΛΟΤΙΚΗ ΑΝΑΚΥΚΛΩΣΗ', 'Unnamed: 7': 'ΠΡΟΣ ΕΜΑ ΛΑΪΚΕΣ ΑΓΟΡΕΣ', '2016':'ΣΥΝΟΛΟ'}, inplace = True)"
      ],
      "execution_count": null,
      "outputs": []
    },
    {
      "cell_type": "code",
      "metadata": {
        "id": "YeJIPQwSnBo4"
      },
      "source": [
        "# Rename last column \n",
        "analisi_ana_dimo_2016_df1.rename(columns={ analisi_ana_dimo_2016_df1.columns[8]: \"ΣΥΝΟΛΟ\" }, inplace = True)"
      ],
      "execution_count": null,
      "outputs": []
    },
    {
      "cell_type": "code",
      "metadata": {
        "id": "cZe_pCwsZsF3"
      },
      "source": [
        "# Delete first row\n",
        "analisi_ana_dimo_2016_df1 = analisi_ana_dimo_2016_df1.iloc[1:] "
      ],
      "execution_count": null,
      "outputs": []
    },
    {
      "cell_type": "code",
      "metadata": {
        "id": "kmtubfb5haGh"
      },
      "source": [
        "# Create dataframe \n",
        "analisi_ana_dimo_2016_df2 = pd.read_excel('/gdrive/My Drive/Colab Notebooks/Files/Thesis - Datasets & Reports/EDSNA/2016/EXCEL (converted files)/2016 Ανάλυση ανά Δήμο.xlsx', sheet_name='Table 2')"
      ],
      "execution_count": null,
      "outputs": []
    },
    {
      "cell_type": "code",
      "metadata": {
        "id": "ELNAMzxkiaye"
      },
      "source": [
        "# Rename columns\n",
        "analisi_ana_dimo_2016_df2.rename(columns = {'ΔΗΜΟ΢':'ΔΗΜΟΣ', 'ΠΡΟ΢ ΥΤΣΑ':'ΠΡΟΣ ΧΥΤΑ', 'ΠΡΟ΢ ΢ΜΑ':'ΠΡΟΣ ΣΜΑ', 'ΠΡΟ΢ ΕΜΑ ΑΠΟΡΡΙΜΜΑΣΑ':'ΠΡΟΣ ΕΜΑ ΑΠΟΡΡΙΜΜΑΤΑ', \n",
        "                                            'ΠΡΟ΢ ΕΜΑ ΠΡΑ΢ΙΝΑ':'ΠΡΟΣ ΕΜΑ ΠΡΑΣΙΝΑ', 'ΠΡΟ΢ ΕΜΑ ΟΡΓΑΝΙΚΑ\\nΠΡΟΔΙΑΛΕΓΜΕΝΑ BIO WASTE':'ΠΡΟΣ ΕΜΑ ΠΡΟΔΙΑΛΕΓΜΕΝΑ BIO WASTE', 'ΠΡΟ΢ ΕΜΑ ΠΙΛΟΣΙΚΗ ΑΝΑΚΤ- ΚΛΩ΢Η':'ΠΡΟΣ ΕΜΑ ΠΙΛΟΤΙΚΗ ΑΝΑΚΥΚΛΩΣΗ', 'ΠΡΟ΢ ΕΜΑ ΛΑΪΚΕ΢ ΑΓΟΡΕ΢':'ΠΡΟΣ ΕΜΑ ΛΑΪΚΕΣ ΑΓΟΡΕΣ','΢ΤΝΟΛΟ':'ΣΥΝΟΛΟ'}, inplace = True)"
      ],
      "execution_count": null,
      "outputs": []
    },
    {
      "cell_type": "code",
      "metadata": {
        "id": "dddmvTfdkpj6"
      },
      "source": [
        "# Delete column\n",
        "del analisi_ana_dimo_2016_df2['Unnamed: 8']"
      ],
      "execution_count": null,
      "outputs": []
    },
    {
      "cell_type": "code",
      "metadata": {
        "id": "lNWX1Tmnkr0Z"
      },
      "source": [
        "# Create dataframe \n",
        "analisi_ana_dimo_2016_df3 = pd.read_excel('/gdrive/My Drive/Colab Notebooks/Files/Thesis - Datasets & Reports/EDSNA/2016/EXCEL (converted files)/2016 Ανάλυση ανά Δήμο.xlsx', sheet_name='Table 3')"
      ],
      "execution_count": null,
      "outputs": []
    },
    {
      "cell_type": "code",
      "metadata": {
        "id": "YTEfeG3ElQd3"
      },
      "source": [
        "# Rename columns\n",
        "analisi_ana_dimo_2016_df3.rename(columns = {'ΔΗΜΟ΢':'ΔΗΜΟΣ', 'ΠΡΟ΢ ΥΤΣΑ':'ΠΡΟΣ ΧΥΤΑ', 'ΠΡΟ΢ ΢ΜΑ':'ΠΡΟΣ ΣΜΑ', 'ΠΡΟ΢ ΕΜΑ ΑΠΟΡΡΙΜΜΑΣΑ':'ΠΡΟΣ ΕΜΑ ΑΠΟΡΡΙΜΜΑΤΑ', \n",
        "                                            'ΠΡΟ΢ ΕΜΑ ΠΡΑ΢ΙΝΑ':'ΠΡΟΣ ΕΜΑ ΠΡΑΣΙΝΑ', 'ΠΡΟ΢ ΕΜΑ ΟΡΓΑΝΙΚΑ\\nΠΡΟΔΙΑΛΕΓΜΕΝΑ BIO WASTE':'ΠΡΟΣ ΕΜΑ ΠΡΟΔΙΑΛΕΓΜΕΝΑ BIO WASTE', 'ΠΡΟ΢ ΕΜΑ ΠΙΛΟΣΙΚΗ ΑΝΑΚΤ- ΚΛΩ΢Η':'ΠΡΟΣ ΕΜΑ ΠΙΛΟΤΙΚΗ ΑΝΑΚΥΚΛΩΣΗ', 'ΠΡΟ΢ ΕΜΑ ΛΑΪΚΕ΢ ΑΓΟΡΕ΢':'ΠΡΟΣ ΕΜΑ ΛΑΪΚΕΣ ΑΓΟΡΕΣ','΢ΤΝΟΛΟ':'ΣΥΝΟΛΟ'}, inplace = True)"
      ],
      "execution_count": null,
      "outputs": []
    },
    {
      "cell_type": "code",
      "metadata": {
        "id": "s7nJLswCmPYt"
      },
      "source": [
        "# Delete column\n",
        "del analisi_ana_dimo_2016_df3['Unnamed: 8']"
      ],
      "execution_count": null,
      "outputs": []
    },
    {
      "cell_type": "code",
      "metadata": {
        "id": "_cjOiIHHpNWi"
      },
      "source": [
        "# Drop last row\n",
        "analisi_ana_dimo_2016_df3 = analisi_ana_dimo_2016_df3.drop([16], axis=0)"
      ],
      "execution_count": null,
      "outputs": []
    },
    {
      "cell_type": "code",
      "metadata": {
        "id": "AkJO9_f5mblp"
      },
      "source": [
        "# Concatenate\n",
        "analisi_ana_dimo_2016_df = pd.concat([analisi_ana_dimo_2016_df1, analisi_ana_dimo_2016_df2, analisi_ana_dimo_2016_df3], axis=0)"
      ],
      "execution_count": null,
      "outputs": []
    },
    {
      "cell_type": "code",
      "metadata": {
        "id": "G50Agql2Vx14"
      },
      "source": [
        "# Replace values (unicode encoding issue)\n",
        "analisi_ana_dimo_2016_df['ΔΗΜΟΣ'] = analisi_ana_dimo_2016_df['ΔΗΜΟΣ'].replace(['ΓΖΜΟ΢ ΑΓ.ΒΑΡΒΑΡΑ΢','ΓΖΜΟ΢ ΑΓ.ΓΖΜΖΣΡΗΟΤ','ΓΖΜΟ΢ ΑΓ.ΠΑΡΑ΢ΚΔΤΖ΢','ΓΖΜΟ΢ ΑΓΗΧΝ ΑΝΑΡΓΤΡΧΝ - ΚΑΜΑΣΔΡΟΤ','ΓΖΜΟ΢ ΑΓΚΗ΢ΣΡΗΟΤ','ΓΖΜΟ΢ ΑΘΖΝΑΗΧΝ','ΓΖΜΟ΢ ΑΗΓΑΛΔΧ','ΓΖΜΟ΢ ΑΗΓΗΝΑ΢','ΓΖΜΟ΢ ΑΛΗΜΟΤ','ΓΖΜΟ΢ ΑΜΑΡΟΤ΢ΗΟΤ','ΓΖΜΟ΢ Α΢ΠΡΟΠΤΡΓΟΤ','ΓΖΜΟ΢ ΑΥΑΡΝΧΝ','ΓΖΜΟ΢ ΒΑΡΖ΢ - ΒΟΤΛΑ΢ - ΒΟΤΛΗΑΓΜΔΝΖ΢','ΓΖΜΟ΢ ΒΡΗΛΖ΢΢ΗΧΝ','ΓΖΜΟ΢ ΒΤΡΧΝΑ','ΓΖΜΟ΢ ΓΑΛΑΣ΢ΗΟΤ','ΓΖΜΟ΢ ΓΛΤΦΑΓΑ΢','ΓΖΜΟ΢ ΓΑΦΝΖ΢ - ΤΜΖΣΣΟΤ','ΓΖΜΟ΢ ΓΗΟΝΤ΢ΟΤ','ΓΖΜΟ΢ ΔΛΔΤ΢ΗΝΑ΢','ΓΖΜΟ΢ ΔΛΛΖΝΗΚΟΤ - ΑΡΓΤΡΟΤΠΟΛΖ΢','ΔΗΜΟ΢ ΖΩΓΡΑΦΟΥ','ΓΖΜΟ΢ ΖΛΗΟΤΠΟΛΖ΢','ΓΖΜΟ΢ ΖΡΑΚΛΔΗΟΤ','ΓΖΜΟ΢ ΗΛΗΟΤ','ΓΖΜΟ΢ ΚΑΗ΢ΑΡΗΑΝΖ΢','ΓΖΜΟ΢ ΚΑΛΛΗΘΔΑ΢','ΓΖΜΟ΢ ΚΔΡΑΣ΢ΗΝΗΟΤ - ΓΡΑΠΔΣ΢ΧΝΑ΢','ΓΖΜΟ΢ ΚΖΦΗ΢ΗΑ΢','ΓΖΜΟ΢ ΚΟΡΤΓΑΛΛΟΤ','ΓΖΜΟ΢ ΚΡΧΠΗΑ΢','ΓΖΜΟ΢ ΚΤΘΖΡΧΝ','ΓΖΜΟ΢ ΛΑΤΡΔΧΣΗΚΖ΢','ΓΖΜΟ΢ ΛΤΚΟΒΡΤ΢Ζ΢ - ΠΔΤΚΖ΢','ΓΖΜΟ΢ ΜΑΝΓΡΑ΢ - ΔΗΓΤΛΛΗΑ΢','ΓΖΜΟ΢ ΜΑΡΑΘΧΝΑ','ΓΖΜΟ΢ ΜΑΡΚΟΠΟΤΛΟΤ ΜΔ΢ΟΓΑΗΑ΢','ΓΖΜΟ΢ ΜΔΓΑΡΔΧΝ','ΓΖΜΟ΢ ΜΔΣΑΜΟΡΦΧ΢Ζ΢','ΓΖΜΟ΢ ΜΟ΢ΥΑΣΟΤ - ΣΑΤΡΟΤ','ΓΖΜΟ΢ Ν. ΗΧΝΗΑ΢','ΓΖΜΟ΢ Ν.΢ΜΤΡΝΖ΢','ΓΖΜΟ΢ ΝΗΚΑΗΑ΢ - ΑΓ. Η. ΡΔΝΣΖ','ΓΖΜΟ΢ Π. ΦΑΛΖΡΟΤ','ΓΖΜΟ΢ ΠΑΗΑΝΗΑ΢','ΔΗΜΟ΢ ΠΑΛΛΗΝΗ΢','ΓΖΜΟ΢ ΠΑΠΑΓΟΤ - ΥΟΛΑΡΓΟΤ','ΓΖΜΟ΢ ΠΔΗΡΑΗΑ','ΓΖΜΟ΢ ΠΔΝΣΔΛΖ΢','ΓΖΜΟ΢ ΠΔΡΑΜΑΣΟ΢','ΓΖΜΟ΢ ΠΔΡΗ΢ΣΔΡΗΟΤ','ΓΖΜΟ΢ ΠΔΣΡΟΤΠΟΛΖ΢','ΓΖΜΟ΢ ΠΟΡΟΤ','ΓΖΜΟ΢ ΡΑΦΖΝΑ΢ - ΠΗΚΔΡΜΗΟΤ','ΓΖΜΟ΢ ΢ΑΛΑΜΗΝΑ΢','ΓΖΜΟ΢ ΢ΑΡΧΝΗΚΟΤ','ΓΖΜΟ΢ ΢ΠΑΣΧΝ - ΑΡΣΔΜΗΓΟ΢','ΓΖΜΟ΢ ΢ΠΔΣ΢ΧΝ','ΓΖΜΟ΢ ΣΡΟΗΕΖΝΗΑ΢','ΓΖΜΟ΢ ΤΓΡΑ΢','ΓΖΜΟ΢ ΦΗΛΑΓΔΛΦΔΗΑ΢ - ΥΑΛΚΖΓΟΝΑ΢','ΓΖΜΟ΢ ΦΗΛΟΘΔΖ΢ - ΦΤΥΗΚΟΤ','ΓΖΜΟ΢ ΦΤΛΖ΢','ΓΖΜΟ΢ ΥΑΗΓΑΡΗΟΤ','ΓΖΜΟ΢ ΥΑΛΑΝΓΡΗΟΤ','ΓΖΜΟ΢ ΧΡΧΠΟΤ','Γενικά ΢ύνολα Δήμων Περιφέρειας Αττικής'],\n",
        "                                                                              ['ΔΗΜΟΣ ΑΓΙΑΣ ΒΑΡΒΑΡΑΣ','ΔΗΜΟΣ ΑΓΙΟΥ ΔΗΜΗΤΡΙΟΥ','ΔΗΜΟΣ ΑΓΙΑΣ ΠΑΡΑΣΚΕΥΗΣ','ΔΗΜΟΣ ΑΓΙΩΝ ΑΝΑΡΓΥΡΩΝ-ΚΑΜΑΤΕΡΟΥ','ΔΗΜΟΣ ΑΓΚΙΣΤΡΙΟΥ','ΔΗΜΟΣ ΑΘΗΝΑΙΩΝ','ΔΗΜΟΣ ΑΙΓΑΛΕΩ','ΔΗΜΟΣ ΑΙΓΙΝΑΣ','ΔΗΜΟΣ ΑΛΙΜΟΥ','ΔΗΜΟΣ ΑΜΑΡΟΥΣΙΟΥ','ΔΗΜΟΣ ΑΣΠΡΟΠΥΡΓΟΥ','ΔΗΜΟΣ ΑΧΑΡΝΩΝ','ΔΗΜΟΣ ΒΑΡΗΣ - ΒΟΥΛΑΣ - ΒΟΥΛΙΑΓΜΕΝΗΣ','ΔΗΜΟΣ ΒΡΙΛΗΣΣΙΩΝ','ΔΗΜΟΣ ΒΥΡΩΝΑ','ΔΗΜΟΣ ΓΑΛΑΤΣΙΟΥ','ΔΗΜΟΣ ΓΛΥΦΑΔΑΣ','ΔΗΜΟΣ ΔΑΦΝΗΣ - ΥΜΗΤΤΟΥ', 'ΔΗΜΟΣ ΔΙΟΝΥΣΟΥ','ΔΗΜΟΣ ΕΛΕΥΣΙΝΑΣ','ΔΗΜΟΣ ΕΛΛΗΝΙΚΟΥ - ΑΡΓΥΡΟΥΠΟΛΗΣ','ΔΗΜΟΣ ΖΩΓΡΑΦΟΥ','ΔΗΜΟΣ ΗΛΙΟΥΠΟΛΗΣ','ΔΗΜΟΣ ΗΡΑΚΛΕΙΟΥ','ΔΗΜΟΣ ΙΛΙΟΥ','ΔΗΜΟΣ ΚΑΙΣΑΡΙΑΝΗΣ','ΔΗΜΟΣ ΚΑΛΛΙΘΕΑΣ','ΔΗΜΟΣ ΚΕΡΑΤΣΙΝΙΟΥ - ΔΡΑΠΕΤΣΩΝΑΣ','ΔΗΜΟΣ ΚΗΦΙΣΙΑΣ','ΔΗΜΟΣ ΚΟΡΥΔΑΛΛΟΥ','ΔΗΜΟΣ ΚΡΩΠΙΑΣ','ΔΗΜΟΣ ΚΥΘΗΡΩΝ','ΔΗΜΟΣ ΛΑΥΡΕΩΤΙΚΗΣ','ΔΗΜΟΣ ΛΥΚΟΒΡΥΣΗΣ - ΠΕΥΚΗΣ','ΔΗΜΟΣ ΜΑΝΔΡΑΣ - ΕΙΔΥΛΛΙΑΣ','ΔΗΜΟΣ ΜΑΡΑΘΩΝΑ','ΔΗΜΟΣ ΜΑΡΚΟΠΟΥΛΟΥ ΜΕΣΟΓΑΙΑΣ','ΔΗΜΟΣ ΜΕΓΑΡΕΩΝ','ΔΗΜΟΣ ΜΕΤΑΜΟΡΦΩΣΗΣ','ΔΗΜΟΣ ΜΟΣΧΑΤΟΥ - ΤΑΥΡΟΥ','ΔΗΜΟΣ ΝΕΑΣ ΙΩΝΙΑΣ','ΔΗΜΟΣ ΝΕΑΣ ΣΜΥΡΝΗΣ','ΔΗΜΟΣ ΝΙΚΑΙΑΣ - ΑΓΙΟΥ ΙΩΑΝΝΗ ΡΕΝΤΗ','ΔΗΜΟΣ ΠΑΛΑΙΟΥ ΦΑΛΗΡΟΥ','ΔΗΜΟΣ ΠΑΙΑΝΙΑΣ','ΔΗΜΟΣ ΠΑΛΛΗΝΗΣ','ΔΗΜΟΣ ΠΑΠΑΓΟΥ - ΧΟΛΑΡΓΟΥ','ΔΗΜΟΣ ΠΕΙΡΑΙΑ','ΔΗΜΟΣ ΠΕΝΤΕΛΗΣ','ΔΗΜΟΣ ΠΕΡΑΜΑΤΟΣ','ΔΗΜΟΣ ΠΕΡΙΣΤΕΡΙΟΥ','ΔΗΜΟΣ ΠΕΤΡΟΥΠΟΛΗΣ','ΔΗΜΟΣ ΠΟΡΟΥ','ΔΗΜΟΣ ΡΑΦΗΝΑΣ - ΠΙΚΕΡΜΙΟΥ','ΔΗΜΟΣ ΣΑΛΑΜΙΝΑΣ','ΔΗΜΟΣ ΣΑΡΩΝΙΚΟΥ','ΔΗΜΟΣ ΣΠΑΤΩΝ - ΑΡΤΕΜΙΔΟΣ','ΔΗΜΟΣ ΣΠΕΤΣΩΝ','ΔΗΜΟΣ ΤΡΟΙΖΗΝΙΑΣ','ΔΗΜΟΣ ΥΔΡΑΣ','ΔΗΜΟΣ ΦΙΛΑΔΕΛΦΙΑΣ - ΧΑΛΚΗΔΟΝΑΣ','ΔΗΜΟΣ ΦΙΛΟΘΕΗΣ - ΨΥΧΙΚΟΥ','ΔΗΜΟΣ ΦΥΛΗΣ','ΔΗΜΟΣ ΧΑΪΔΑΡΙΟΥ','ΔΗΜΟΣ ΧΑΛΑΝΔΡΙΟΥ','ΔΗΜΟΣ ΩΡΟΠΟΥ','ΓΕΝΙΚΑ ΣΥΝΟΛΑ ΔΗΜΩΝ ΠΕΡΙΦΕΡΕΙΑΣ ΑΤΤΙΚΗΣ'])"
      ],
      "execution_count": null,
      "outputs": []
    },
    {
      "cell_type": "code",
      "metadata": {
        "id": "EI3ufuKt-wma"
      },
      "source": [
        "# Create dataframe \n",
        "analisi_ana_dimo_2017_df1 = pd.read_excel('/gdrive/My Drive/Colab Notebooks/Files/Thesis - Datasets & Reports/EDSNA/2017/EXCEL (converted files)/Ανάλυση ανά Δήμο 2017 2016.xlsx', sheet_name='Table 1')"
      ],
      "execution_count": null,
      "outputs": []
    },
    {
      "cell_type": "code",
      "metadata": {
        "id": "Wjt8byNVIzvI"
      },
      "source": [
        "# Delete first row\n",
        "analisi_ana_dimo_2017_df1 = analisi_ana_dimo_2017_df1.iloc[1:] "
      ],
      "execution_count": null,
      "outputs": []
    },
    {
      "cell_type": "code",
      "metadata": {
        "id": "EPp0hS8lI3_O"
      },
      "source": [
        "# Rename columns\n",
        "analisi_ana_dimo_2017_df1.rename(columns = {'ΠΙΝΑΚΑ΢ 3: Α΢Α & ΠΡΑ΢ΙΝΟ (kg) ΔΗΜΩΝ ΢ΣΟΝ ΕΔ΢ΝΑ - σσνολικές ποσότητες 2017 και σύγκριση με 2016':'ΔΗΜΟΣ', 'Unnamed: 1':'ΠΡΟΣ ΧΥΤΑ', \n",
        "                              'Unnamed: 2':'ΠΡΟΣ ΣΜΑ', 'Unnamed: 3':'ΠΡΟΣ ΕΜΑ ΑΠΟΡΡΙΜΜΑΤΑ', 'Unnamed: 4':'ΠΡΟΣ ΕΜΑ ΠΡΑΣΙΝΑ', 'Unnamed: 5':'ΠΡΟΣ ΕΜΑ ΟΡΓΑΝΙΚΑ ΠΡΟΔΙΑΛΕΓΜΕΝΑ', \n",
        "                              'Unnamed: 6':'ΠΡΟΣ ΕΜΑ ΠΙΛΟΤΙΚΗ ΑΝΑΚΥΚΛΩΣΗ', 'Unnamed: 7':'ΠΡΟΣ ΕΜΑ ΛΑΪΚΕΣ ΑΓΟΡΕΣ', 'Unnamed: 8':'ΠΡΟΣ ΧΥΤΑ ΑΠΟ ΚΔΑΥ', 'Unnamed: 9':'ΣΥΝΟΛΟ 2017', 'Unnamed: 11':'ΣΥΝΟΛΟ 2016', 'Unnamed: 12':'2017-2016', 'Unnamed: 13':'ΜΕΤΑΒΟΛΗ 2017 ΣΕ ΣΧΕΣΗ ΜΕ 2016'}, inplace = True)"
      ],
      "execution_count": null,
      "outputs": []
    },
    {
      "cell_type": "code",
      "metadata": {
        "id": "IL0xV58uLs2b"
      },
      "source": [
        "# Delete column \"Unnamed 10\" since it doesn't have data\n",
        "del analisi_ana_dimo_2017_df1['Unnamed: 10']"
      ],
      "execution_count": null,
      "outputs": []
    },
    {
      "cell_type": "code",
      "metadata": {
        "id": "BDXmxpo9tBNC"
      },
      "source": [
        "# Drop rows by index (replicated rows due to unicode encoding issue)\n",
        "analisi_ana_dimo_2017_df1 = analisi_ana_dimo_2017_df1.drop(analisi_ana_dimo_2017_df1.index[[4, 14, 23, 31, 38, 42]])"
      ],
      "execution_count": null,
      "outputs": []
    },
    {
      "cell_type": "code",
      "metadata": {
        "id": "BkLFVng6MCDP"
      },
      "source": [
        "# Create dataframe \n",
        "analisi_ana_dimo_2017_df2 = pd.read_excel('/gdrive/My Drive/Colab Notebooks/Files/Thesis - Datasets & Reports/EDSNA/2017/EXCEL (converted files)/Ανάλυση ανά Δήμο 2017 2016.xlsx', sheet_name='Table 2')"
      ],
      "execution_count": null,
      "outputs": []
    },
    {
      "cell_type": "code",
      "metadata": {
        "id": "flDUdBeJMEWX"
      },
      "source": [
        "# Rename columns\n",
        "analisi_ana_dimo_2017_df2.rename(columns = {'ΔΗΜΟ΢':'ΔΗΜΟΣ', 'ΠΡΟ΢ ΥΤΣΑ':'ΠΡΟΣ ΧΥΤΑ', \n",
        "                              'ΠΡΟ΢ ΢ΜΑ':'ΠΡΟΣ ΣΜΑ', 'ΠΡΟ΢ ΕΜΑ ΑΠΟΡΡΙΜΜΑ- ΣΑ':'ΠΡΟΣ ΕΜΑ ΑΠΟΡΡΙΜΜΑΤΑ', 'ΠΡΟ΢ ΕΜΑ ΠΡΑ΢ΙΝΑ':'ΠΡΟΣ ΕΜΑ ΠΡΑΣΙΝΑ', 'ΠΡΟ΢ ΕΜΑ ΟΡΓΑΝΙΚΑ ΠΡΟΔΙΑΛΕΓ- ΜΕΝΑ':'ΠΡΟΣ ΕΜΑ ΟΡΓΑΝΙΚΑ ΠΡΟΔΙΑΛΕΓΜΕΝΑ', \n",
        "                              'ΠΡΟ΢ ΕΜΑ ΠΙΛΟΣΙΚΗ ΑΝΑΚΤ- ΚΛΩ΢Η':'ΠΡΟΣ ΕΜΑ ΠΙΛΟΤΙΚΗ ΑΝΑΚΥΚΛΩΣΗ', 'ΠΡΟ΢ ΕΜΑ ΛΑΪΚΕ΢ ΑΓΟΡΕ΢':'ΠΡΟΣ ΕΜΑ ΛΑΪΚΕΣ ΑΓΟΡΕΣ', 'ΠΡΟ΢ ΥΤΣΑ ΑΠΟ ΚΔΑΤ':'ΠΡΟΣ ΧΥΤΑ ΑΠΟ ΚΔΑΥ', '΢ΤΝΟΛΟ 2017':'ΣΥΝΟΛΟ 2017', 'Μεταβολή 2017 σε σχέση με 2016':'ΜΕΤΑΒΟΛΗ 2017 ΣΕ ΣΧΕΣΗ ΜΕ 2016'}, inplace = True)"
      ],
      "execution_count": null,
      "outputs": []
    },
    {
      "cell_type": "code",
      "metadata": {
        "id": "yqDh48sgTWxy"
      },
      "source": [
        "# Delete last rows\n",
        "analisi_ana_dimo_2017_df2 = analisi_ana_dimo_2017_df2.iloc[:-6] "
      ],
      "execution_count": null,
      "outputs": []
    },
    {
      "cell_type": "code",
      "metadata": {
        "id": "omo94nM9MF6Y"
      },
      "source": [
        "# Delete column\n",
        "del analisi_ana_dimo_2017_df2['Unnamed: 10']"
      ],
      "execution_count": null,
      "outputs": []
    },
    {
      "cell_type": "code",
      "metadata": {
        "id": "X5fe3RtBZkqs"
      },
      "source": [
        "# Concatenate\n",
        "analisi_ana_dimo_2017_df = pd.concat([analisi_ana_dimo_2017_df1, analisi_ana_dimo_2017_df2], axis=0)"
      ],
      "execution_count": null,
      "outputs": []
    },
    {
      "cell_type": "code",
      "metadata": {
        "id": "bn2S5jgqYYGt"
      },
      "source": [
        "# Replace values (unicode encoding issue)\n",
        "analisi_ana_dimo_2017_df['ΔΗΜΟΣ'] = analisi_ana_dimo_2017_df['ΔΗΜΟΣ'].replace(['ΓΖΜΟ΢ ΑΓ.ΒΑΡΒΑΡΑ΢','ΓΖΜΟ΢ ΑΓ.ΓΖΜΖΣΡΗΟΤ','ΓΖΜΟ΢ ΑΓ.ΠΑΡΑ΢ΚΔΤΖ΢','ΓΖΜΟ΢ ΑΓΗΧΝ ΑΝΑΡΓΤΡΧΝ -','ΓΖΜΟ΢ ΑΓΚΗ΢ΣΡΗΟΤ','ΓΖΜΟ΢ ΑΘΖΝΑΗΧΝ','ΓΖΜΟ΢ ΑΗΓΑΛΔΧ','ΓΖΜΟ΢ ΑΗΓΗΝΑ΢','ΓΖΜΟ΢ ΑΛΗΜΟΤ','ΓΖΜΟ΢ ΑΜΑΡΟΤ΢ΗΟΤ','ΓΖΜΟ΢ Α΢ΠΡΟΠΤΡΓΟΤ','ΓΖΜΟ΢ ΑΥΑΡΝΧΝ','ΓΖΜΟ΢ ΒΑΡΖ΢ - ΒΟΤΛΑ΢ -','ΓΖΜΟ΢ ΒΡΗΛΖ΢΢ΗΧΝ','ΓΖΜΟ΢ ΒΤΡΧΝΑ','ΓΖΜΟ΢ ΓΑΛΑΣ΢ΗΟΤ','ΓΖΜΟ΢ ΓΛΤΦΑΓΑ΢','ΓΖΜΟ΢ ΓΑΦΝΖ΢ - ΤΜΖΣΣΟΤ','ΓΖΜΟ΢ ΓΗΟΝΤ΢ΟΤ','ΓΖΜΟ΢ ΔΛΔΤ΢ΗΝΑ΢','ΓΖΜΟ΢ ΔΛΛΖΝΗΚΟΤ -','ΓΖΜΟ΢ ΕΧΓΡΑΦΟΤ','ΓΖΜΟ΢ ΖΛΗΟΤΠΟΛΖ΢','ΓΖΜΟ΢ ΖΡΑΚΛΔΗΟΤ','ΓΖΜΟ΢ ΗΛΗΟΤ','ΓΖΜΟ΢ ΚΑΗ΢ΑΡΗΑΝΖ΢','ΓΖΜΟ΢ ΚΑΛΛΗΘΔΑ΢','ΓΖΜΟ΢ ΚΔΡΑΣ΢ΗΝΗΟΤ -','ΓΖΜΟ΢ ΚΖΦΗ΢ΗΑ΢','ΓΖΜΟ΢ ΚΟΡΤΓΑΛΛΟΤ','ΓΖΜΟ΢ ΚΡΧΠΗΑ΢','ΓΖΜΟ΢ ΚΤΘΖΡΧΝ','ΓΖΜΟ΢ ΛΑΤΡΔΧΣΗΚΖ΢','ΓΖΜΟ΢ ΛΤΚΟΒΡΤ΢Ζ΢ -','ΓΖΜΟ΢ ΜΑΝΓΡΑ΢ - ΔΗΓΤΛΛΗΑ΢','ΓΖΜΟ΢ ΜΑΡΑΘΧΝΑ','ΓΖΜΟ΢ ΜΑΡΚΟΠΟΤΛΟΤ','ΓΖΜΟ΢ ΜΔΓΑΡΔΧΝ','ΓΖΜΟ΢ ΜΔΣΑΜΟΡΦΧ΢Ζ΢','ΓΖΜΟ΢ ΜΟ΢ΥΑΣΟΤ - ΣΑΤΡΟΤ','ΓΖΜΟ΢ Ν. ΗΧΝΗΑ΢','ΓΖΜΟ΢ Ν.΢ΜΤΡΝΖ΢','ΓΖΜΟ΢ ΝΗΚΑΗΑ΢ - ΑΓ. Η. ΡΔΝΣΖ','ΓΖΜΟ΢ Π. ΦΑΛΖΡΟΤ','ΓΖΜΟ΢ ΠΑΗΑΝΗΑ΢','ΓΖΜΟ΢ ΠΑΛΛΖΝΖ΢','ΓΖΜΟ΢ ΠΑΠΑΓΟΤ - ΥΟΛΑΡΓΟΤ','ΓΖΜΟ΢ ΠΔΗΡΑΗΑ','ΓΖΜΟ΢ ΠΔΝΣΔΛΖ΢','ΓΖΜΟ΢ ΠΔΡΑΜΑΣΟ΢','ΓΖΜΟ΢ ΠΔΡΗ΢ΣΔΡΗΟΤ','ΓΖΜΟ΢ ΠΔΣΡΟΤΠΟΛΖ΢','ΓΖΜΟ΢ ΠΟΡΟΤ','ΓΖΜΟ΢ ΡΑΦΖΝΑ΢ - ΠΗΚΔΡΜΗΟΤ','ΓΖΜΟ΢ ΢ΑΛΑΜΗΝΑ΢','ΓΖΜΟ΢ ΢ΑΡΧΝΗΚΟΤ','ΓΖΜΟ΢ ΢ΠΑΣΧΝ - ΑΡΣΔΜΗΓΟ΢','ΓΖΜΟ΢ ΢ΠΔΣ΢ΧΝ','ΓΖΜΟ΢ ΣΡΟΗΕΖΝΗΑ΢','ΓΖΜΟ΢ ΤΓΡΑ΢','ΓΖΜΟ΢ ΦΗΛΑΓΔΛΦΔΗΑ΢ -\\nΥΑΛΚΖΓΟΝΑ΢','ΓΖΜΟ΢ ΦΗΛΟΘΔΖ΢ - ΦΤΥΗΚΟΤ','ΓΖΜΟ΢ ΦΤΛΖ΢','ΓΖΜΟ΢ ΥΑΗΓΑΡΗΟΤ','ΓΖΜΟ΢ ΥΑΛΑΝΓΡΗΟΤ','ΓΖΜΟ΢ ΧΡΧΠΟΤ','Γενικά ΢ύνολα Δήμων Περιφέρειας Αττικής'],\n",
        "                                                                              ['ΔΗΜΟΣ ΑΓΙΑΣ ΒΑΡΒΑΡΑΣ','ΔΗΜΟΣ ΑΓΙΟΥ ΔΗΜΗΤΡΙΟΥ','ΔΗΜΟΣ ΑΓΙΑΣ ΠΑΡΑΣΚΕΥΗΣ','ΔΗΜΟΣ ΑΓΙΩΝ ΑΝΑΡΓΥΡΩΝ-ΚΑΜΑΤΕΡΟΥ','ΔΗΜΟΣ ΑΓΚΙΣΤΡΙΟΥ','ΔΗΜΟΣ ΑΘΗΝΑΙΩΝ','ΔΗΜΟΣ ΑΙΓΑΛΕΩ','ΔΗΜΟΣ ΑΙΓΙΝΑΣ','ΔΗΜΟΣ ΑΛΙΜΟΥ','ΔΗΜΟΣ ΑΜΑΡΟΥΣΙΟΥ','ΔΗΜΟΣ ΑΣΠΡΟΠΥΡΓΟΥ','ΔΗΜΟΣ ΑΧΑΡΝΩΝ','ΔΗΜΟΣ ΒΑΡΗΣ - ΒΟΥΛΑΣ - ΒΟΥΛΙΑΓΜΕΝΗΣ','ΔΗΜΟΣ ΒΡΙΛΗΣΣΙΩΝ','ΔΗΜΟΣ ΒΥΡΩΝΑ','ΔΗΜΟΣ ΓΑΛΑΤΣΙΟΥ','ΔΗΜΟΣ ΓΛΥΦΑΔΑΣ','ΔΗΜΟΣ ΔΑΦΝΗΣ - ΥΜΗΤΤΟΥ', 'ΔΗΜΟΣ ΔΙΟΝΥΣΟΥ','ΔΗΜΟΣ ΕΛΕΥΣΙΝΑΣ','ΔΗΜΟΣ ΕΛΛΗΝΙΚΟΥ - ΑΡΓΥΡΟΥΠΟΛΗΣ','ΔΗΜΟΣ ΖΩΓΡΑΦΟΥ','ΔΗΜΟΣ ΗΛΙΟΥΠΟΛΗΣ','ΔΗΜΟΣ ΗΡΑΚΛΕΙΟΥ','ΔΗΜΟΣ ΙΛΙΟΥ','ΔΗΜΟΣ ΚΑΙΣΑΡΙΑΝΗΣ','ΔΗΜΟΣ ΚΑΛΛΙΘΕΑΣ','ΔΗΜΟΣ ΚΕΡΑΤΣΙΝΙΟΥ - ΔΡΑΠΕΤΣΩΝΑΣ','ΔΗΜΟΣ ΚΗΦΙΣΙΑΣ','ΔΗΜΟΣ ΚΟΡΥΔΑΛΛΟΥ','ΔΗΜΟΣ ΚΡΩΠΙΑΣ','ΔΗΜΟΣ ΚΥΘΗΡΩΝ','ΔΗΜΟΣ ΛΑΥΡΕΩΤΙΚΗΣ','ΔΗΜΟΣ ΛΥΚΟΒΡΥΣΗΣ - ΠΕΥΚΗΣ','ΔΗΜΟΣ ΜΑΝΔΡΑΣ - ΕΙΔΥΛΛΙΑΣ','ΔΗΜΟΣ ΜΑΡΑΘΩΝΑ','ΔΗΜΟΣ ΜΑΡΚΟΠΟΥΛΟΥ ΜΕΣΟΓΑΙΑΣ','ΔΗΜΟΣ ΜΕΓΑΡΕΩΝ','ΔΗΜΟΣ ΜΕΤΑΜΟΡΦΩΣΗΣ','ΔΗΜΟΣ ΜΟΣΧΑΤΟΥ - ΤΑΥΡΟΥ','ΔΗΜΟΣ ΝΕΑΣ ΙΩΝΙΑΣ','ΔΗΜΟΣ ΝΕΑΣ ΣΜΥΡΝΗΣ','ΔΗΜΟΣ ΝΙΚΑΙΑΣ - ΑΓΙΟΥ ΙΩΑΝΝΗ ΡΕΝΤΗ','ΔΗΜΟΣ ΠΑΛΑΙΟΥ ΦΑΛΗΡΟΥ','ΔΗΜΟΣ ΠΑΙΑΝΙΑΣ','ΔΗΜΟΣ ΠΑΛΛΗΝΗΣ','ΔΗΜΟΣ ΠΑΠΑΓΟΥ - ΧΟΛΑΡΓΟΥ','ΔΗΜΟΣ ΠΕΙΡΑΙΑ','ΔΗΜΟΣ ΠΕΝΤΕΛΗΣ','ΔΗΜΟΣ ΠΕΡΑΜΑΤΟΣ','ΔΗΜΟΣ ΠΕΡΙΣΤΕΡΙΟΥ','ΔΗΜΟΣ ΠΕΤΡΟΥΠΟΛΗΣ','ΔΗΜΟΣ ΠΟΡΟΥ','ΔΗΜΟΣ ΡΑΦΗΝΑΣ - ΠΙΚΕΡΜΙΟΥ','ΔΗΜΟΣ ΣΑΛΑΜΙΝΑΣ','ΔΗΜΟΣ ΣΑΡΩΝΙΚΟΥ','ΔΗΜΟΣ ΣΠΑΤΩΝ - ΑΡΤΕΜΙΔΟΣ','ΔΗΜΟΣ ΣΠΕΤΣΩΝ','ΔΗΜΟΣ ΤΡΟΙΖΗΝΙΑΣ','ΔΗΜΟΣ ΥΔΡΑΣ','ΔΗΜΟΣ ΦΙΛΑΔΕΛΦΙΑΣ - ΧΑΛΚΗΔΟΝΑΣ','ΔΗΜΟΣ ΦΙΛΟΘΕΗΣ - ΨΥΧΙΚΟΥ','ΔΗΜΟΣ ΦΥΛΗΣ','ΔΗΜΟΣ ΧΑΪΔΑΡΙΟΥ','ΔΗΜΟΣ ΧΑΛΑΝΔΡΙΟΥ','ΔΗΜΟΣ ΩΡΟΠΟΥ','ΓΕΝΙΚΑ ΣΥΝΟΛΑ ΔΗΜΩΝ ΠΕΡΙΦΕΡΕΙΑΣ ΑΤΤΙΚΗΣ'])"
      ],
      "execution_count": null,
      "outputs": []
    },
    {
      "cell_type": "code",
      "metadata": {
        "id": "kF55rK6T4fPg"
      },
      "source": [
        "# Create dataframe \n",
        "analisi_ana_dimo_2018_df1 = pd.read_excel('/gdrive/My Drive/Colab Notebooks/Files/Thesis - Datasets & Reports/EDSNA/2018/EXCEL (converted files)/862_Ανάλυση ανά Δήμο 2018 - 2017.xlsx', sheet_name='Table 1')"
      ],
      "execution_count": null,
      "outputs": []
    },
    {
      "cell_type": "code",
      "metadata": {
        "id": "yuhnGs454hwq"
      },
      "source": [
        "# Rename columns\n",
        "analisi_ana_dimo_2018_df1.rename(columns = {'ΠΗΝΑΚΑ΢ 3: Α΢Α & ΠΡΑ΢ΗΝΟ (kg) ΓΖΜΧΝ ΢ΣΟΝ ΔΓ΢ΝΑ - ζσνολικές ποζόηηηες 2018 και ζύγκριζη με 2017':'ΔΗΜΟΣ', 'Unnamed: 1':'ΠΡΟΣ ΧΥΤΑ', \n",
        "                              'Unnamed: 2':'ΠΡΟΣ ΣΜΑ', 'Unnamed: 3':'ΠΡΟΣ ΕΜΑ ΑΠΟΡΡΙΜΜΑΤΑ', 'Unnamed: 4':'ΠΡΟΣ ΕΜΑ ΠΡΑΣΙΝΑ', 'Unnamed: 5':'ΠΡΟΣ ΕΜΑ ΟΡΓΑΝΙΚΑ ΠΡΟΔΙΑΛΕΓΜΕΝΑ', \n",
        "                              'Unnamed: 6':'ΠΡΟΣ ΕΜΑ ΑΝΑΚΥΚΛΩΣΗ', 'Unnamed: 7':'ΠΡΟΣ ΕΜΑ ΛΑΪΚΕΣ ΑΓΟΡΕΣ', 'Unnamed: 8':'ΠΡΟΣ ΧΥΤΑ ΑΠΟ ΚΔΑΥ', 'Unnamed: 9':'ΣΥΝΟΛΟ 2018', 'Unnamed: 11':'ΣΥΝΟΛΟ 2017', 'Unnamed: 12':'ΑΠΟΛΥΤΗ ΜΕΤΑΒΟΛΗ 2018 - 2017', 'Unnamed: 13':'ΠΟΣΟΣΤΙΑΙΑ ΜΕΤΑΒΟΛΗ 2018 ΣΕ ΣΧΕΣΗ ΜΕ 2017'}, inplace = True)"
      ],
      "execution_count": null,
      "outputs": []
    },
    {
      "cell_type": "code",
      "metadata": {
        "id": "s1ArLH4w4k85"
      },
      "source": [
        "# Delete first row\n",
        "analisi_ana_dimo_2018_df1 = analisi_ana_dimo_2018_df1.iloc[1:] "
      ],
      "execution_count": null,
      "outputs": []
    },
    {
      "cell_type": "code",
      "metadata": {
        "id": "4_EOnH_m4mq8"
      },
      "source": [
        "# Delete column\n",
        "del analisi_ana_dimo_2018_df1['Unnamed: 10']"
      ],
      "execution_count": null,
      "outputs": []
    },
    {
      "cell_type": "code",
      "metadata": {
        "id": "Hp3u3Poq1iBY"
      },
      "source": [
        "# Drop rows by index (replicated rows due to unicode encoding issue)\n",
        "analisi_ana_dimo_2018_df1 = analisi_ana_dimo_2018_df1.drop(analisi_ana_dimo_2018_df1.index[[4, 14, 23, 31, 38]])"
      ],
      "execution_count": null,
      "outputs": []
    },
    {
      "cell_type": "code",
      "metadata": {
        "id": "kPMxeVzOD2DF"
      },
      "source": [
        "# Create dataframe \n",
        "analisi_ana_dimo_2018_df2 = pd.read_excel('/gdrive/My Drive/Colab Notebooks/Files/Thesis - Datasets & Reports/EDSNA/2018/EXCEL (converted files)/862_Ανάλυση ανά Δήμο 2018 - 2017.xlsx', sheet_name='Table 2')"
      ],
      "execution_count": null,
      "outputs": []
    },
    {
      "cell_type": "code",
      "metadata": {
        "id": "-yXpiMVaD3Uk"
      },
      "source": [
        "# Rename columns\n",
        "analisi_ana_dimo_2018_df2.rename(columns = {'ΔΗΜΟ΢':'ΔΗΜΟΣ', 'ΠΡΟ΢ ΥΤΣΑ':'ΠΡΟΣ ΧΥΤΑ', \n",
        "                              'ΠΡΟ΢ ΢ΜΑ':'ΠΡΟΣ ΣΜΑ', 'ΠΡΟ΢ ΕΜΑ ΑΠΟΡΡΙΜΜΑΣΑ':'ΠΡΟΣ ΕΜΑ ΑΠΟΡΡΙΜΜΑΤΑ', 'ΠΡΟ΢ ΕΜΑ ΠΡΑ΢ΙΝΑ':'ΠΡΟΣ ΕΜΑ ΠΡΑΣΙΝΑ', 'ΠΡΟ΢ ΕΜΑ ΟΡΓΑΝΙΚΑ ΠΡΟΔΙΑΛΕΓΜΕΝΑ':'ΠΡΟΣ ΕΜΑ ΟΡΓΑΝΙΚΑ ΠΡΟΔΙΑΛΕΓΜΕΝΑ', \n",
        "                              'ΠΡΟ΢ ΕΜΑ ΑΝΑΚΤ- ΚΛΩ΢Η':'ΠΡΟΣ ΕΜΑ ΑΝΑΚΥΚΛΩΣΗ', 'ΠΡΟ΢ ΕΜΑ ΛΑΪΚΕ΢ ΑΓΟΡΕ΢':'ΠΡΟΣ ΕΜΑ ΛΑΪΚΕΣ ΑΓΟΡΕΣ', 'ΠΡΟ΢ ΥΤΣΑ ΑΠΟ ΚΔΑΤ':'ΠΡΟΣ ΧΥΤΑ ΑΠΟ ΚΔΑΥ', '΢ΤΝΟΛΟ 2018':'ΣΥΝΟΛΟ 2018', '΢ΤΝΟΛΟ 2017':'ΣΥΝΟΛΟ 2017', 'Απόλυτη\\nμεταβολή 2018\\n- 2017':'ΑΠΟΛΥΤΗ ΜΕΤΑΒΟΛΗ 2018 - 2017', 'Ποσοστιαία\\nμεταβολή 2018 σε σχέση με 2017':'ΠΟΣΟΣΤΙΑΙΑ ΜΕΤΑΒΟΛΗ 2018 ΣΕ ΣΧΕΣΗ ΜΕ 2017'}, inplace = True)"
      ],
      "execution_count": null,
      "outputs": []
    },
    {
      "cell_type": "code",
      "metadata": {
        "id": "HuIePeLjD7yU"
      },
      "source": [
        "# Delete column\n",
        "del analisi_ana_dimo_2018_df2['Unnamed: 10']"
      ],
      "execution_count": null,
      "outputs": []
    },
    {
      "cell_type": "code",
      "metadata": {
        "id": "i1kBnueDE-C0"
      },
      "source": [
        "# Rename last column since it couldn't be renamed before (probably bug)\n",
        "analisi_ana_dimo_2018_df2.rename(columns={ analisi_ana_dimo_2018_df2.columns[12]: \"ΠΟΣΟΣΤΙΑΙΑ ΜΕΤΑΒΟΛΗ 2018 ΣΕ ΣΧΕΣΗ ΜΕ 2017\" }, inplace = True)"
      ],
      "execution_count": null,
      "outputs": []
    },
    {
      "cell_type": "code",
      "metadata": {
        "id": "ihW0A6hM22Fe"
      },
      "source": [
        "# Drop rows by index (replicated rows due to unicode encoding issue)\n",
        "analisi_ana_dimo_2018_df2 = analisi_ana_dimo_2018_df2.drop(analisi_ana_dimo_2018_df2.index[[1, 26, 33, 34, 35]])"
      ],
      "execution_count": null,
      "outputs": []
    },
    {
      "cell_type": "code",
      "metadata": {
        "id": "xG_l9v_WFLW-"
      },
      "source": [
        "# Concatenate\n",
        "analisi_ana_dimo_2018_df = pd.concat([analisi_ana_dimo_2018_df1, analisi_ana_dimo_2018_df2], axis=0)"
      ],
      "execution_count": null,
      "outputs": []
    },
    {
      "cell_type": "code",
      "metadata": {
        "id": "8WfU7-8365Bp"
      },
      "source": [
        "# Replace values (unicode encoding issue)\n",
        "analisi_ana_dimo_2018_df['ΔΗΜΟΣ'] = analisi_ana_dimo_2018_df['ΔΗΜΟΣ'].replace(['ΓΖΜΟ΢ ΑΓ.ΒΑΡΒΑΡΑ΢','ΓΖΜΟ΢ ΑΓ.ΓΖΜΖΣΡΗΟΤ','ΓΖΜΟ΢ ΑΓ.ΠΑΡΑ΢ΚΔΤΖ΢','ΓΖΜΟ΢ ΑΓΗΧΝ ΑΝΑΡΓΤΡΧΝ -','ΓΖΜΟ΢ ΑΓΚΗ΢ΣΡΗΟΤ','ΓΖΜΟ΢ ΑΘΖΝΑΗΧΝ','ΓΖΜΟ΢ ΑΗΓΑΛΔΧ','ΓΖΜΟ΢ ΑΗΓΗΝΑ΢','ΓΖΜΟ΢ ΑΛΗΜΟΤ','ΓΖΜΟ΢ ΑΜΑΡΟΤ΢ΗΟΤ','ΓΖΜΟ΢ Α΢ΠΡΟΠΤΡΓΟΤ','ΓΖΜΟ΢ ΑΥΑΡΝΧΝ','ΓΖΜΟ΢ ΒΑΡΖ΢ - ΒΟΤΛΑ΢ -','ΓΖΜΟ΢ ΒΡΗΛΖ΢΢ΗΧΝ','ΓΖΜΟ΢ ΒΤΡΧΝΑ','ΓΖΜΟ΢ ΓΑΛΑΣ΢ΗΟΤ','ΓΖΜΟ΢ ΓΛΤΦΑΓΑ΢','ΓΖΜΟ΢ ΓΑΦΝΖ΢ - ΤΜΖΣΣΟΤ','ΓΖΜΟ΢ ΓΗΟΝΤ΢ΟΤ','ΓΖΜΟ΢ ΔΛΔΤ΢ΗΝΑ΢','ΓΖΜΟ΢ ΔΛΛΖΝΗΚΟΤ -','ΔΗΜΟ΢ ΖΩΓΡΑΦΟΥ','ΓΖΜΟ΢ ΖΛΗΟΤΠΟΛΖ΢','ΓΖΜΟ΢ ΖΡΑΚΛΔΗΟΤ','ΓΖΜΟ΢ ΗΛΗΟΤ','ΓΖΜΟ΢ ΚΑΗ΢ΑΡΗΑΝΖ΢','ΓΖΜΟ΢ ΚΑΛΛΗΘΔΑ΢','ΓΖΜΟ΢ ΚΔΡΑΣ΢ΗΝΗΟΤ -','ΓΖΜΟ΢ ΚΖΦΗ΢ΗΑ΢','ΓΖΜΟ΢ ΚΟΡΤΓΑΛΛΟΤ','ΓΖΜΟ΢ ΚΡΧΠΗΑ΢','ΓΖΜΟ΢ ΚΤΘΖΡΧΝ','ΓΖΜΟ΢ ΛΑΤΡΔΧΣΗΚΖ΢','ΓΖΜΟ΢ ΛΤΚΟΒΡΤ΢Ζ΢ -','ΓΖΜΟ΢ ΜΑΝΓΡΑ΢ - ΔΗΓΤΛΛΗΑ΢','ΓΖΜΟ΢ ΜΑΡΑΘΧΝΑ','ΓΖΜΟ΢ ΜΑΡΚΟΠΟΤΛΟΤ','ΓΖΜΟ΢ ΜΔΓΑΡΔΧΝ','ΓΖΜΟ΢ ΜΔΣΑΜΟΡΦΧ΢Ζ΢','ΓΖΜΟ΢ ΜΟ΢ΥΑΣΟΤ - ΣΑΤΡΟΤ','ΓΖΜΟ΢ Ν. ΗΧΝΗΑ΢','ΓΖΜΟ΢ Ν.΢ΜΤΡΝΖ΢','ΓΖΜΟ΢ ΝΗΚΑΗΑ΢ - ΑΓ. Η. ΡΔΝΣΖ','ΓΖΜΟ΢ Π. ΦΑΛΖΡΟΤ','ΓΖΜΟ΢ ΠΑΗΑΝΗΑ΢','ΔΗΜΟ΢ ΠΑΛΛΗΝΗ΢','ΓΖΜΟ΢ ΠΑΠΑΓΟΤ - ΥΟΛΑΡΓΟΤ','ΓΖΜΟ΢ ΠΔΗΡΑΗΑ','ΓΖΜΟ΢ ΠΔΝΣΔΛΖ΢','ΓΖΜΟ΢ ΠΔΡΑΜΑΣΟ΢','ΓΖΜΟ΢ ΠΔΡΗ΢ΣΔΡΗΟΤ','ΓΖΜΟ΢ ΠΔΣΡΟΤΠΟΛΖ΢','ΓΖΜΟ΢ ΠΟΡΟΤ','ΓΖΜΟ΢ ΡΑΦΖΝΑ΢ - ΠΗΚΔΡΜΗΟΤ','ΓΖΜΟ΢ ΢ΑΛΑΜΗΝΑ΢','ΓΖΜΟ΢ ΢ΑΡΧΝΗΚΟΤ','ΓΖΜΟ΢ ΢ΠΑΣΧΝ - ΑΡΣΔΜΗΓΟ΢','ΓΖΜΟ΢ ΢ΠΔΣ΢ΧΝ','ΓΖΜΟ΢ ΣΡΟΗΕΖΝΗΑ΢','ΓΖΜΟ΢ ΤΓΡΑ΢','ΓΖΜΟ΢ ΦΗΛΑΓΔΛΦΔΗΑ΢ -','ΓΖΜΟ΢ ΦΗΛΟΘΔΖ΢ - ΦΤΥΗΚΟΤ','ΓΖΜΟ΢ ΦΤΛΖ΢','ΓΖΜΟ΢ ΥΑΗΓΑΡΗΟΤ','ΓΖΜΟ΢ ΥΑΛΑΝΓΡΗΟΤ','ΓΖΜΟ΢ ΧΡΧΠΟΤ','Γενικά ΢ύνολα Δήμων Περιφέρειας Αττικής'],\n",
        "                                                                              ['ΔΗΜΟΣ ΑΓΙΑΣ ΒΑΡΒΑΡΑΣ','ΔΗΜΟΣ ΑΓΙΟΥ ΔΗΜΗΤΡΙΟΥ','ΔΗΜΟΣ ΑΓΙΑΣ ΠΑΡΑΣΚΕΥΗΣ','ΔΗΜΟΣ ΑΓΙΩΝ ΑΝΑΡΓΥΡΩΝ-ΚΑΜΑΤΕΡΟΥ','ΔΗΜΟΣ ΑΓΚΙΣΤΡΙΟΥ','ΔΗΜΟΣ ΑΘΗΝΑΙΩΝ','ΔΗΜΟΣ ΑΙΓΑΛΕΩ','ΔΗΜΟΣ ΑΙΓΙΝΑΣ','ΔΗΜΟΣ ΑΛΙΜΟΥ','ΔΗΜΟΣ ΑΜΑΡΟΥΣΙΟΥ','ΔΗΜΟΣ ΑΣΠΡΟΠΥΡΓΟΥ','ΔΗΜΟΣ ΑΧΑΡΝΩΝ','ΔΗΜΟΣ ΒΑΡΗΣ - ΒΟΥΛΑΣ - ΒΟΥΛΙΑΓΜΕΝΗΣ','ΔΗΜΟΣ ΒΡΙΛΗΣΣΙΩΝ','ΔΗΜΟΣ ΒΥΡΩΝΑ','ΔΗΜΟΣ ΓΑΛΑΤΣΙΟΥ','ΔΗΜΟΣ ΓΛΥΦΑΔΑΣ','ΔΗΜΟΣ ΔΑΦΝΗΣ - ΥΜΗΤΤΟΥ', 'ΔΗΜΟΣ ΔΙΟΝΥΣΟΥ','ΔΗΜΟΣ ΕΛΕΥΣΙΝΑΣ','ΔΗΜΟΣ ΕΛΛΗΝΙΚΟΥ - ΑΡΓΥΡΟΥΠΟΛΗΣ','ΔΗΜΟΣ ΖΩΓΡΑΦΟΥ','ΔΗΜΟΣ ΗΛΙΟΥΠΟΛΗΣ','ΔΗΜΟΣ ΗΡΑΚΛΕΙΟΥ','ΔΗΜΟΣ ΙΛΙΟΥ','ΔΗΜΟΣ ΚΑΙΣΑΡΙΑΝΗΣ','ΔΗΜΟΣ ΚΑΛΛΙΘΕΑΣ','ΔΗΜΟΣ ΚΕΡΑΤΣΙΝΙΟΥ - ΔΡΑΠΕΤΣΩΝΑΣ','ΔΗΜΟΣ ΚΗΦΙΣΙΑΣ','ΔΗΜΟΣ ΚΟΡΥΔΑΛΛΟΥ','ΔΗΜΟΣ ΚΡΩΠΙΑΣ','ΔΗΜΟΣ ΚΥΘΗΡΩΝ','ΔΗΜΟΣ ΛΑΥΡΕΩΤΙΚΗΣ','ΔΗΜΟΣ ΛΥΚΟΒΡΥΣΗΣ - ΠΕΥΚΗΣ','ΔΗΜΟΣ ΜΑΝΔΡΑΣ - ΕΙΔΥΛΛΙΑΣ','ΔΗΜΟΣ ΜΑΡΑΘΩΝΑ','ΔΗΜΟΣ ΜΑΡΚΟΠΟΥΛΟΥ ΜΕΣΟΓΑΙΑΣ','ΔΗΜΟΣ ΜΕΓΑΡΕΩΝ','ΔΗΜΟΣ ΜΕΤΑΜΟΡΦΩΣΗΣ','ΔΗΜΟΣ ΜΟΣΧΑΤΟΥ - ΤΑΥΡΟΥ','ΔΗΜΟΣ ΝΕΑΣ ΙΩΝΙΑΣ','ΔΗΜΟΣ ΝΕΑΣ ΣΜΥΡΝΗΣ','ΔΗΜΟΣ ΝΙΚΑΙΑΣ - ΑΓΙΟΥ ΙΩΑΝΝΗ ΡΕΝΤΗ','ΔΗΜΟΣ ΠΑΛΑΙΟΥ ΦΑΛΗΡΟΥ','ΔΗΜΟΣ ΠΑΙΑΝΙΑΣ','ΔΗΜΟΣ ΠΑΛΛΗΝΗΣ','ΔΗΜΟΣ ΠΑΠΑΓΟΥ - ΧΟΛΑΡΓΟΥ','ΔΗΜΟΣ ΠΕΙΡΑΙΑ','ΔΗΜΟΣ ΠΕΝΤΕΛΗΣ','ΔΗΜΟΣ ΠΕΡΑΜΑΤΟΣ','ΔΗΜΟΣ ΠΕΡΙΣΤΕΡΙΟΥ','ΔΗΜΟΣ ΠΕΤΡΟΥΠΟΛΗΣ','ΔΗΜΟΣ ΠΟΡΟΥ','ΔΗΜΟΣ ΡΑΦΗΝΑΣ - ΠΙΚΕΡΜΙΟΥ','ΔΗΜΟΣ ΣΑΛΑΜΙΝΑΣ','ΔΗΜΟΣ ΣΑΡΩΝΙΚΟΥ','ΔΗΜΟΣ ΣΠΑΤΩΝ - ΑΡΤΕΜΙΔΟΣ','ΔΗΜΟΣ ΣΠΕΤΣΩΝ','ΔΗΜΟΣ ΤΡΟΙΖΗΝΙΑΣ','ΔΗΜΟΣ ΥΔΡΑΣ','ΔΗΜΟΣ ΦΙΛΑΔΕΛΦΙΑΣ - ΧΑΛΚΗΔΟΝΑΣ','ΔΗΜΟΣ ΦΙΛΟΘΕΗΣ - ΨΥΧΙΚΟΥ','ΔΗΜΟΣ ΦΥΛΗΣ','ΔΗΜΟΣ ΧΑΪΔΑΡΙΟΥ','ΔΗΜΟΣ ΧΑΛΑΝΔΡΙΟΥ','ΔΗΜΟΣ ΩΡΟΠΟΥ','ΓΕΝΙΚΑ ΣΥΝΟΛΑ ΔΗΜΩΝ ΠΕΡΙΦΕΡΕΙΑΣ ΑΤΤΙΚΗΣ'])"
      ],
      "execution_count": null,
      "outputs": []
    },
    {
      "cell_type": "code",
      "metadata": {
        "id": "fB4TaP-5IDH6"
      },
      "source": [
        "# Create dataframe \n",
        "pistopoiiseis_eeaa_ana_dimo_2015_df1 = pd.read_excel('/gdrive/My Drive/Colab Notebooks/Files/Thesis - Datasets & Reports/EDSNA/2015/EXCEL (converted files)/ΠΙΣΤΟΠΟΙΗΣΕΙΣ ΕΕΑΑ ΑΝΑ ΔΗΜΟ 2015.xlsx', sheet_name='Table 1')"
      ],
      "execution_count": null,
      "outputs": []
    },
    {
      "cell_type": "code",
      "metadata": {
        "id": "L5T78Ltcwyb6"
      },
      "source": [
        "# Delete third column\n",
        "pistopoiiseis_eeaa_ana_dimo_2015_df1 = pistopoiiseis_eeaa_ana_dimo_2015_df1.drop(pistopoiiseis_eeaa_ana_dimo_2015_df1.columns[[2]], axis=1) "
      ],
      "execution_count": null,
      "outputs": []
    },
    {
      "cell_type": "code",
      "metadata": {
        "id": "R_rCCLs2Ri4O"
      },
      "source": [
        "# Rename columns\n",
        "pistopoiiseis_eeaa_ana_dimo_2015_df1.rename(columns = {'ΠΗΝΑΚΑ΢ 2: Τπολείμμαηα (kg) μπλε κάδων Γήμων ζύμθωνα με\\nπιζηοποιήζεις ΔΔΑΑ':'ΔΗΜΟΣ', \n",
        "                                            'Unnamed: 1':'ΠΡΟΣ ΧΥΤΑ ΑΠΟ ΚΔΑΥ'}, inplace = True)"
      ],
      "execution_count": null,
      "outputs": []
    },
    {
      "cell_type": "code",
      "metadata": {
        "id": "659uVXC3UEEu"
      },
      "source": [
        "# Delete first row\n",
        "pistopoiiseis_eeaa_ana_dimo_2015_df1 = pistopoiiseis_eeaa_ana_dimo_2015_df1.iloc[1:] "
      ],
      "execution_count": null,
      "outputs": []
    },
    {
      "cell_type": "code",
      "metadata": {
        "id": "ln4PK1kGIou4"
      },
      "source": [
        "# Create dataframe \n",
        "pistopoiiseis_eeaa_ana_dimo_2015_df2 = pd.read_excel('/gdrive/My Drive/Colab Notebooks/Files/Thesis - Datasets & Reports/EDSNA/2015/EXCEL (converted files)/ΠΙΣΤΟΠΟΙΗΣΕΙΣ ΕΕΑΑ ΑΝΑ ΔΗΜΟ 2015.xlsx', sheet_name='Table 2')"
      ],
      "execution_count": null,
      "outputs": []
    },
    {
      "cell_type": "code",
      "metadata": {
        "id": "d1uJ35mOsF4k"
      },
      "source": [
        "# Rename columns\n",
        "pistopoiiseis_eeaa_ana_dimo_2015_df2.rename(columns = {'ΔΗΜΟ΢':'ΔΗΜΟΣ', 'ΠΡΟ΢ ΥΤΣΑ ΑΠΟ ΚΔΑΤ':'ΠΡΟΣ ΧΥΤΑ ΑΠΟ ΚΔΑΥ'}, inplace = True)"
      ],
      "execution_count": null,
      "outputs": []
    },
    {
      "cell_type": "code",
      "metadata": {
        "id": "8M4nNzMGsIFE"
      },
      "source": [
        "# Delete last row\n",
        "pistopoiiseis_eeaa_ana_dimo_2015_df2 = pistopoiiseis_eeaa_ana_dimo_2015_df2.iloc[:-1]"
      ],
      "execution_count": null,
      "outputs": []
    },
    {
      "cell_type": "code",
      "metadata": {
        "id": "x7JUK4FkubXz"
      },
      "source": [
        "# Concatenate\n",
        "pistopoiiseis_eeaa_ana_dimo_2015_df = pd.concat([pistopoiiseis_eeaa_ana_dimo_2015_df1, pistopoiiseis_eeaa_ana_dimo_2015_df2], axis=0)"
      ],
      "execution_count": null,
      "outputs": []
    },
    {
      "cell_type": "code",
      "metadata": {
        "id": "9uTltk6M3qFz"
      },
      "source": [
        "# Create dataframe \n",
        "pistopoiiseis_eeaa_ana_dimo_2016_df1 = pd.read_excel('/gdrive/My Drive/Colab Notebooks/Files/Thesis - Datasets & Reports/EDSNA/2016/EXCEL (converted files)/2016 Πιστοποιήσεις Ε.Ε.Α.Α ανά Δήμο.xlsx', sheet_name='Table 1')"
      ],
      "execution_count": null,
      "outputs": []
    },
    {
      "cell_type": "code",
      "metadata": {
        "id": "zm5qMF-P3t-K"
      },
      "source": [
        "# Delete third column\n",
        "pistopoiiseis_eeaa_ana_dimo_2016_df1 = pistopoiiseis_eeaa_ana_dimo_2016_df1.drop(pistopoiiseis_eeaa_ana_dimo_2016_df1.columns[[2]], axis=1) "
      ],
      "execution_count": null,
      "outputs": []
    },
    {
      "cell_type": "code",
      "metadata": {
        "id": "4yUspBHx3v6E"
      },
      "source": [
        "# Rename columns\n",
        "pistopoiiseis_eeaa_ana_dimo_2016_df1.rename(columns = {'ΠΗΝΑΚΑ΢ 2: Τπολείμμαηα (kg) μπλε κάδων Γήμων ζύμθωνα με\\nπιζηοποιήζεις ΔΔΑΑ':'ΔΗΜΟΣ', \n",
        "                                            'Unnamed: 1':'ΠΡΟΣ ΧΥΤΑ ΑΠΟ ΚΔΑΥ'}, inplace = True)"
      ],
      "execution_count": null,
      "outputs": []
    },
    {
      "cell_type": "code",
      "metadata": {
        "id": "9hGhvAeb3xhd"
      },
      "source": [
        "# Delete first row\n",
        "pistopoiiseis_eeaa_ana_dimo_2016_df1 = pistopoiiseis_eeaa_ana_dimo_2016_df1.iloc[1:] "
      ],
      "execution_count": null,
      "outputs": []
    },
    {
      "cell_type": "code",
      "metadata": {
        "id": "X5OOV0oKIHWG"
      },
      "source": [
        "# Create dataframe \n",
        "pistopoiiseis_eeaa_ana_dimo_2016_df2 = pd.read_excel('/gdrive/My Drive/Colab Notebooks/Files/Thesis - Datasets & Reports/EDSNA/2016/EXCEL (converted files)/2016 Πιστοποιήσεις Ε.Ε.Α.Α ανά Δήμο.xlsx', sheet_name='Table 2')"
      ],
      "execution_count": null,
      "outputs": []
    },
    {
      "cell_type": "code",
      "metadata": {
        "id": "9A0SrnGiILrQ"
      },
      "source": [
        "# Rename columns\n",
        "pistopoiiseis_eeaa_ana_dimo_2016_df2.rename(columns = {'ΔΗΜΟ΢':'ΔΗΜΟΣ', \n",
        "                                            'ΠΡΟ΢ ΥΤΣΑ ΑΠΟ ΚΔΑΤ':'ΠΡΟΣ ΧΥΤΑ ΑΠΟ ΚΔΑΥ'}, inplace = True)"
      ],
      "execution_count": null,
      "outputs": []
    },
    {
      "cell_type": "code",
      "metadata": {
        "id": "JphJcH8eINNK"
      },
      "source": [
        "# Delete last row\n",
        "pistopoiiseis_eeaa_ana_dimo_2016_df2 = pistopoiiseis_eeaa_ana_dimo_2016_df2.iloc[:-1] "
      ],
      "execution_count": null,
      "outputs": []
    },
    {
      "cell_type": "code",
      "metadata": {
        "id": "ceUEYNBLPpWK"
      },
      "source": [
        "# Concatenate\n",
        "pistopoiiseis_eeaa_ana_dimo_2016_df = pd.concat([pistopoiiseis_eeaa_ana_dimo_2016_df1, pistopoiiseis_eeaa_ana_dimo_2016_df2], axis=0)"
      ],
      "execution_count": null,
      "outputs": []
    },
    {
      "cell_type": "code",
      "metadata": {
        "id": "IWqm-LIbYBBY"
      },
      "source": [
        "# Insert column from another dataframe\n",
        "analisi_ana_dimo_2015_df['ΠΡΟΣ ΧΥΤΑ ΑΠΟ ΚΔΑΥ'] = pistopoiiseis_eeaa_ana_dimo_2015_df['ΠΡΟΣ ΧΥΤΑ ΑΠΟ ΚΔΑΥ'].values"
      ],
      "execution_count": null,
      "outputs": []
    },
    {
      "cell_type": "code",
      "metadata": {
        "id": "Xv8zh3hFb68T"
      },
      "source": [
        "# Reorder columns\n",
        "analisi_ana_dimo_2015_df = analisi_ana_dimo_2015_df[['ΔΗΜΟΣ','ΠΡΟΣ ΧΥΤΑ','ΠΡΟΣ ΣΜΑ','ΠΡΟΣ ΕΜΑ ΑΠΟΡΡΙΜΜΑΤΑ','ΠΡΟΣ ΕΜΑ ΠΡΑΣΙΝΑ','ΠΡΟΣ ΕΜΑ ΠΡΟΔΙΑΛΕΓΜΕΝΑ ΠΡΟΓ. LIFE', 'ΠΡΟΣ ΕΜΑ ΠΙΛΟΤΙΚΗ ΑΝΑΚΥΚΛΩΣΗ', 'ΠΡΟΣ ΕΜΑ ΛΑΪΚΕΣ ΑΓΟΡΕΣ', 'ΠΡΟΣ ΧΥΤΑ ΑΠΟ ΚΔΑΥ', 'ΣΥΝΟΛΟ']]"
      ],
      "execution_count": null,
      "outputs": []
    },
    {
      "cell_type": "code",
      "metadata": {
        "id": "2Q6rW-OtfFIg"
      },
      "source": [
        "# Insert column from another dataframe\n",
        "analisi_ana_dimo_2016_df['ΠΡΟΣ ΧΥΤΑ ΑΠΟ ΚΔΑΥ'] = pistopoiiseis_eeaa_ana_dimo_2016_df['ΠΡΟΣ ΧΥΤΑ ΑΠΟ ΚΔΑΥ'].values"
      ],
      "execution_count": null,
      "outputs": []
    },
    {
      "cell_type": "code",
      "metadata": {
        "id": "p2XBdYpafGjY"
      },
      "source": [
        "# Reorder columns\n",
        "analisi_ana_dimo_2016_df = analisi_ana_dimo_2016_df[['ΔΗΜΟΣ','ΠΡΟΣ ΧΥΤΑ','ΠΡΟΣ ΣΜΑ','ΠΡΟΣ ΕΜΑ ΑΠΟΡΡΙΜΜΑΤΑ','ΠΡΟΣ ΕΜΑ ΠΡΑΣΙΝΑ','ΠΡΟΣ ΕΜΑ ΠΡΟΔΙΑΛΕΓΜΕΝΑ BIO WASTE', 'ΠΡΟΣ ΕΜΑ ΠΙΛΟΤΙΚΗ ΑΝΑΚΥΚΛΩΣΗ', 'ΠΡΟΣ ΕΜΑ ΛΑΪΚΕΣ ΑΓΟΡΕΣ', 'ΠΡΟΣ ΧΥΤΑ ΑΠΟ ΚΔΑΥ', 'ΣΥΝΟΛΟ']]"
      ],
      "execution_count": null,
      "outputs": []
    },
    {
      "cell_type": "code",
      "metadata": {
        "id": "BMQfVagb6de3"
      },
      "source": [
        "# Create dataframe \n",
        "analisi_ana_dimo_2019_df = pd.read_excel('/gdrive/My Drive/Colab Notebooks/Files/Thesis - Datasets & Reports/EDSNA/2019/032019~1.XLS', sheet_name='1')"
      ],
      "execution_count": null,
      "outputs": []
    },
    {
      "cell_type": "code",
      "metadata": {
        "id": "PT4tY-uOhSHh"
      },
      "source": [
        "# Convert row to column header\n",
        "analisi_ana_dimo_2019_df.columns = analisi_ana_dimo_2019_df.iloc[2]"
      ],
      "execution_count": null,
      "outputs": []
    },
    {
      "cell_type": "code",
      "metadata": {
        "id": "DmQTOO7YjG5e"
      },
      "source": [
        "# Delete first three rows\n",
        "analisi_ana_dimo_2019_df = analisi_ana_dimo_2019_df.iloc[3:]"
      ],
      "execution_count": null,
      "outputs": []
    },
    {
      "cell_type": "code",
      "metadata": {
        "id": "UgAdTbXuvxLo"
      },
      "source": [
        "# Drop columns that all cells are nan values\n",
        "analisi_ana_dimo_2019_df = analisi_ana_dimo_2019_df.dropna(axis=1, how='all')"
      ],
      "execution_count": null,
      "outputs": []
    },
    {
      "cell_type": "code",
      "metadata": {
        "id": "bjmIGP5osPVu"
      },
      "source": [
        "# Replace values \n",
        "analisi_ana_dimo_2019_df['ΔΗΜΟΣ'] = analisi_ana_dimo_2019_df['ΔΗΜΟΣ'].replace(['ΔΗΜΟΣ ΑΓ.ΒΑΡΒΑΡΑΣ','ΔΗΜΟΣ ΑΓ.ΔΗΜΗΤΡΙΟΥ','ΔΗΜΟΣ ΑΓ.ΠΑΡΑΣΚΕΥΗΣ','ΔΗΜΟΣ Ν. ΙΩΝΙΑΣ','ΔΗΜΟΣ Ν.ΣΜΥΡΝΗΣ','ΔΗΜΟΣ ΝΙΚΑΙΑΣ - ΑΓ. Ι. ΡΕΝΤΗ','ΔΗΜΟΣ Π. ΦΑΛΗΡΟΥ','ΔΗΜΟΣ ΧΑΙΔΑΡΙΟΥ','Γενικά ΢ύνολα Δήμων Περιφέρειας Αττικής'],\n",
        "                                                                              ['ΔΗΜΟΣ ΑΓΙΑΣ ΒΑΡΒΑΡΑΣ','ΔΗΜΟΣ ΑΓΙΟΥ ΔΗΜΗΤΡΙΟΥ','ΔΗΜΟΣ ΑΓΙΑΣ ΠΑΡΑΣΚΕΥΗΣ','ΔΗΜΟΣ ΝΕΑΣ ΙΩΝΙΑΣ','ΔΗΜΟΣ ΝΕΑΣ ΣΜΥΡΝΗΣ','ΔΗΜΟΣ ΝΙΚΑΙΑΣ-ΑΓΙΟΥ ΙΩΑΝΝΗ ΡΕΝΤΗ','ΔΗΜΟΣ ΠΑΛΑΙΟΥ ΦΑΛΗΡΟΥ','ΔΗΜΟΣ ΧΑΪΔΑΡΙΟΥ','ΓΕΝΙΚΑ ΣΥΝΟΛΑ ΔΗΜΩΝ ΠΕΡΙΦΕΡΕΙΑΣ ΑΤΤΙΚΗΣ'])"
      ],
      "execution_count": null,
      "outputs": []
    },
    {
      "cell_type": "code",
      "metadata": {
        "id": "1A7gliUfpO8Y"
      },
      "source": [
        "# Create dataframe \n",
        "pistopoiiseis_eeaa_ana_dimo_2019_df = pd.read_excel('/gdrive/My Drive/Colab Notebooks/Files/Thesis - Datasets & Reports/EDSNA/2019/032019~1.XLS', sheet_name='2')"
      ],
      "execution_count": null,
      "outputs": []
    },
    {
      "cell_type": "code",
      "metadata": {
        "id": "iZ_N-_oAv_Gs"
      },
      "source": [
        "# Convert row to column header\n",
        "pistopoiiseis_eeaa_ana_dimo_2019_df.columns = pistopoiiseis_eeaa_ana_dimo_2019_df.iloc[1]"
      ],
      "execution_count": null,
      "outputs": []
    },
    {
      "cell_type": "code",
      "metadata": {
        "id": "qawPDsaUznxu"
      },
      "source": [
        "# Delete first two rows\n",
        "pistopoiiseis_eeaa_ana_dimo_2019_df = pistopoiiseis_eeaa_ana_dimo_2019_df.iloc[2:]"
      ],
      "execution_count": null,
      "outputs": []
    },
    {
      "cell_type": "code",
      "metadata": {
        "id": "q_6aJMtT4i5r"
      },
      "source": [
        "# Drop columns that all cells are nan values\n",
        "pistopoiiseis_eeaa_ana_dimo_2019_df = pistopoiiseis_eeaa_ana_dimo_2019_df.dropna(axis=1, how='all')"
      ],
      "execution_count": null,
      "outputs": []
    },
    {
      "cell_type": "code",
      "metadata": {
        "id": "PE7jZ7tYDJj_"
      },
      "source": [
        "# Create dataframe \n",
        "xyta_2019_df = pd.read_excel('/gdrive/My Drive/Colab Notebooks/Files/Thesis - Datasets & Reports/EDSNA/2019/032019~1.XLS', sheet_name='3')"
      ],
      "execution_count": null,
      "outputs": []
    },
    {
      "cell_type": "code",
      "metadata": {
        "id": "0BJ60a0GDSPF"
      },
      "source": [
        "# Convert row to column header\n",
        "xyta_2019_df.columns = xyta_2019_df.iloc[3]"
      ],
      "execution_count": null,
      "outputs": []
    },
    {
      "cell_type": "code",
      "metadata": {
        "id": "jl6VMAm9DTb_"
      },
      "source": [
        "# Delete first four rows\n",
        "xyta_2019_df = xyta_2019_df.iloc[4:]"
      ],
      "execution_count": null,
      "outputs": []
    },
    {
      "cell_type": "code",
      "metadata": {
        "id": "CSsKOXXIDUuZ"
      },
      "source": [
        "# Drop columns that all cells are nan values\n",
        "xyta_2019_df = xyta_2019_df.dropna(axis=1, how='all')"
      ],
      "execution_count": null,
      "outputs": []
    },
    {
      "cell_type": "code",
      "metadata": {
        "id": "CnyCGmd3FSrS"
      },
      "source": [
        "# ΕΚΤΟΣ ΑΠΟ SHEET 4 (ΔΕΝ ΕΧΕΙ ΧΡΕΙΑΣΤΕΙ ΜΕΧΡΙ ΣΤΙΓΜΗΣ ΚΑΘΩΣ ΔΕΝ ΕΙΝΑΙ ΣΑΦΗΣ Η ΟΔΗΓΙΑ ΠΟΥ ΤΑ ΑΦΟΡΑ ΚΑΙ ΟΛΑ ΓΙΑ ΧΥΤΑ ΠΕΡΙΛΑΜΒΑΝΟΝΤΑΙ ΣΤΟ 3)"
      ],
      "execution_count": null,
      "outputs": []
    },
    {
      "cell_type": "code",
      "metadata": {
        "id": "JmAXftD-6O_A"
      },
      "source": [
        "# Create dataframe \n",
        "analisi_ana_dimo_2020_df = pd.read_excel('/gdrive/My Drive/Colab Notebooks/Files/Thesis - Datasets & Reports/EDSNA/2020/ΠΟΣΟΤΗΤΕΣ ΔΗΜΩΝ 2020 σε γραφείο στατιστικής.xls', sheet_name='INPUT')"
      ],
      "execution_count": null,
      "outputs": []
    },
    {
      "cell_type": "code",
      "metadata": {
        "id": "xnUFE9KZrjjq"
      },
      "source": [
        "# Convert row to column header\n",
        "analisi_ana_dimo_2020_df.columns = analisi_ana_dimo_2020_df.iloc[1]"
      ],
      "execution_count": null,
      "outputs": []
    },
    {
      "cell_type": "code",
      "metadata": {
        "id": "AFMNZIpfryJv"
      },
      "source": [
        "# Delete first two rows\n",
        "analisi_ana_dimo_2020_df = analisi_ana_dimo_2020_df.iloc[2:]"
      ],
      "execution_count": null,
      "outputs": []
    },
    {
      "cell_type": "code",
      "metadata": {
        "id": "iTjZMjpzsNuJ"
      },
      "source": [
        "# Drop columns that all cells are nan values\n",
        "analisi_ana_dimo_2020_df = analisi_ana_dimo_2020_df.dropna(axis=1, how='all')"
      ],
      "execution_count": null,
      "outputs": []
    },
    {
      "cell_type": "code",
      "metadata": {
        "id": "jjSPAdMMpl5C"
      },
      "source": [
        "# Replace values \n",
        "analisi_ana_dimo_2020_df['ΔΗΜΟΣ'] = analisi_ana_dimo_2020_df['ΔΗΜΟΣ'].replace(['ΔΗΜΟΣ ΑΓ.ΒΑΡΒΑΡΑΣ','ΔΗΜΟΣ ΑΓ.ΔΗΜΗΤΡΙΟΥ','ΔΗΜΟΣ ΑΓ.ΠΑΡΑΣΚΕΥΗΣ','ΔΗΜΟΣ Ν. ΙΩΝΙΑΣ','ΔΗΜΟΣ Ν.ΣΜΥΡΝΗΣ','ΔΗΜΟΣ ΝΙΚΑΙΑΣ - ΑΓ. Ι. ΡΕΝΤΗ','ΔΗΜΟΣ Π. ΦΑΛΗΡΟΥ','ΔΗΜΟΣ ΧΑΙΔΑΡΙΟΥ','Γενικά ΢ύνολα Δήμων Περιφέρειας Αττικής'],\n",
        "                                                                              ['ΔΗΜΟΣ ΑΓΙΑΣ ΒΑΡΒΑΡΑΣ','ΔΗΜΟΣ ΑΓΙΟΥ ΔΗΜΗΤΡΙΟΥ','ΔΗΜΟΣ ΑΓΙΑΣ ΠΑΡΑΣΚΕΥΗΣ','ΔΗΜΟΣ ΝΕΑΣ ΙΩΝΙΑΣ','ΔΗΜΟΣ ΝΕΑΣ ΣΜΥΡΝΗΣ','ΔΗΜΟΣ ΝΙΚΑΙΑΣ-ΑΓΙΟΥ ΙΩΑΝΝΗ ΡΕΝΤΗ','ΔΗΜΟΣ ΠΑΛΑΙΟΥ ΦΑΛΗΡΟΥ','ΔΗΜΟΣ ΧΑΪΔΑΡΙΟΥ','ΓΕΝΙΚΑ ΣΥΝΟΛΑ ΔΗΜΩΝ ΠΕΡΙΦΕΡΕΙΑΣ ΑΤΤΙΚΗΣ'])"
      ],
      "execution_count": null,
      "outputs": []
    },
    {
      "cell_type": "code",
      "metadata": {
        "id": "0DCI44RdmVNo"
      },
      "source": [
        "# Create dataframe \n",
        "xyta_2020_df = pd.read_excel('/gdrive/My Drive/Colab Notebooks/Files/Thesis - Datasets & Reports/EDSNA/2020/ΠΟΣΟΤΗΤΕΣ ΔΗΜΩΝ 2020 σε γραφείο στατιστικής.xls', sheet_name='ΕΔΣΝΑ Σ.ΧΥΤΑ')"
      ],
      "execution_count": null,
      "outputs": []
    },
    {
      "cell_type": "code",
      "metadata": {
        "id": "oJUfTAfUqwSj"
      },
      "source": [
        "# Convert row to column header\n",
        "xyta_2020_df.columns = xyta_2020_df.iloc[1]"
      ],
      "execution_count": null,
      "outputs": []
    },
    {
      "cell_type": "code",
      "metadata": {
        "id": "km4OzQ5oq4bu"
      },
      "source": [
        "# Delete first two rows\n",
        "xyta_2020_df = xyta_2020_df.iloc[2:]"
      ],
      "execution_count": null,
      "outputs": []
    },
    {
      "cell_type": "code",
      "metadata": {
        "id": "ILaW8YyRrIr4"
      },
      "source": [
        "# Drop columns that all cells are nan values\n",
        "xyta_2020_df = xyta_2020_df.dropna(axis=1, how='all')"
      ],
      "execution_count": null,
      "outputs": []
    },
    {
      "cell_type": "code",
      "metadata": {
        "id": "8c_rHLoNu1iP"
      },
      "source": [
        "# Create dataframe \n",
        "anakyklosi_2020_df = pd.read_excel('/gdrive/My Drive/Colab Notebooks/Files/Thesis - Datasets & Reports/EDSNA/2020/ΠΟΣΟΤΗΤΕΣ ΔΗΜΩΝ 2020 σε γραφείο στατιστικής.xls', sheet_name='ΠΟΣΟΣΤΟ ΑΝΑΚ.  kg')"
      ],
      "execution_count": null,
      "outputs": []
    },
    {
      "cell_type": "code",
      "metadata": {
        "id": "lz95_4qb0n8D"
      },
      "source": [
        "# Convert row to column header\n",
        "anakyklosi_2020_df.columns = anakyklosi_2020_df.iloc[2]"
      ],
      "execution_count": null,
      "outputs": []
    },
    {
      "cell_type": "code",
      "metadata": {
        "id": "4Sd253ly0pRK"
      },
      "source": [
        "# Delete first three rows\n",
        "anakyklosi_2020_df = anakyklosi_2020_df.iloc[3:]"
      ],
      "execution_count": null,
      "outputs": []
    },
    {
      "cell_type": "code",
      "metadata": {
        "id": "k1sKTFWC0sBS"
      },
      "source": [
        "# Drop columns that all cells are nan values\n",
        "anakyklosi_2020_df = anakyklosi_2020_df.dropna(axis=1, how='all')"
      ],
      "execution_count": null,
      "outputs": []
    },
    {
      "cell_type": "code",
      "metadata": {
        "id": "iCcRDKeYnCim"
      },
      "source": [
        "# Create dataframe \n",
        "paratiritirio_anakyklosi_2020_df = pd.read_excel('/gdrive/My Drive/Colab Notebooks/Files/Thesis - Datasets & Reports/EDSNA/2020/ΠΟΣΟΤΗΤΕΣ ΔΗΜΩΝ 2020 σε γραφείο στατιστικής.xls', sheet_name='ΠΟΣΟΣΤΟ ΑΝΑΚ.  kg ΠΑΡΑΤΗΡ.')"
      ],
      "execution_count": null,
      "outputs": []
    },
    {
      "cell_type": "code",
      "metadata": {
        "id": "V0VtOgeY7YIo"
      },
      "source": [
        "# Convert row to column header\n",
        "paratiritirio_anakyklosi_2020_df.columns = paratiritirio_anakyklosi_2020_df.iloc[2]"
      ],
      "execution_count": null,
      "outputs": []
    },
    {
      "cell_type": "code",
      "metadata": {
        "id": "KXHDEZ2E7Zi3"
      },
      "source": [
        "# Delete first three rows\n",
        "paratiritirio_anakyklosi_2020_df = paratiritirio_anakyklosi_2020_df.iloc[3:]"
      ],
      "execution_count": null,
      "outputs": []
    },
    {
      "cell_type": "code",
      "metadata": {
        "id": "_MZMVAcH7bQC"
      },
      "source": [
        "# Drop columns that all cells are nan values\n",
        "paratiritirio_anakyklosi_2020_df = paratiritirio_anakyklosi_2020_df.dropna(axis=1, how='all')"
      ],
      "execution_count": null,
      "outputs": []
    },
    {
      "cell_type": "code",
      "metadata": {
        "id": "DAfTIqXj33n6"
      },
      "source": [
        "# paratiritirio_anakyklosi_2020_df # Δεν αναγνωρίζει τα αποτελέσματα που προκύπτουν μέσω της φόρμουλας για το ποσοστό ανακύκλωσης "
      ],
      "execution_count": null,
      "outputs": []
    },
    {
      "cell_type": "code",
      "metadata": {
        "id": "hnE3BtdED4Aq"
      },
      "source": [
        "# Add new column about year\n",
        "analisi_ana_dimo_2015_df['ΕΤΟΣ'] = \"2015\"\n",
        "analisi_ana_dimo_2016_df['ΕΤΟΣ'] = \"2016\"\n",
        "analisi_ana_dimo_2017_df['ΕΤΟΣ'] = \"2017\"\n",
        "analisi_ana_dimo_2018_df['ΕΤΟΣ'] = \"2018\"\n",
        "analisi_ana_dimo_2019_df['ΕΤΟΣ'] = \"2019\"\n",
        "analisi_ana_dimo_2020_df['ΕΤΟΣ'] = \"2020\""
      ],
      "execution_count": null,
      "outputs": []
    },
    {
      "cell_type": "code",
      "metadata": {
        "id": "DMScepeGGi8W"
      },
      "source": [
        "# Replace missing values (NaN) with zero\n",
        "analisi_ana_dimo_2015_df = analisi_ana_dimo_2015_df.replace(np.nan,0)\n",
        "analisi_ana_dimo_2016_df = analisi_ana_dimo_2016_df.replace(np.nan,0)\n",
        "analisi_ana_dimo_2017_df = analisi_ana_dimo_2017_df.replace(np.nan,0)\n",
        "analisi_ana_dimo_2018_df = analisi_ana_dimo_2018_df.replace(np.nan,0)\n",
        "analisi_ana_dimo_2019_df = analisi_ana_dimo_2019_df.replace(np.nan,0)\n",
        "analisi_ana_dimo_2020_df = analisi_ana_dimo_2020_df.replace(np.nan,0)"
      ],
      "execution_count": null,
      "outputs": []
    },
    {
      "cell_type": "code",
      "metadata": {
        "id": "_w9PSMXErzxf"
      },
      "source": [
        "# Delete columns\n",
        "analisi_ana_dimo_2017_df = analisi_ana_dimo_2017_df.drop(['ΣΥΝΟΛΟ 2016', '2017-2016', 'ΜΕΤΑΒΟΛΗ 2017 ΣΕ ΣΧΕΣΗ ΜΕ 2016'], axis=1)"
      ],
      "execution_count": null,
      "outputs": []
    },
    {
      "cell_type": "code",
      "metadata": {
        "id": "Ta2Ksp3XNcqZ"
      },
      "source": [
        "# Delete columns\n",
        "analisi_ana_dimo_2018_df = analisi_ana_dimo_2018_df.drop(['ΣΥΝΟΛΟ 2017', 'ΑΠΟΛΥΤΗ ΜΕΤΑΒΟΛΗ 2018 - 2017', 'ΠΟΣΟΣΤΙΑΙΑ ΜΕΤΑΒΟΛΗ 2018 ΣΕ ΣΧΕΣΗ ΜΕ 2017'], axis=1)"
      ],
      "execution_count": null,
      "outputs": []
    },
    {
      "cell_type": "code",
      "metadata": {
        "id": "Owt2NsB6CgtG"
      },
      "source": [
        "# Σε αυτό το σημείο θα γίνουν ορισμένες τροποποιήσεις (τίτλοι στηλών, ονόματα δήμων), έτσι ώστε να γίνει ένωση των διαφορετικών dataframes."
      ],
      "execution_count": null,
      "outputs": []
    },
    {
      "cell_type": "code",
      "metadata": {
        "id": "mGgIhNI_GodI"
      },
      "source": [
        "# Rename columns\n",
        "analisi_ana_dimo_2015_df.rename(columns = {'ΠΡΟΣ ΕΜΑ ΠΡΟΔΙΑΛΕΓΜΕΝΑ ΠΡΟΓ. LIFE':'ΠΡΟΣ ΕΜΑ ΟΡΓΑΝΙΚΑ', 'ΠΡΟΣ ΕΜΑ ΠΙΛΟΤΙΚΗ ΑΝΑΚΥΚΛΩΣΗ':'ΠΡΟΣ ΕΜΑ ΑΝΑΚΥΚΛΩΣΗ'}, inplace = True)"
      ],
      "execution_count": null,
      "outputs": []
    },
    {
      "cell_type": "code",
      "metadata": {
        "id": "haTwQrRJPAUn"
      },
      "source": [
        "# Rename columns\n",
        "analisi_ana_dimo_2016_df.rename(columns = {'ΠΡΟΣ ΕΜΑ ΠΡΟΔΙΑΛΕΓΜΕΝΑ BIO WASTE':'ΠΡΟΣ ΕΜΑ ΟΡΓΑΝΙΚΑ', 'ΠΡΟΣ ΕΜΑ ΠΙΛΟΤΙΚΗ ΑΝΑΚΥΚΛΩΣΗ':'ΠΡΟΣ ΕΜΑ ΑΝΑΚΥΚΛΩΣΗ'}, inplace = True)"
      ],
      "execution_count": null,
      "outputs": []
    },
    {
      "cell_type": "code",
      "metadata": {
        "id": "QKZx4EU5Q6r5"
      },
      "source": [
        "# Rename columns\n",
        "analisi_ana_dimo_2017_df.rename(columns = {'ΠΡΟΣ ΕΜΑ ΟΡΓΑΝΙΚΑ ΠΡΟΔΙΑΛΕΓΜΕΝΑ':'ΠΡΟΣ ΕΜΑ ΟΡΓΑΝΙΚΑ', 'ΠΡΟΣ ΕΜΑ ΠΙΛΟΤΙΚΗ ΑΝΑΚΥΚΛΩΣΗ':'ΠΡΟΣ ΕΜΑ ΑΝΑΚΥΚΛΩΣΗ', 'ΣΥΝΟΛΟ 2017':'ΣΥΝΟΛΟ'}, inplace = True)"
      ],
      "execution_count": null,
      "outputs": []
    },
    {
      "cell_type": "code",
      "metadata": {
        "id": "mtOuES19RMf5"
      },
      "source": [
        "# Rename columns\n",
        "analisi_ana_dimo_2018_df.rename(columns = {'ΠΡΟΣ ΕΜΑ ΟΡΓΑΝΙΚΑ ΠΡΟΔΙΑΛΕΓΜΕΝΑ':'ΠΡΟΣ ΕΜΑ ΟΡΓΑΝΙΚΑ', 'ΣΥΝΟΛΟ 2018':'ΣΥΝΟΛΟ'}, inplace = True)"
      ],
      "execution_count": null,
      "outputs": []
    },
    {
      "cell_type": "code",
      "metadata": {
        "id": "9EiTx01mRqa5"
      },
      "source": [
        "# Rename columns\n",
        "analisi_ana_dimo_2019_df.rename(columns = {'ΠΡΟΣ ΕΜΑ ΑΠΟΡΡΙΜΜΑ-ΤΑ':'ΠΡΟΣ ΕΜΑ ΑΠΟΡΡΙΜΜΑΤΑ', 'ΠΡΟΣ ΕΜΑ ΟΡΓΑΝΙΚΑ (ΚΑΦΕ ΚΑΔΟΣ)':'ΠΡΟΣ ΕΜΑ ΟΡΓΑΝΙΚΑ', 'ΠΡΟΣ ΕΜΑ ΑΝΑΚΥ-ΚΛΩΣΗ (ΜΠΛΕ ΚΑΔΟΣ)':'ΠΡΟΣ ΕΜΑ ΑΝΑΚΥΚΛΩΣΗ', 'ΠΡΟΣ ΧΥΤΑ (και ΕΜΑ) ΑΠΟ ΚΔΑΥ*':'ΠΡΟΣ ΧΥΤΑ ΑΠΟ ΚΔΑΥ', 'ΠΡΟΓΡ. ΑΝΑΚΥΚΛ. ΧΑΡΤΙΟΥ':'ΠΡΟΓΡΑΜΜΑ ΑΝΑΚΥΚΛΩΣΗΣ ΧΑΡΤΙΟΥ'}, inplace = True)"
      ],
      "execution_count": null,
      "outputs": []
    },
    {
      "cell_type": "code",
      "metadata": {
        "id": "a8JTBcZJRrwc"
      },
      "source": [
        "# Rename columns\n",
        "analisi_ana_dimo_2020_df.rename(columns = {'ΠΡΟΣ ΕΜΑ ΑΠΟΡΡΙΜΜΑ-ΤΑ':'ΠΡΟΣ ΕΜΑ ΑΠΟΡΡΙΜΜΑΤΑ', 'ΠΡΟΣ ΕΜΑ ΟΡΓΑΝΙΚΑ (ΚΑΦΕ ΚΑΔΟΣ)':'ΠΡΟΣ ΕΜΑ ΟΡΓΑΝΙΚΑ', 'ΠΡΟΣ ΕΜΑ ΑΝΑΚΥ-ΚΛΩΣΗ (ΜΠΛΕ ΚΑΔΟΣ)':'ΠΡΟΣ ΕΜΑ ΑΝΑΚΥΚΛΩΣΗ', 'ΠΡΟΓΡ. ΑΝΑΚΥΚΛ. ΧΑΡΤΙΟΥ':'ΠΡΟΓΡΑΜΜΑ ΑΝΑΚΥΚΛΩΣΗΣ ΧΑΡΤΙΟΥ'}, inplace = True)"
      ],
      "execution_count": null,
      "outputs": []
    },
    {
      "cell_type": "code",
      "metadata": {
        "id": "Nf_EqEa3Xr3D"
      },
      "source": [
        "# Sum up columns into one column\n",
        "analisi_ana_dimo_2020_df['ΠΡΟΣ ΧΥΤΑ']= analisi_ana_dimo_2020_df.iloc[:, 1:4].sum(axis=1)"
      ],
      "execution_count": null,
      "outputs": []
    },
    {
      "cell_type": "code",
      "metadata": {
        "id": "HVv-7jW-9aS4"
      },
      "source": [
        "# Drop columns\n",
        "analisi_ana_dimo_2020_df = analisi_ana_dimo_2020_df.drop(analisi_ana_dimo_2020_df.columns[1], axis=1)\n",
        "analisi_ana_dimo_2020_df = analisi_ana_dimo_2020_df.drop(analisi_ana_dimo_2020_df.columns[2], axis=1)"
      ],
      "execution_count": null,
      "outputs": []
    },
    {
      "cell_type": "code",
      "metadata": {
        "id": "cI6tQsUR-MMO"
      },
      "source": [
        "# Drop column\n",
        "analisi_ana_dimo_2020_df = analisi_ana_dimo_2020_df.drop(analisi_ana_dimo_2020_df.columns[1], axis=1)"
      ],
      "execution_count": null,
      "outputs": []
    },
    {
      "cell_type": "code",
      "metadata": {
        "id": "0EMVqYyD_UPe"
      },
      "source": [
        "# Reorder column (pd.drop & pd.insert method)\n",
        "mid = analisi_ana_dimo_2020_df['ΠΡΟΣ ΧΥΤΑ']\n",
        "analisi_ana_dimo_2020_df.drop(labels=['ΠΡΟΣ ΧΥΤΑ'], axis=1, inplace = True)\n",
        "analisi_ana_dimo_2020_df.insert(1, 'ΠΡΟΣ ΧΥΤΑ', mid)"
      ],
      "execution_count": null,
      "outputs": []
    },
    {
      "cell_type": "code",
      "metadata": {
        "id": "Ypa6a6Oc_VfC"
      },
      "source": [
        "# Drop columns for concatenated version (δες τι γινεται με στήλες για συσκευασία και σεδ)"
      ],
      "execution_count": null,
      "outputs": []
    },
    {
      "cell_type": "code",
      "metadata": {
        "id": "Ck3L93OzSQtT"
      },
      "source": [
        "# Add column (missing paper recycling column)\n",
        "analisi_ana_dimo_2015_df.insert(8, \"ΠΡΟΓΡΑΜΜΑ ΑΝΑΚΥΚΛΩΣΗΣ ΧΑΡΤΙΟΥ\", '0')\n",
        "analisi_ana_dimo_2016_df.insert(8, \"ΠΡΟΓΡΑΜΜΑ ΑΝΑΚΥΚΛΩΣΗΣ ΧΑΡΤΙΟΥ\", '0')\n",
        "analisi_ana_dimo_2017_df.insert(8, \"ΠΡΟΓΡΑΜΜΑ ΑΝΑΚΥΚΛΩΣΗΣ ΧΑΡΤΙΟΥ\", '0')\n",
        "analisi_ana_dimo_2018_df.insert(8, \"ΠΡΟΓΡΑΜΜΑ ΑΝΑΚΥΚΛΩΣΗΣ ΧΑΡΤΙΟΥ\", '0')"
      ],
      "execution_count": null,
      "outputs": []
    },
    {
      "cell_type": "code",
      "metadata": {
        "id": "x-06fuLGZETF"
      },
      "source": [
        "# Add columns (2015-2018 dataframes)\n",
        "analisi_ana_dimo_2015_df.insert(9, \"ΑΠΟ ΔΗΜΟΥΣ ΠΡΟΣ ΚΔΑΥ\", '0')\n",
        "analisi_ana_dimo_2015_df.insert(11, \"ΣΥΣΚΕΥΑΣΙΑ ΣΤΑ ΚΔΑΥ\", '0')\n",
        "analisi_ana_dimo_2016_df.insert(9, \"ΑΠΟ ΔΗΜΟΥΣ ΠΡΟΣ ΚΔΑΥ\", '0')\n",
        "analisi_ana_dimo_2016_df.insert(11, \"ΣΥΣΚΕΥΑΣΙΑ ΣΤΑ ΚΔΑΥ\", '0')\n",
        "analisi_ana_dimo_2017_df.insert(9, \"ΑΠΟ ΔΗΜΟΥΣ ΠΡΟΣ ΚΔΑΥ\", '0')\n",
        "analisi_ana_dimo_2017_df.insert(11, \"ΣΥΣΚΕΥΑΣΙΑ ΣΤΑ ΚΔΑΥ\", '0')\n",
        "analisi_ana_dimo_2018_df.insert(9, \"ΑΠΟ ΔΗΜΟΥΣ ΠΡΟΣ ΚΔΑΥ\", '0')\n",
        "analisi_ana_dimo_2018_df.insert(11, \"ΣΥΣΚΕΥΑΣΙΑ ΣΤΑ ΚΔΑΥ\", '0')"
      ],
      "execution_count": null,
      "outputs": []
    },
    {
      "cell_type": "code",
      "metadata": {
        "id": "DkyyG6Ticy0M"
      },
      "source": [
        "# Delete two last rows\n",
        "analisi_ana_dimo_2019_df = analisi_ana_dimo_2019_df.iloc[:-2 , :]"
      ],
      "execution_count": null,
      "outputs": []
    },
    {
      "cell_type": "code",
      "metadata": {
        "id": "N6s5IGVTccAS"
      },
      "source": [
        "# Insert column from another dataframe (2019)\n",
        "analisi_ana_dimo_2019_df['ΑΠΟ ΔΗΜΟΥΣ ΠΡΟΣ ΚΔΑΥ'] = pistopoiiseis_eeaa_ana_dimo_2019_df['ΑΠO ΔΗΜΟΥΣ ΠΡΟΣ ΚΔΑΥ'].values"
      ],
      "execution_count": null,
      "outputs": []
    },
    {
      "cell_type": "code",
      "metadata": {
        "id": "YtxaooI3gGC9"
      },
      "source": [
        "# Subtract two columns and put the results in a new column\n",
        "analisi_ana_dimo_2019_df['ΣΥΣΚΕΥΑΣΙΑ ΣΤΑ ΚΔΑΥ'] = analisi_ana_dimo_2019_df['ΑΠΟ ΔΗΜΟΥΣ ΠΡΟΣ ΚΔΑΥ'] - analisi_ana_dimo_2019_df['ΠΡΟΣ ΧΥΤΑ ΑΠΟ ΚΔΑΥ']"
      ],
      "execution_count": null,
      "outputs": []
    },
    {
      "cell_type": "code",
      "metadata": {
        "id": "ESjwz3WAiIZD"
      },
      "source": [
        "# Sum up columns into one column\n",
        "analisi_ana_dimo_2020_df['ΑΠΟ ΔΗΜΟΥΣ ΠΡΟΣ ΚΔΑΥ'] = analisi_ana_dimo_2020_df['ΠΡΟΣ ΧΥΤΑ ΑΠΟ ΚΔΑΥ'] + analisi_ana_dimo_2020_df['ΣΥΣΚΕΥΑΣΙΑ ΣΤΑ ΚΔΑΥ ']"
      ],
      "execution_count": null,
      "outputs": []
    },
    {
      "cell_type": "code",
      "metadata": {
        "id": "zIT19VhlhiJB"
      },
      "source": [
        "# Insert column from another dataframe (2019)\n",
        "analisi_ana_dimo_2019_df['ΑΠΟ ΔΗΜΟΥΣ ΠΡΟΣ ΚΔΑΥ'] = pistopoiiseis_eeaa_ana_dimo_2019_df['ΑΠO ΔΗΜΟΥΣ ΠΡΟΣ ΚΔΑΥ'].values"
      ],
      "execution_count": null,
      "outputs": []
    },
    {
      "cell_type": "code",
      "metadata": {
        "id": "ym7lzRt0k4a9"
      },
      "source": [
        "# Delete column \n",
        "del analisi_ana_dimo_2020_df['ΛΟΙΠΑ ΜΕΣΩ ΣΕΔ']"
      ],
      "execution_count": null,
      "outputs": []
    },
    {
      "cell_type": "code",
      "metadata": {
        "id": "D_5XVofLuF9y"
      },
      "source": [
        "# Delete two last rows\n",
        "analisi_ana_dimo_2020_df = analisi_ana_dimo_2020_df.iloc[:-2 , :]"
      ],
      "execution_count": null,
      "outputs": []
    },
    {
      "cell_type": "code",
      "metadata": {
        "id": "-q-jQGXTRxLy"
      },
      "source": [
        "# Rename columns\n",
        "analisi_ana_dimo_2019_df.rename(columns = {'ΣΥΝΟΛΟ  ':'ΣΥΝΟΛΟ'}, inplace = True)\n",
        "analisi_ana_dimo_2020_df.rename(columns = {'ΣΥΣΚΕΥΑΣΙΑ ΣΤΑ ΚΔΑΥ ':'ΣΥΣΚΕΥΑΣΙΑ ΣΤΑ ΚΔΑΥ', 'ΣΥΝΟΛΟ  ':'ΣΥΝΟΛΟ'}, inplace = True)"
      ],
      "execution_count": null,
      "outputs": []
    },
    {
      "cell_type": "code",
      "metadata": {
        "id": "N3Exa9yl2O1J"
      },
      "source": [
        "# Σε αυτό το σημείο μπαίνουν εντολές ώστε να υπολογιστεί το σύνολο λαμβάνοντας υπόψιν το υπόλειμμα των μπλε κάδων από ΚΔΑΥ."
      ],
      "execution_count": null,
      "outputs": []
    },
    {
      "cell_type": "code",
      "metadata": {
        "id": "mwWt1xcnRVKY"
      },
      "source": [
        "# Delete column (ΣΥΝΟΛΟ)\n",
        "del analisi_ana_dimo_2015_df['ΣΥΝΟΛΟ']\n",
        "del analisi_ana_dimo_2016_df['ΣΥΝΟΛΟ']\n",
        "del analisi_ana_dimo_2017_df['ΣΥΝΟΛΟ']\n",
        "del analisi_ana_dimo_2018_df['ΣΥΝΟΛΟ']\n",
        "del analisi_ana_dimo_2019_df['ΣΥΝΟΛΟ']\n",
        "del analisi_ana_dimo_2020_df['ΣΥΝΟΛΟ']"
      ],
      "execution_count": null,
      "outputs": []
    },
    {
      "cell_type": "code",
      "metadata": {
        "id": "Ns0AUAhVkHxS"
      },
      "source": [
        "# Παρατηρείται αδυναμία να ολοκληρωθεί η πρόσθεση με σφάλμα unsupported operand type(s) for -: 'str' and 'float'\n",
        "# Επειδή το έχω βρει αργότερα θα τρέξω τη σχετική εντολή για μετατροπή των δεδομένων."
      ],
      "execution_count": null,
      "outputs": []
    },
    {
      "cell_type": "code",
      "metadata": {
        "id": "-BfVupGrkZpz"
      },
      "source": [
        "# Turn numeric data from specific columns to integer type\n",
        "analisi_ana_dimo_2015_df = analisi_ana_dimo_2015_df.astype({\"ΠΡΟΣ ΕΜΑ ΛΑΪΚΕΣ ΑΓΟΡΕΣ\":'float', \"ΠΡΟΓΡΑΜΜΑ ΑΝΑΚΥΚΛΩΣΗΣ ΧΑΡΤΙΟΥ\":'float', \n",
        "                                                            \"ΑΠΟ ΔΗΜΟΥΣ ΠΡΟΣ ΚΔΑΥ\":'float', \"ΠΡΟΣ ΧΥΤΑ ΑΠΟ ΚΔΑΥ\":'float', \"ΣΥΣΚΕΥΑΣΙΑ ΣΤΑ ΚΔΑΥ\":'float'})\n",
        "analisi_ana_dimo_2016_df = analisi_ana_dimo_2016_df.astype({\"ΠΡΟΓΡΑΜΜΑ ΑΝΑΚΥΚΛΩΣΗΣ ΧΑΡΤΙΟΥ\":'float', \"ΑΠΟ ΔΗΜΟΥΣ ΠΡΟΣ ΚΔΑΥ\":'float', \"ΣΥΣΚΕΥΑΣΙΑ ΣΤΑ ΚΔΑΥ\":'float'})\n",
        "analisi_ana_dimo_2017_df = analisi_ana_dimo_2017_df.astype({\"ΠΡΟΓΡΑΜΜΑ ΑΝΑΚΥΚΛΩΣΗΣ ΧΑΡΤΙΟΥ\":'float', \"ΑΠΟ ΔΗΜΟΥΣ ΠΡΟΣ ΚΔΑΥ\":'float', \"ΣΥΣΚΕΥΑΣΙΑ ΣΤΑ ΚΔΑΥ\":'float'})\n",
        "analisi_ana_dimo_2018_df = analisi_ana_dimo_2018_df.astype({\"ΠΡΟΓΡΑΜΜΑ ΑΝΑΚΥΚΛΩΣΗΣ ΧΑΡΤΙΟΥ\":'float', \"ΑΠΟ ΔΗΜΟΥΣ ΠΡΟΣ ΚΔΑΥ\":'float', \"ΣΥΣΚΕΥΑΣΙΑ ΣΤΑ ΚΔΑΥ\":'float'})\n",
        "analisi_ana_dimo_2019_df = analisi_ana_dimo_2019_df.astype({\"ΑΠΟ ΔΗΜΟΥΣ ΠΡΟΣ ΚΔΑΥ\":'float', \"ΣΥΣΚΕΥΑΣΙΑ ΣΤΑ ΚΔΑΥ\":'float'})"
      ],
      "execution_count": null,
      "outputs": []
    },
    {
      "cell_type": "code",
      "metadata": {
        "id": "tHe8SHliTfSI"
      },
      "source": [
        "# Sum up columns into one column (ΣΥΝΟΛΟ ΜΕ ΥΠΟΛΕΙΜΜΑ ΜΠΛΕ ΚΑΔΩΝ)\n",
        "analisi_ana_dimo_2015_df['ΣΥΝΟΛΟ'] = analisi_ana_dimo_2015_df['ΠΡΟΣ ΧΥΤΑ'] + analisi_ana_dimo_2015_df['ΠΡΟΣ ΣΜΑ'] + analisi_ana_dimo_2015_df['ΠΡΟΣ ΕΜΑ ΑΠΟΡΡΙΜΜΑΤΑ'] + analisi_ana_dimo_2015_df['ΠΡΟΣ ΕΜΑ ΠΡΑΣΙΝΑ'] + analisi_ana_dimo_2015_df['ΠΡΟΣ ΕΜΑ ΟΡΓΑΝΙΚΑ'] + analisi_ana_dimo_2015_df['ΠΡΟΣ ΕΜΑ ΑΝΑΚΥΚΛΩΣΗ'] +  + analisi_ana_dimo_2015_df['ΠΡΟΣ ΕΜΑ ΛΑΪΚΕΣ ΑΓΟΡΕΣ'] +  + analisi_ana_dimo_2015_df['ΠΡΟΓΡΑΜΜΑ ΑΝΑΚΥΚΛΩΣΗΣ ΧΑΡΤΙΟΥ'] +  + analisi_ana_dimo_2015_df['ΠΡΟΣ ΧΥΤΑ ΑΠΟ ΚΔΑΥ'] +  + analisi_ana_dimo_2015_df['ΣΥΣΚΕΥΑΣΙΑ ΣΤΑ ΚΔΑΥ']\n",
        "analisi_ana_dimo_2016_df['ΣΥΝΟΛΟ'] = analisi_ana_dimo_2016_df['ΠΡΟΣ ΧΥΤΑ'] + analisi_ana_dimo_2016_df['ΠΡΟΣ ΣΜΑ'] + analisi_ana_dimo_2016_df['ΠΡΟΣ ΕΜΑ ΑΠΟΡΡΙΜΜΑΤΑ'] + analisi_ana_dimo_2016_df['ΠΡΟΣ ΕΜΑ ΠΡΑΣΙΝΑ'] + analisi_ana_dimo_2016_df['ΠΡΟΣ ΕΜΑ ΟΡΓΑΝΙΚΑ'] + analisi_ana_dimo_2016_df['ΠΡΟΣ ΕΜΑ ΑΝΑΚΥΚΛΩΣΗ'] +  + analisi_ana_dimo_2016_df['ΠΡΟΣ ΕΜΑ ΛΑΪΚΕΣ ΑΓΟΡΕΣ'] +  + analisi_ana_dimo_2016_df['ΠΡΟΓΡΑΜΜΑ ΑΝΑΚΥΚΛΩΣΗΣ ΧΑΡΤΙΟΥ'] +  + analisi_ana_dimo_2016_df['ΠΡΟΣ ΧΥΤΑ ΑΠΟ ΚΔΑΥ'] +  + analisi_ana_dimo_2016_df['ΣΥΣΚΕΥΑΣΙΑ ΣΤΑ ΚΔΑΥ']\n",
        "analisi_ana_dimo_2017_df['ΣΥΝΟΛΟ'] = analisi_ana_dimo_2017_df['ΠΡΟΣ ΧΥΤΑ'] + analisi_ana_dimo_2017_df['ΠΡΟΣ ΣΜΑ'] + analisi_ana_dimo_2017_df['ΠΡΟΣ ΕΜΑ ΑΠΟΡΡΙΜΜΑΤΑ'] + analisi_ana_dimo_2017_df['ΠΡΟΣ ΕΜΑ ΠΡΑΣΙΝΑ'] + analisi_ana_dimo_2017_df['ΠΡΟΣ ΕΜΑ ΟΡΓΑΝΙΚΑ'] + analisi_ana_dimo_2017_df['ΠΡΟΣ ΕΜΑ ΑΝΑΚΥΚΛΩΣΗ'] +  + analisi_ana_dimo_2017_df['ΠΡΟΣ ΕΜΑ ΛΑΪΚΕΣ ΑΓΟΡΕΣ'] +  + analisi_ana_dimo_2017_df['ΠΡΟΓΡΑΜΜΑ ΑΝΑΚΥΚΛΩΣΗΣ ΧΑΡΤΙΟΥ'] +  + analisi_ana_dimo_2017_df['ΠΡΟΣ ΧΥΤΑ ΑΠΟ ΚΔΑΥ'] +  + analisi_ana_dimo_2017_df['ΣΥΣΚΕΥΑΣΙΑ ΣΤΑ ΚΔΑΥ']\n",
        "analisi_ana_dimo_2018_df['ΣΥΝΟΛΟ'] = analisi_ana_dimo_2018_df['ΠΡΟΣ ΧΥΤΑ'] + analisi_ana_dimo_2018_df['ΠΡΟΣ ΣΜΑ'] + analisi_ana_dimo_2018_df['ΠΡΟΣ ΕΜΑ ΑΠΟΡΡΙΜΜΑΤΑ'] + analisi_ana_dimo_2018_df['ΠΡΟΣ ΕΜΑ ΠΡΑΣΙΝΑ'] + analisi_ana_dimo_2018_df['ΠΡΟΣ ΕΜΑ ΟΡΓΑΝΙΚΑ'] + analisi_ana_dimo_2018_df['ΠΡΟΣ ΕΜΑ ΑΝΑΚΥΚΛΩΣΗ'] +  + analisi_ana_dimo_2018_df['ΠΡΟΣ ΕΜΑ ΛΑΪΚΕΣ ΑΓΟΡΕΣ'] +  + analisi_ana_dimo_2018_df['ΠΡΟΓΡΑΜΜΑ ΑΝΑΚΥΚΛΩΣΗΣ ΧΑΡΤΙΟΥ'] +  + analisi_ana_dimo_2018_df['ΠΡΟΣ ΧΥΤΑ ΑΠΟ ΚΔΑΥ'] +  + analisi_ana_dimo_2018_df['ΣΥΣΚΕΥΑΣΙΑ ΣΤΑ ΚΔΑΥ']\n",
        "analisi_ana_dimo_2019_df['ΣΥΝΟΛΟ'] = analisi_ana_dimo_2019_df['ΠΡΟΣ ΧΥΤΑ'] + analisi_ana_dimo_2019_df['ΠΡΟΣ ΣΜΑ'] + analisi_ana_dimo_2019_df['ΠΡΟΣ ΕΜΑ ΑΠΟΡΡΙΜΜΑΤΑ'] + analisi_ana_dimo_2019_df['ΠΡΟΣ ΕΜΑ ΠΡΑΣΙΝΑ'] + analisi_ana_dimo_2019_df['ΠΡΟΣ ΕΜΑ ΟΡΓΑΝΙΚΑ'] + analisi_ana_dimo_2019_df['ΠΡΟΣ ΕΜΑ ΑΝΑΚΥΚΛΩΣΗ'] +  + analisi_ana_dimo_2019_df['ΠΡΟΣ ΕΜΑ ΛΑΪΚΕΣ ΑΓΟΡΕΣ'] +  + analisi_ana_dimo_2019_df['ΠΡΟΓΡΑΜΜΑ ΑΝΑΚΥΚΛΩΣΗΣ ΧΑΡΤΙΟΥ'] +  + analisi_ana_dimo_2019_df['ΠΡΟΣ ΧΥΤΑ ΑΠΟ ΚΔΑΥ'] +  + analisi_ana_dimo_2019_df['ΣΥΣΚΕΥΑΣΙΑ ΣΤΑ ΚΔΑΥ']\n",
        "analisi_ana_dimo_2020_df['ΣΥΝΟΛΟ'] = analisi_ana_dimo_2020_df['ΠΡΟΣ ΧΥΤΑ'] + analisi_ana_dimo_2020_df['ΠΡΟΣ ΣΜΑ'] + analisi_ana_dimo_2020_df['ΠΡΟΣ ΕΜΑ ΑΠΟΡΡΙΜΜΑΤΑ'] + analisi_ana_dimo_2020_df['ΠΡΟΣ ΕΜΑ ΠΡΑΣΙΝΑ'] + analisi_ana_dimo_2020_df['ΠΡΟΣ ΕΜΑ ΟΡΓΑΝΙΚΑ'] + analisi_ana_dimo_2020_df['ΠΡΟΣ ΕΜΑ ΑΝΑΚΥΚΛΩΣΗ'] +  + analisi_ana_dimo_2020_df['ΠΡΟΣ ΕΜΑ ΛΑΪΚΕΣ ΑΓΟΡΕΣ'] +  + analisi_ana_dimo_2020_df['ΠΡΟΓΡΑΜΜΑ ΑΝΑΚΥΚΛΩΣΗΣ ΧΑΡΤΙΟΥ'] +  + analisi_ana_dimo_2020_df['ΠΡΟΣ ΧΥΤΑ ΑΠΟ ΚΔΑΥ'] +  + analisi_ana_dimo_2020_df['ΣΥΣΚΕΥΑΣΙΑ ΣΤΑ ΚΔΑΥ']"
      ],
      "execution_count": null,
      "outputs": []
    },
    {
      "cell_type": "code",
      "metadata": {
        "id": "Bf7fH7eAk_Z7"
      },
      "source": [
        "# Reorder columns (final) \n",
        "analisi_ana_dimo_2019_df = analisi_ana_dimo_2019_df.iloc[:, [0,1,2,3,4,5,7,6,8,11,9,12,10,13]]\n",
        "analisi_ana_dimo_2020_df = analisi_ana_dimo_2020_df.iloc[:, [0,1,2,3,4,5,7,6,8,12,9,10,11,13]]"
      ],
      "execution_count": null,
      "outputs": []
    },
    {
      "cell_type": "code",
      "metadata": {
        "id": "gJ7fojFHIvft"
      },
      "source": [
        "# Create dataframes (χωρίς τα γενικά σύνολα ώστε να μπορεί να γίνει ταξινόμηση αλφαβητικά - θα προστεθούν μετά από άλλο dataframe)\n",
        "analisi_ana_dimo_2015_horis_genika_synola_df = analisi_ana_dimo_2015_df.iloc[:-1 , :]\n",
        "analisi_ana_dimo_2016_horis_genika_synola_df = analisi_ana_dimo_2016_df.iloc[:-1 , :]\n",
        "analisi_ana_dimo_2017_horis_genika_synola_df = analisi_ana_dimo_2017_df.iloc[:-1 , :]\n",
        "analisi_ana_dimo_2018_horis_genika_synola_df = analisi_ana_dimo_2018_df.iloc[:-1 , :]\n",
        "analisi_ana_dimo_2019_horis_genika_synola_df = analisi_ana_dimo_2019_df.iloc[:-1 , :]\n",
        "analisi_ana_dimo_2020_horis_genika_synola_df = analisi_ana_dimo_2020_df.iloc[:-1 , :]"
      ],
      "execution_count": null,
      "outputs": []
    },
    {
      "cell_type": "code",
      "metadata": {
        "id": "Z01BzWnSswuU",
        "colab": {
          "base_uri": "https://localhost:8080/"
        },
        "outputId": "87a70c34-1628-4e5c-8c3d-d0f14b7111a0"
      },
      "source": [
        "# Check number of rows and columns\n",
        "analisi_ana_dimo_2015_df.shape\n",
        "analisi_ana_dimo_2016_df.shape\n",
        "analisi_ana_dimo_2017_df.shape\n",
        "analisi_ana_dimo_2018_df.shape\n",
        "analisi_ana_dimo_2019_df.shape\n",
        "analisi_ana_dimo_2020_df.shape"
      ],
      "execution_count": null,
      "outputs": [
        {
          "output_type": "execute_result",
          "data": {
            "text/plain": [
              "(67, 14)"
            ]
          },
          "metadata": {},
          "execution_count": 140
        }
      ]
    },
    {
      "cell_type": "code",
      "metadata": {
        "id": "U8w8izG_dft7"
      },
      "source": [
        "# Check the name of columns in order to find the error\n",
        "#print(analisi_ana_dimo_2015_df.columns)\n",
        "#print(analisi_ana_dimo_2016_df.columns)\n",
        "#print(analisi_ana_dimo_2017_df.columns)\n",
        "#print(analisi_ana_dimo_2018_df.columns)\n",
        "#print(analisi_ana_dimo_2019_df.columns)\n",
        "#print(analisi_ana_dimo_2020_df.columns)"
      ],
      "execution_count": null,
      "outputs": []
    },
    {
      "cell_type": "code",
      "metadata": {
        "id": "Y6VJNBpByE_1"
      },
      "source": [
        "# Concatenate dataframes\n",
        "#analisi_ana_dimo_df = pd.concat([analisi_ana_dimo_2015_df, analisi_ana_dimo_2016_df, \n",
        "                                 #analisi_ana_dimo_2017_df, analisi_ana_dimo_2018_df, analisi_ana_dimo_2019_df, analisi_ana_dimo_2020_df], axis=0)"
      ],
      "execution_count": null,
      "outputs": []
    },
    {
      "cell_type": "code",
      "metadata": {
        "id": "tNP3R6Vfxw4b"
      },
      "source": [
        "# Παρατηρήθηκαν διπλές στήλες όταν έγινε ένωση. Δεδομένου ότι οι τίτλο ήταν κοινοί, ακολούθησε testing ώστε να εντοπιστούν τα dataframes που υπήρχε λάθος (π.χ. λατινικοί χαρακτήρες)."
      ],
      "execution_count": null,
      "outputs": []
    },
    {
      "cell_type": "code",
      "metadata": {
        "id": "vYa6nv0DyQSR"
      },
      "source": [
        "# Concatenate dataframes (test)\n",
        "#analisi_ana_dimo_df_test1 = pd.concat([analisi_ana_dimo_2015_df, analisi_ana_dimo_2016_df, analisi_ana_dimo_2017_df, analisi_ana_dimo_2018_df, analisi_ana_dimo_2019_df], axis=0)"
      ],
      "execution_count": null,
      "outputs": []
    },
    {
      "cell_type": "code",
      "metadata": {
        "id": "d-uav0fayTLx"
      },
      "source": [
        "# Concatenate dataframes (test)\n",
        "#analisi_ana_dimo_df_test2 = pd.concat([analisi_ana_dimo_2015_df, analisi_ana_dimo_2016_df, analisi_ana_dimo_2017_df, analisi_ana_dimo_2018_df], axis=0)"
      ],
      "execution_count": null,
      "outputs": []
    },
    {
      "cell_type": "code",
      "metadata": {
        "id": "a5I6PkOyeC57"
      },
      "source": [
        "# Check the name of columns in order to find the error (test)\n",
        "#print(analisi_ana_dimo_2015_df.columns)\n",
        "#print(analisi_ana_dimo_2016_df.columns)\n",
        "#print(analisi_ana_dimo_2017_df.columns)\n",
        "#print(analisi_ana_dimo_2018_df.columns)\n",
        "#print(analisi_ana_dimo_2019_df.columns)\n",
        "#print(analisi_ana_dimo_2020_df.columns)"
      ],
      "execution_count": null,
      "outputs": []
    },
    {
      "cell_type": "code",
      "metadata": {
        "id": "0oZE2f-Lv08t"
      },
      "source": [
        "# Create dataframes (στοιχεία ΕΛ.ΣΤΑΤ. - απογραφή πληθυσμού 2011)"
      ],
      "execution_count": null,
      "outputs": []
    },
    {
      "cell_type": "code",
      "metadata": {
        "id": "XAlRRkjcrv4I"
      },
      "source": [
        "monimos_plithismos_2011_df = pd.read_csv('/gdrive/My Drive/Colab Notebooks/Files/Thesis - Datasets & Reports/ELSTAT/2011 POPULATION - HOUSING CENSUS/WORKBENCH/attica_resident_population_census_2011.csv')"
      ],
      "execution_count": null,
      "outputs": []
    },
    {
      "cell_type": "code",
      "metadata": {
        "id": "d9BsRbdUr4DT"
      },
      "source": [
        "de_facto_plithismos_2011_df = pd.read_csv('/gdrive/My Drive/Colab Notebooks/Files/Thesis - Datasets & Reports/ELSTAT/2011 POPULATION - HOUSING CENSUS/WORKBENCH/attica_defacto_population_census_2011.csv')"
      ],
      "execution_count": null,
      "outputs": []
    },
    {
      "cell_type": "code",
      "metadata": {
        "id": "WkP_5HU1r-jz"
      },
      "source": [
        "de_jure_plithismos_2011_df = pd.read_csv('/gdrive/My Drive/Colab Notebooks/Files/Thesis - Datasets & Reports/ELSTAT/2011 POPULATION - HOUSING CENSUS/WORKBENCH/attica_dejure_population_census_2011.csv')"
      ],
      "execution_count": null,
      "outputs": []
    },
    {
      "cell_type": "code",
      "metadata": {
        "id": "Dd5GG5hnV6Pe"
      },
      "source": [
        "# Alphabetical order\n",
        "monimos_plithismos_2011_df = monimos_plithismos_2011_df.sort_values('ΔΗΜΟΣ')\n",
        "de_facto_plithismos_2011_df = de_facto_plithismos_2011_df.sort_values('ΔΗΜΟΣ')\n",
        "de_jure_plithismos_2011_df = de_jure_plithismos_2011_df.sort_values('ΔΗΜΟΣ')"
      ],
      "execution_count": null,
      "outputs": []
    },
    {
      "cell_type": "code",
      "metadata": {
        "id": "9zuogkkfbnd_"
      },
      "source": [
        "# Βλέπουμε ότι λόγω διαφορετικής γραφής ή λάθους, υπάρχουν αποκκλίσεις με τα αρχεία της ΕΣΔΝΑ.\n",
        "# Πρέπει να γίνει και εκεί ταξινόμηση αλφαβητικά χωρίς όμως το τελευταίο row που είναι τα γενικά σύνολα των δήμων.\n",
        "# Επίσης, θέλουμε στήλες που θα δίνουν απόλυτη και ποσοστιαία μεταβολή ανά έτος.\n",
        "# Οπότε: 1) δημιουργία dataframes χωρίς γενικά σύνολα 2) δημιουργία άλλου dataframe που στο τέλος θα έχει στήλες με μεταβολές."
      ],
      "execution_count": null,
      "outputs": []
    },
    {
      "cell_type": "code",
      "metadata": {
        "id": "kzCUx0kMKyy_"
      },
      "source": [
        "# Create dataframes (χωρίς τα γενικά σύνολα ώστε να μπορεί να γίνει ταξινόμηση αλφαβητικά - θα προστεθούν μετά από άλλο dataframe)\n",
        "analisi_ana_dimo_2015_horis_genika_synola_df = analisi_ana_dimo_2015_df.iloc[:-1 , :]\n",
        "analisi_ana_dimo_2016_horis_genika_synola_df = analisi_ana_dimo_2016_df.iloc[:-1 , :]\n",
        "analisi_ana_dimo_2017_horis_genika_synola_df = analisi_ana_dimo_2017_df.iloc[:-1 , :]\n",
        "analisi_ana_dimo_2018_horis_genika_synola_df = analisi_ana_dimo_2018_df.iloc[:-1 , :]\n",
        "analisi_ana_dimo_2019_horis_genika_synola_df = analisi_ana_dimo_2019_df.iloc[:-1 , :]\n",
        "analisi_ana_dimo_2020_horis_genika_synola_df = analisi_ana_dimo_2020_df.iloc[:-1 , :]"
      ],
      "execution_count": null,
      "outputs": []
    },
    {
      "cell_type": "code",
      "metadata": {
        "id": "UZEOPmpps66l"
      },
      "source": [
        "# Alphabetical order\n",
        "analisi_ana_dimo_2015_horis_genika_synola_df = analisi_ana_dimo_2015_horis_genika_synola_df.sort_values('ΔΗΜΟΣ')\n",
        "analisi_ana_dimo_2016_horis_genika_synola_df = analisi_ana_dimo_2016_horis_genika_synola_df.sort_values('ΔΗΜΟΣ')\n",
        "analisi_ana_dimo_2017_horis_genika_synola_df = analisi_ana_dimo_2017_horis_genika_synola_df.sort_values('ΔΗΜΟΣ')\n",
        "analisi_ana_dimo_2018_horis_genika_synola_df = analisi_ana_dimo_2018_horis_genika_synola_df.sort_values('ΔΗΜΟΣ')\n",
        "analisi_ana_dimo_2019_horis_genika_synola_df = analisi_ana_dimo_2019_horis_genika_synola_df.sort_values('ΔΗΜΟΣ')\n",
        "analisi_ana_dimo_2020_horis_genika_synola_df = analisi_ana_dimo_2020_horis_genika_synola_df.sort_values('ΔΗΜΟΣ')"
      ],
      "execution_count": null,
      "outputs": []
    },
    {
      "cell_type": "code",
      "metadata": {
        "id": "dyTDVmsLt_be"
      },
      "source": [
        "# Insert column from another dataframe (μόνιμος πληθυσμός)\n",
        "analisi_ana_dimo_2015_horis_genika_synola_df['ΜΟΝΙΜΟΣ ΠΛΗΘΥΣΜΟΣ ΒΑΣΕΙ ΑΠΟΓΡΑΦΗΣ 2011'] = monimos_plithismos_2011_df['ΜΟΝΙΜΟΣ ΠΛΗΘΥΣΜΟΣ'].values\n",
        "analisi_ana_dimo_2016_horis_genika_synola_df['ΜΟΝΙΜΟΣ ΠΛΗΘΥΣΜΟΣ ΒΑΣΕΙ ΑΠΟΓΡΑΦΗΣ 2011'] = monimos_plithismos_2011_df['ΜΟΝΙΜΟΣ ΠΛΗΘΥΣΜΟΣ'].values\n",
        "analisi_ana_dimo_2017_horis_genika_synola_df['ΜΟΝΙΜΟΣ ΠΛΗΘΥΣΜΟΣ ΒΑΣΕΙ ΑΠΟΓΡΑΦΗΣ 2011'] = monimos_plithismos_2011_df['ΜΟΝΙΜΟΣ ΠΛΗΘΥΣΜΟΣ'].values\n",
        "analisi_ana_dimo_2018_horis_genika_synola_df['ΜΟΝΙΜΟΣ ΠΛΗΘΥΣΜΟΣ ΒΑΣΕΙ ΑΠΟΓΡΑΦΗΣ 2011'] = monimos_plithismos_2011_df['ΜΟΝΙΜΟΣ ΠΛΗΘΥΣΜΟΣ'].values\n",
        "analisi_ana_dimo_2019_horis_genika_synola_df['ΜΟΝΙΜΟΣ ΠΛΗΘΥΣΜΟΣ ΒΑΣΕΙ ΑΠΟΓΡΑΦΗΣ 2011'] = monimos_plithismos_2011_df['ΜΟΝΙΜΟΣ ΠΛΗΘΥΣΜΟΣ'].values\n",
        "analisi_ana_dimo_2020_horis_genika_synola_df['ΜΟΝΙΜΟΣ ΠΛΗΘΥΣΜΟΣ ΒΑΣΕΙ ΑΠΟΓΡΑΦΗΣ 2011'] = monimos_plithismos_2011_df['ΜΟΝΙΜΟΣ ΠΛΗΘΥΣΜΟΣ'].values"
      ],
      "execution_count": null,
      "outputs": []
    },
    {
      "cell_type": "code",
      "metadata": {
        "id": "Mqf-CZl-5bby"
      },
      "source": [
        "# Insert column from another dataframe (de facto πληθυσμός)\n",
        "#analisi_ana_dimo_2015_horis_genika_synola_df['DE FACTO ΠΛΗΘΥΣΜΟΣ ΒΑΣΕΙ ΑΠΟΓΡΑΦΗΣ 2011'] = de_facto_plithismos_2011_df['DE FACTO ΠΛΗΘΥΣΜΟΣ'].values\n",
        "#analisi_ana_dimo_2016_horis_genika_synola_df['DE FACTO ΠΛΗΘΥΣΜΟΣ ΒΑΣΕΙ ΑΠΟΓΡΑΦΗΣ 2011'] = de_facto_plithismos_2011_df['DE FACTO ΠΛΗΘΥΣΜΟΣ'].values\n",
        "#analisi_ana_dimo_2017_horis_genika_synola_df['DE FACTO ΠΛΗΘΥΣΜΟΣ ΒΑΣΕΙ ΑΠΟΓΡΑΦΗΣ 2011'] = de_facto_plithismos_2011_df['DE FACTO ΠΛΗΘΥΣΜΟΣ'].values\n",
        "#analisi_ana_dimo_2018_horis_genika_synola_df['DE FACTO ΠΛΗΘΥΣΜΟΣ ΒΑΣΕΙ ΑΠΟΓΡΑΦΗΣ 2011'] = de_facto_plithismos_2011_df['DE FACTO ΠΛΗΘΥΣΜΟΣ'].values\n",
        "#analisi_ana_dimo_2019_horis_genika_synola_df['DE FACTO ΠΛΗΘΥΣΜΟΣ ΒΑΣΕΙ ΑΠΟΓΡΑΦΗΣ 2011'] = de_facto_plithismos_2011_df['DE FACTO ΠΛΗΘΥΣΜΟΣ'].values\n",
        "#analisi_ana_dimo_2020_horis_genika_synola_df['DE FACTO ΠΛΗΘΥΣΜΟΣ ΒΑΣΕΙ ΑΠΟΓΡΑΦΗΣ 2011'] = de_facto_plithismos_2011_df['DE FACTO ΠΛΗΘΥΣΜΟΣ'].values"
      ],
      "execution_count": null,
      "outputs": []
    },
    {
      "cell_type": "code",
      "metadata": {
        "id": "PLB0dRXV5cwe"
      },
      "source": [
        "# Insert column from another dataframe (de jure πληθυσμός)\n",
        "#analisi_ana_dimo_2015_horis_genika_synola_df['DE JURE ΠΛΗΘΥΣΜΟΣ ΒΑΣΕΙ ΑΠΟΓΡΑΦΗΣ 2011'] = de_jure_plithismos_2011_df['DE JURE ΠΛΗΘΥΣΜΟΣ'].values\n",
        "#analisi_ana_dimo_2016_horis_genika_synola_df['DE JURE ΠΛΗΘΥΣΜΟΣ ΒΑΣΕΙ ΑΠΟΓΡΑΦΗΣ 2011'] = de_jure_plithismos_2011_df['DE JURE ΠΛΗΘΥΣΜΟΣ'].values\n",
        "#analisi_ana_dimo_2017_horis_genika_synola_df['DE JURE ΠΛΗΘΥΣΜΟΣ ΒΑΣΕΙ ΑΠΟΓΡΑΦΗΣ 2011'] = de_jure_plithismos_2011_df['DE JURE ΠΛΗΘΥΣΜΟΣ'].values\n",
        "#analisi_ana_dimo_2018_horis_genika_synola_df['DE JURE ΠΛΗΘΥΣΜΟΣ ΒΑΣΕΙ ΑΠΟΓΡΑΦΗΣ 2011'] = de_jure_plithismos_2011_df['DE JURE ΠΛΗΘΥΣΜΟΣ'].values\n",
        "#analisi_ana_dimo_2019_horis_genika_synola_df['DE JURE ΠΛΗΘΥΣΜΟΣ ΒΑΣΕΙ ΑΠΟΓΡΑΦΗΣ 2011'] = de_jure_plithismos_2011_df['DE JURE ΠΛΗΘΥΣΜΟΣ'].values\n",
        "#analisi_ana_dimo_2020_horis_genika_synola_df['DE JURE ΠΛΗΘΥΣΜΟΣ ΒΑΣΕΙ ΑΠΟΓΡΑΦΗΣ 2011'] = de_jure_plithismos_2011_df['DE JURE ΠΛΗΘΥΣΜΟΣ'].values"
      ],
      "execution_count": null,
      "outputs": []
    },
    {
      "cell_type": "code",
      "metadata": {
        "id": "9Q_Mr9zlPD78"
      },
      "source": [
        "# Concatenate dataframes (χωρίς γενικά σύνολα)\n",
        "analisi_ana_dimo_horis_genika_synola_df = pd.concat([analisi_ana_dimo_2015_horis_genika_synola_df, analisi_ana_dimo_2016_horis_genika_synola_df, \n",
        "                                 analisi_ana_dimo_2017_horis_genika_synola_df, analisi_ana_dimo_2018_horis_genika_synola_df, analisi_ana_dimo_2019_horis_genika_synola_df, analisi_ana_dimo_2020_horis_genika_synola_df], axis=0)"
      ],
      "execution_count": null,
      "outputs": []
    },
    {
      "cell_type": "code",
      "metadata": {
        "id": "BmTD8pePRPjo"
      },
      "source": [
        "# Concatenate dataframes\n",
        "analisi_ana_dimo_df = pd.concat([analisi_ana_dimo_2015_df, analisi_ana_dimo_2016_df, \n",
        "                                 analisi_ana_dimo_2017_df, analisi_ana_dimo_2018_df, analisi_ana_dimo_2019_df, analisi_ana_dimo_2020_df], axis=0)"
      ],
      "execution_count": null,
      "outputs": []
    },
    {
      "cell_type": "code",
      "metadata": {
        "id": "p39cjw6uOdgj"
      },
      "source": [
        "# Reset index\n",
        "analisi_ana_dimo_df = analisi_ana_dimo_df.reset_index()"
      ],
      "execution_count": null,
      "outputs": []
    },
    {
      "cell_type": "code",
      "metadata": {
        "id": "7m5VHw_fv6vj"
      },
      "source": [
        "# Turn from lowercase to uppercase\n",
        "analisi_ana_dimo_df['ΔΗΜΟΣ'] = analisi_ana_dimo_df['ΔΗΜΟΣ'].str.upper()"
      ],
      "execution_count": null,
      "outputs": []
    },
    {
      "cell_type": "code",
      "metadata": {
        "id": "qavAmKeUxJBc"
      },
      "source": [
        "# Remove accents from values\n",
        "analisi_ana_dimo_df['ΔΗΜΟΣ'] = analisi_ana_dimo_df['ΔΗΜΟΣ'].str.replace(u\"Ά\", \"Α\")\n",
        "analisi_ana_dimo_df['ΔΗΜΟΣ'] = analisi_ana_dimo_df['ΔΗΜΟΣ'].str.replace(u\"Ύ\", \"Υ\")\n",
        "analisi_ana_dimo_df['ΔΗΜΟΣ'] = analisi_ana_dimo_df['ΔΗΜΟΣ'].str.replace(u\"Έ\", \"Ε\")\n",
        "analisi_ana_dimo_df['ΔΗΜΟΣ'] = analisi_ana_dimo_df['ΔΗΜΟΣ'].str.replace(u\"Ή\", \"Η\")"
      ],
      "execution_count": null,
      "outputs": []
    },
    {
      "cell_type": "code",
      "metadata": {
        "id": "JKeldCyKRiyR"
      },
      "source": [
        "# Τα επόμενα βήματα αφορούν τη δημιουργία ενός τελικού dataframe με στήλες απόλυτης και ποσοστιαίας μεταβολής ανά έτος."
      ],
      "execution_count": null,
      "outputs": []
    },
    {
      "cell_type": "code",
      "metadata": {
        "id": "7EKm8BLZOKU-"
      },
      "source": [
        "# Checking if there are duplicated index values (per dataframe)\n",
        "#analisi_ana_dimo_2015_df.index.is_unique => False\n",
        "#analisi_ana_dimo_2016_df.index.is_unique => False\n",
        "#analisi_ana_dimo_2017_df.index.is_unique => False\n",
        "#analisi_ana_dimo_2018_df.index.is_unique => False\n",
        "#analisi_ana_dimo_2019_df.index.is_unique => True\n",
        "#analisi_ana_dimo_2020_df.index.is_unique => True"
      ],
      "execution_count": null,
      "outputs": []
    },
    {
      "cell_type": "code",
      "metadata": {
        "id": "nDgUQMFD0Cb0"
      },
      "source": [
        "# Έπειτα από έλεγχο των dataframes διαπιστώθηκε ότι όταν γινόταν ένωση τους πχ. 2015 df1 + 2015 df2, δημιουργούνταν διπλά index values. \n",
        "# Δεν το προσάρμοζε, θεωρώντας ότι πρόκειται για νέο ενιαίο dataframe."
      ],
      "execution_count": null,
      "outputs": []
    },
    {
      "cell_type": "code",
      "metadata": {
        "id": "Cq8UUMu6yvGB"
      },
      "source": [
        "# Reset index \n",
        "analisi_ana_dimo_2015_df = analisi_ana_dimo_2015_df.reset_index()\n",
        "analisi_ana_dimo_2016_df = analisi_ana_dimo_2016_df.reset_index()\n",
        "analisi_ana_dimo_2017_df = analisi_ana_dimo_2017_df.reset_index()\n",
        "analisi_ana_dimo_2018_df = analisi_ana_dimo_2018_df.reset_index()\n",
        "analisi_ana_dimo_2019_df = analisi_ana_dimo_2019_df.reset_index()\n",
        "analisi_ana_dimo_2020_df = analisi_ana_dimo_2020_df.reset_index()"
      ],
      "execution_count": null,
      "outputs": []
    },
    {
      "cell_type": "code",
      "metadata": {
        "id": "53nldBCBnN9q"
      },
      "source": [
        "analisi_ana_dimo_metavoles_df = pd.concat([analisi_ana_dimo_2019_df['ΔΗΜΟΣ'], analisi_ana_dimo_2015_df['ΣΥΝΟΛΟ'], analisi_ana_dimo_2016_df['ΣΥΝΟΛΟ'],analisi_ana_dimo_2017_df['ΣΥΝΟΛΟ'], \n",
        "                                           analisi_ana_dimo_2018_df['ΣΥΝΟΛΟ'], analisi_ana_dimo_2019_df['ΣΥΝΟΛΟ'], analisi_ana_dimo_2020_df['ΣΥΝΟΛΟ']], axis=1, keys=[\"ΔΗΜΟΣ\", \"ΣΥΝΟΛΟ 2015\", \"ΣΥΝΟΛΟ 2016\", \"ΣΥΝΟΛΟ 2017\", \"ΣΥΝΟΛΟ 2018\", \"ΣΥΝΟΛΟ 2019\", \"ΣΥΝΟΛΟ 2020\"])"
      ],
      "execution_count": null,
      "outputs": []
    },
    {
      "cell_type": "code",
      "metadata": {
        "id": "eTO1X5YbBvlz"
      },
      "source": [
        "#analisi_ana_dimo_metavoles_df['ΔΗΜΟΣ'].replace({\"ΓΕΝΙΚΑ ΢ΥΝΟΛΑ ΔΗΜΩΝ ΠΕΡΙΦΕΡΕΙΑΣ ΑΤΤΙΚΗΣ\": \"ΓΕΝΙΚΑ ΣΥΝΟΛΑ ΔΗΜΩΝ ΠΕΡΙΦΕΡΕΙΑΣ ΑΤΤΙΚΗΣ\"}, inplace=True)"
      ],
      "execution_count": null,
      "outputs": []
    },
    {
      "cell_type": "code",
      "metadata": {
        "id": "gW3nWpmZ7kEO"
      },
      "source": [
        "# Turn from lowercase to uppercase\n",
        "analisi_ana_dimo_metavoles_df['ΔΗΜΟΣ'] = analisi_ana_dimo_metavoles_df['ΔΗΜΟΣ'].str.upper()"
      ],
      "execution_count": null,
      "outputs": []
    },
    {
      "cell_type": "code",
      "metadata": {
        "id": "A81F44Oz7m3M"
      },
      "source": [
        "# Remove accents from values\n",
        "analisi_ana_dimo_metavoles_df['ΔΗΜΟΣ'] = analisi_ana_dimo_metavoles_df['ΔΗΜΟΣ'].str.replace(u\"Ά\", \"Α\")\n",
        "analisi_ana_dimo_metavoles_df['ΔΗΜΟΣ'] = analisi_ana_dimo_metavoles_df['ΔΗΜΟΣ'].str.replace(u\"Ύ\", \"Υ\")\n",
        "analisi_ana_dimo_metavoles_df['ΔΗΜΟΣ'] = analisi_ana_dimo_metavoles_df['ΔΗΜΟΣ'].str.replace(u\"Έ\", \"Ε\")\n",
        "analisi_ana_dimo_metavoles_df['ΔΗΜΟΣ'] = analisi_ana_dimo_metavoles_df['ΔΗΜΟΣ'].str.replace(u\"Ή\", \"Η\")"
      ],
      "execution_count": null,
      "outputs": []
    },
    {
      "cell_type": "code",
      "metadata": {
        "id": "Hwi0VMhLkKM0"
      },
      "source": [
        "#analisi_ana_dimo_metavoles_df['ΠΟΣΟΣΤΙΑΙΑ ΜΕΤΑΒΟΛΗ 2016 ΣΕ ΣΧΕΣΗ ΜΕ 2015'] = [(analisi_ana_dimo_metavoles_df['ΣΥΝΟΛΟ 2016'] / analisi_ana_dimo_metavoles_df['ΣΥΝΟΛΟ 2015'])-1] * 100"
      ],
      "execution_count": null,
      "outputs": []
    },
    {
      "cell_type": "code",
      "metadata": {
        "id": "GojNY8iFrUu5"
      },
      "source": [
        "#analisi_ana_dimo_metavoles_df['ΠΟΣΟΣΤΙΑΙΑ ΜΕΤΑΒΟΛΗ 2016 ΣΕ ΣΧΕΣΗ ΜΕ 2015'] = (analisi_ana_dimo_metavoles_df['ΣΥΝΟΛΟ 2016'] / analisi_ana_dimo_metavoles_df['ΣΥΝΟΛΟ 2015'].sum()) * 100"
      ],
      "execution_count": null,
      "outputs": []
    },
    {
      "cell_type": "code",
      "metadata": {
        "id": "ISqyXe9VmkE9"
      },
      "source": [
        "#analisi_ana_dimo_metavoles_df['ΠΟΣΟΣΤΙΑΙΑ ΜΕΤΑΒΟΛΗ 2016 ΣΕ ΣΧΕΣΗ ΜΕ 2015'] = analisi_ana_dimo_metavoles_df['ΣΥΝΟΛΟ 2016'].div(analisi_ana_dimo_metavoles_df['ΣΥΝΟΛΟ 2015'].iloc[0]).sub(1).mul(100)"
      ],
      "execution_count": null,
      "outputs": []
    },
    {
      "cell_type": "code",
      "metadata": {
        "id": "zgyluSmBH9AD"
      },
      "source": [
        "#analisi_ana_dimo_metavoles_df = analisi_ana_dimo_metavoles_df.replace(['ΓΕΝΙΚΑ ΢ΥΝΟΛΑ ΔΗΜΩΝ ΠΕΡΙΦΕΡΕΙΑΣ ΑΤΤΙΚΗΣ'],'ΓΕΝΙΚΑ ΣΥΝΟΛΑ ΔΗΜΩΝ ΠΕΡΙΦΕΡΕΙΑΣ ΑΤΤΙΚΗΣ')"
      ],
      "execution_count": null,
      "outputs": []
    },
    {
      "cell_type": "code",
      "metadata": {
        "id": "jw0WiRW-DETw"
      },
      "source": [
        "#analisi_ana_dimo_metavoles_df.rename(index={'ΓΕΝΙΚΑ ΢ΥΝΟΛΑ ΔΗΜΩΝ ΠΕΡΙΦΕΡΕΙΑΣ ΑΤΤΙΚΗΣ':'ΓΕΝΙΚΑ ΣΥΝΟΛΑ ΔΗΜΩΝ ΠΕΡΙΦΕΡΕΙΑΣ ΑΤΤΙΚΗΣ'})"
      ],
      "execution_count": null,
      "outputs": []
    },
    {
      "cell_type": "code",
      "metadata": {
        "id": "5s_tKm_EDmrr"
      },
      "source": [
        "# New columns "
      ],
      "execution_count": null,
      "outputs": []
    },
    {
      "cell_type": "code",
      "metadata": {
        "id": "p_zWMfckDoKh"
      },
      "source": [
        "# Ποσοστό ανακύκλωσης"
      ],
      "execution_count": null,
      "outputs": []
    },
    {
      "cell_type": "code",
      "metadata": {
        "id": "g7VmL4GZDqhM"
      },
      "source": [
        "# Απόλυτη μεταβολή ανά έτος\n",
        "analisi_ana_dimo_metavoles_df['ΑΠΟΛΥΤΗ ΜΕΤΑΒΟΛΗ 2016 ΣΕ ΣΧΕΣΗ ΜΕ 2015'] = analisi_ana_dimo_metavoles_df['ΣΥΝΟΛΟ 2016'] - analisi_ana_dimo_metavoles_df['ΣΥΝΟΛΟ 2015']\n",
        "analisi_ana_dimo_metavoles_df['ΑΠΟΛΥΤΗ ΜΕΤΑΒΟΛΗ 2017 ΣΕ ΣΧΕΣΗ ΜΕ 2016'] = analisi_ana_dimo_metavoles_df['ΣΥΝΟΛΟ 2017'] - analisi_ana_dimo_metavoles_df['ΣΥΝΟΛΟ 2016']\n",
        "analisi_ana_dimo_metavoles_df['ΑΠΟΛΥΤΗ ΜΕΤΑΒΟΛΗ 2018 ΣΕ ΣΧΕΣΗ ΜΕ 2017'] = analisi_ana_dimo_metavoles_df['ΣΥΝΟΛΟ 2018'] - analisi_ana_dimo_metavoles_df['ΣΥΝΟΛΟ 2017']\n",
        "analisi_ana_dimo_metavoles_df['ΑΠΟΛΥΤΗ ΜΕΤΑΒΟΛΗ 2019 ΣΕ ΣΧΕΣΗ ΜΕ 2018'] = analisi_ana_dimo_metavoles_df['ΣΥΝΟΛΟ 2019'] - analisi_ana_dimo_metavoles_df['ΣΥΝΟΛΟ 2018']\n",
        "analisi_ana_dimo_metavoles_df['ΑΠΟΛΥΤΗ ΜΕΤΑΒΟΛΗ 2020 ΣΕ ΣΧΕΣΗ ΜΕ 2019'] = analisi_ana_dimo_metavoles_df['ΣΥΝΟΛΟ 2020'] - analisi_ana_dimo_metavoles_df['ΣΥΝΟΛΟ 2019']"
      ],
      "execution_count": null,
      "outputs": []
    },
    {
      "cell_type": "code",
      "metadata": {
        "id": "Y_37f7HuDsfu"
      },
      "source": [
        "# Ποσοστιαία μεταβολή\n",
        "# Θα υπολογισθεί στο excel που θα προκύψει. Φόρμουλα: [(Αριθμός στη μεταγενέστερη χρονική στιγμή ÷ Αριθμός στην προγενέστερη χρονική στιγμή) — 1] × 100"
      ],
      "execution_count": null,
      "outputs": []
    },
    {
      "cell_type": "code",
      "metadata": {
        "id": "sF3CSfAVVQFX"
      },
      "source": [
        "# Remove commas from numeric columns\n",
        "analisi_ana_dimo_horis_genika_synola_df = analisi_ana_dimo_horis_genika_synola_df.replace(',','', regex=True)"
      ],
      "execution_count": null,
      "outputs": []
    },
    {
      "cell_type": "code",
      "metadata": {
        "id": "kO-SZtFXczY4"
      },
      "source": [
        "# Παρατηρείται αδυναμία να ολοκληρωθεί η διαίρεση με σφάλμα unsupported operand type(s) for -: 'str' and 'float'\n",
        "# Θα γίνει έλεγχος του τύπου δεδομένων και τσεκάρισμα ενός από τα dataframes που ήταν από excel και όχι ocr να διαπιστωθεί από πού προέκυψε το θέμα."
      ],
      "execution_count": null,
      "outputs": []
    },
    {
      "cell_type": "code",
      "metadata": {
        "id": "3-a6jNtVYiVN",
        "colab": {
          "base_uri": "https://localhost:8080/"
        },
        "outputId": "3f4012c6-b413-4147-e115-b1d5a094389b"
      },
      "source": [
        "# Check data type\n",
        "analisi_ana_dimo_horis_genika_synola_df.dtypes"
      ],
      "execution_count": null,
      "outputs": [
        {
          "output_type": "execute_result",
          "data": {
            "text/plain": [
              "ΔΗΜΟΣ                                      object\n",
              "ΠΡΟΣ ΧΥΤΑ                                 float64\n",
              "ΠΡΟΣ ΣΜΑ                                  float64\n",
              "ΠΡΟΣ ΕΜΑ ΑΠΟΡΡΙΜΜΑΤΑ                      float64\n",
              "ΠΡΟΣ ΕΜΑ ΠΡΑΣΙΝΑ                          float64\n",
              "ΠΡΟΣ ΕΜΑ ΟΡΓΑΝΙΚΑ                         float64\n",
              "ΠΡΟΣ ΕΜΑ ΑΝΑΚΥΚΛΩΣΗ                       float64\n",
              "ΠΡΟΣ ΕΜΑ ΛΑΪΚΕΣ ΑΓΟΡΕΣ                    float64\n",
              "ΠΡΟΓΡΑΜΜΑ ΑΝΑΚΥΚΛΩΣΗΣ ΧΑΡΤΙΟΥ             float64\n",
              "ΑΠΟ ΔΗΜΟΥΣ ΠΡΟΣ ΚΔΑΥ                      float64\n",
              "ΠΡΟΣ ΧΥΤΑ ΑΠΟ ΚΔΑΥ                        float64\n",
              "ΣΥΣΚΕΥΑΣΙΑ ΣΤΑ ΚΔΑΥ                       float64\n",
              "ΕΤΟΣ                                       object\n",
              "ΣΥΝΟΛΟ                                    float64\n",
              "ΜΟΝΙΜΟΣ ΠΛΗΘΥΣΜΟΣ ΒΑΣΕΙ ΑΠΟΓΡΑΦΗΣ 2011     object\n",
              "dtype: object"
            ]
          },
          "metadata": {},
          "execution_count": 182
        }
      ]
    },
    {
      "cell_type": "code",
      "metadata": {
        "id": "4yHiKlyudJKA",
        "colab": {
          "base_uri": "https://localhost:8080/"
        },
        "outputId": "d2e32937-e22f-4ae4-ec4a-555b92af10fe"
      },
      "source": [
        "# Check data type\n",
        "analisi_ana_dimo_2020_df.dtypes"
      ],
      "execution_count": null,
      "outputs": [
        {
          "output_type": "execute_result",
          "data": {
            "text/plain": [
              "1\n",
              "index                             int64\n",
              "ΔΗΜΟΣ                            object\n",
              "ΠΡΟΣ ΧΥΤΑ                         int64\n",
              "ΠΡΟΣ ΣΜΑ                          int64\n",
              "ΠΡΟΣ ΕΜΑ ΑΠΟΡΡΙΜΜΑΤΑ              int64\n",
              "ΠΡΟΣ ΕΜΑ ΠΡΑΣΙΝΑ                  int64\n",
              "ΠΡΟΣ ΕΜΑ ΟΡΓΑΝΙΚΑ                 int64\n",
              "ΠΡΟΣ ΕΜΑ ΑΝΑΚΥΚΛΩΣΗ               int64\n",
              "ΠΡΟΣ ΕΜΑ ΛΑΪΚΕΣ ΑΓΟΡΕΣ            int64\n",
              "ΠΡΟΓΡΑΜΜΑ ΑΝΑΚΥΚΛΩΣΗΣ ΧΑΡΤΙΟΥ     int64\n",
              "ΑΠΟ ΔΗΜΟΥΣ ΠΡΟΣ ΚΔΑΥ              int64\n",
              "ΠΡΟΣ ΧΥΤΑ ΑΠΟ ΚΔΑΥ                int64\n",
              "ΣΥΣΚΕΥΑΣΙΑ ΣΤΑ ΚΔΑΥ               int64\n",
              "ΕΤΟΣ                             object\n",
              "ΣΥΝΟΛΟ                            int64\n",
              "dtype: object"
            ]
          },
          "metadata": {},
          "execution_count": 183
        }
      ]
    },
    {
      "cell_type": "code",
      "metadata": {
        "id": "zehHNGW1ejsg",
        "colab": {
          "base_uri": "https://localhost:8080/"
        },
        "outputId": "b204fc43-0a82-4622-adc2-eaa24250c511"
      },
      "source": [
        "analisi_ana_dimo_horis_genika_synola_df.dtypes"
      ],
      "execution_count": null,
      "outputs": [
        {
          "output_type": "execute_result",
          "data": {
            "text/plain": [
              "ΔΗΜΟΣ                                      object\n",
              "ΠΡΟΣ ΧΥΤΑ                                 float64\n",
              "ΠΡΟΣ ΣΜΑ                                  float64\n",
              "ΠΡΟΣ ΕΜΑ ΑΠΟΡΡΙΜΜΑΤΑ                      float64\n",
              "ΠΡΟΣ ΕΜΑ ΠΡΑΣΙΝΑ                          float64\n",
              "ΠΡΟΣ ΕΜΑ ΟΡΓΑΝΙΚΑ                         float64\n",
              "ΠΡΟΣ ΕΜΑ ΑΝΑΚΥΚΛΩΣΗ                       float64\n",
              "ΠΡΟΣ ΕΜΑ ΛΑΪΚΕΣ ΑΓΟΡΕΣ                    float64\n",
              "ΠΡΟΓΡΑΜΜΑ ΑΝΑΚΥΚΛΩΣΗΣ ΧΑΡΤΙΟΥ             float64\n",
              "ΑΠΟ ΔΗΜΟΥΣ ΠΡΟΣ ΚΔΑΥ                      float64\n",
              "ΠΡΟΣ ΧΥΤΑ ΑΠΟ ΚΔΑΥ                        float64\n",
              "ΣΥΣΚΕΥΑΣΙΑ ΣΤΑ ΚΔΑΥ                       float64\n",
              "ΕΤΟΣ                                       object\n",
              "ΣΥΝΟΛΟ                                    float64\n",
              "ΜΟΝΙΜΟΣ ΠΛΗΘΥΣΜΟΣ ΒΑΣΕΙ ΑΠΟΓΡΑΦΗΣ 2011     object\n",
              "dtype: object"
            ]
          },
          "metadata": {},
          "execution_count": 184
        }
      ]
    },
    {
      "cell_type": "code",
      "metadata": {
        "id": "4d63TEfjeWMZ"
      },
      "source": [
        "# Turn numeric data from specific columns to integer type\n",
        "#analisi_ana_dimo_horis_genika_synola_df = analisi_ana_dimo_horis_genika_synola_df.astype({\"ΠΡΟΣ ΧΥΤΑ\":'int', \"ΠΡΟΣ ΣΜΑ\":'int', \"ΠΡΟΣ ΕΜΑ ΑΠΟΡΡΙΜΜΑΤΑ\":'int', \"ΠΡΟΣ ΕΜΑ ΠΡΑΣΙΝΑ\":'int', \"ΠΡΟΣ ΕΜΑ ΟΡΓΑΝΙΚΑ\":'int', \n",
        "                                                                                          #\"ΠΡΟΣ ΕΜΑ ΑΝΑΚΥΚΛΩΣΗ\":'int', \"ΠΡΟΣ ΕΜΑ ΛΑΪΚΕΣ ΑΓΟΡΕΣ\":'int', \"ΠΡΟΓΡΑΜΜΑ ΑΝΑΚΥΚΛΩΣΗΣ ΧΑΡΤΙΟΥ\":'int', \"ΑΠΟ ΔΗΜΟΥΣ ΠΡΟΣ ΚΔΑΥ\":'int', \"ΠΡΟΣ ΧΥΤΑ ΑΠΟ ΚΔΑΥ\":'int', \n",
        "                                                                                          #\"ΣΥΣΚΕΥΑΣΙΑ ΣΤΑ ΚΔΑΥ\":'int', \"ΣΥΝΟΛΟ\":'int', \"ΜΟΝΙΜΟΣ ΠΛΗΘΥΣΜΟΣ ΒΑΣΕΙ ΑΠΟΓΡΑΦΗΣ 2011\":'int'}) "
      ],
      "execution_count": null,
      "outputs": []
    },
    {
      "cell_type": "code",
      "metadata": {
        "id": "Xaw_S5OsKJA5"
      },
      "source": [
        "# Turn numeric data from specific columns to integer type\n",
        "#analisi_ana_dimo_horis_genika_synola_df = analisi_ana_dimo_horis_genika_synola_df.astype({\"ΠΡΟΣ ΕΜΑ ΛΑΪΚΕΣ ΑΓΟΡΕΣ\":'int', \"ΠΡΟΓΡΑΜΜΑ ΑΝΑΚΥΚΛΩΣΗΣ ΧΑΡΤΙΟΥ\":'int', \"ΑΠΟ ΔΗΜΟΥΣ ΠΡΟΣ ΚΔΑΥ\":'int',\n",
        "                                                                                          #\"ΣΥΣΚΕΥΑΣΙΑ ΣΤΑ ΚΔΑΥ\":'int', \"ΜΟΝΙΜΟΣ ΠΛΗΘΥΣΜΟΣ ΒΑΣΕΙ ΑΠΟΓΡΑΦΗΣ 2011\":'int'}) "
      ],
      "execution_count": null,
      "outputs": []
    },
    {
      "cell_type": "code",
      "metadata": {
        "id": "o3_-j5zCRnlO"
      },
      "source": [
        "# Turn numeric data from specific columns to integer type\n",
        "analisi_ana_dimo_horis_genika_synola_df = analisi_ana_dimo_horis_genika_synola_df.astype({\"ΠΡΟΣ ΕΜΑ ΛΑΪΚΕΣ ΑΓΟΡΕΣ\":'float', \"ΠΡΟΓΡΑΜΜΑ ΑΝΑΚΥΚΛΩΣΗΣ ΧΑΡΤΙΟΥ\":'float', \"ΑΠΟ ΔΗΜΟΥΣ ΠΡΟΣ ΚΔΑΥ\":'float',\n",
        "                                                                                          \"ΣΥΣΚΕΥΑΣΙΑ ΣΤΑ ΚΔΑΥ\":'float', \"ΜΟΝΙΜΟΣ ΠΛΗΘΥΣΜΟΣ ΒΑΣΕΙ ΑΠΟΓΡΑΦΗΣ 2011\":'float'}) "
      ],
      "execution_count": null,
      "outputs": []
    },
    {
      "cell_type": "code",
      "metadata": {
        "id": "MuvrpmCMgPrV"
      },
      "source": [
        "# Κιλά αποβλήτων ανά κάτοικο\n",
        "analisi_ana_dimo_horis_genika_synola_df['ΑΠΟΒΛΗΤΑ ΑΝΑ ΚΑΤΟΙΚΟ (KG)'] = analisi_ana_dimo_horis_genika_synola_df['ΣΥΝΟΛΟ']/analisi_ana_dimo_horis_genika_synola_df['ΜΟΝΙΜΟΣ ΠΛΗΘΥΣΜΟΣ ΒΑΣΕΙ ΑΠΟΓΡΑΦΗΣ 2011']"
      ],
      "execution_count": null,
      "outputs": []
    },
    {
      "cell_type": "code",
      "metadata": {
        "id": "YCEXG3Bupup7"
      },
      "source": [
        "# Ανακύκλωση (άθροισμα)\n",
        "#analisi_ana_dimo_horis_genika_synola_df['ΑΝΑΚΥΚΛΩΣΗ (ΑΘΡΟΙΣΜΑ)'] = analisi_ana_dimo_horis_genika_synola_df.iloc[:, 4:9].sum(axis=1)"
      ],
      "execution_count": null,
      "outputs": []
    },
    {
      "cell_type": "code",
      "metadata": {
        "id": "E4DY1tMfI8wi"
      },
      "source": [
        "# Ανακύκλωση (άθροισμα)\n",
        "analisi_ana_dimo_horis_genika_synola_df['ΑΝΑΚΥΚΛΩΣΗ (ΑΘΡΟΙΣΜΑ)'] = analisi_ana_dimo_horis_genika_synola_df['ΠΡΟΣ ΕΜΑ ΠΡΑΣΙΝΑ'] + analisi_ana_dimo_horis_genika_synola_df['ΠΡΟΣ ΕΜΑ ΟΡΓΑΝΙΚΑ'] + analisi_ana_dimo_horis_genika_synola_df['ΠΡΟΣ ΕΜΑ ΑΝΑΚΥΚΛΩΣΗ'] + analisi_ana_dimo_horis_genika_synola_df['ΠΡΟΣ ΕΜΑ ΛΑΪΚΕΣ ΑΓΟΡΕΣ'] + analisi_ana_dimo_horis_genika_synola_df['ΠΡΟΓΡΑΜΜΑ ΑΝΑΚΥΚΛΩΣΗΣ ΧΑΡΤΙΟΥ'] + analisi_ana_dimo_horis_genika_synola_df['ΣΥΣΚΕΥΑΣΙΑ ΣΤΑ ΚΔΑΥ']"
      ],
      "execution_count": null,
      "outputs": []
    },
    {
      "cell_type": "code",
      "metadata": {
        "id": "Rbd8N1HSDy4x"
      },
      "source": [
        "# Ανακύκλωση ανά κάτοικο (σε κιλά)\n",
        "analisi_ana_dimo_horis_genika_synola_df['ΑΝΑΚΥΚΛΩΣΗ ΑΝΑ ΚΑΤΟΙΚΟ (KG)'] = analisi_ana_dimo_horis_genika_synola_df['ΑΝΑΚΥΚΛΩΣΗ (ΑΘΡΟΙΣΜΑ)']/analisi_ana_dimo_horis_genika_synola_df['ΜΟΝΙΜΟΣ ΠΛΗΘΥΣΜΟΣ ΒΑΣΕΙ ΑΠΟΓΡΑΦΗΣ 2011']"
      ],
      "execution_count": null,
      "outputs": []
    },
    {
      "cell_type": "code",
      "metadata": {
        "id": "Dt7bk4yVFnNn"
      },
      "source": [
        "# Ποσοστό ανακύκλωσης\n",
        "#analisi_ana_dimo_horis_genika_synola_df['ΠΟΣΟΣΤΟ ΑΝΑΚΥΚΛΩΣΗΣ'] = (analisi_ana_dimo_horis_genika_synola_df['ΑΝΑΚΥΚΛΩΣΗ (ΑΘΡΟΙΣΜΑ)']/analisi_ana_dimo_horis_genika_synola_df['ΣΥΝΟΛΟ'])*100\n",
        "analisi_ana_dimo_horis_genika_synola_df['ΠΟΣΟΣΤΟ ΑΝΑΚΥΚΛΩΣΗΣ'] = analisi_ana_dimo_horis_genika_synola_df['ΑΝΑΚΥΚΛΩΣΗ (ΑΘΡΟΙΣΜΑ)']/analisi_ana_dimo_horis_genika_synola_df['ΣΥΝΟΛΟ']"
      ],
      "execution_count": null,
      "outputs": []
    },
    {
      "cell_type": "code",
      "metadata": {
        "id": "p3s_xSJKB9a0",
        "colab": {
          "base_uri": "https://localhost:8080/"
        },
        "outputId": "3f1cbd4d-d964-4126-a30c-5a765db2875e"
      },
      "source": [
        "# Check data type (βλέπουμε ότι οι νέες στήλες είναι float)\n",
        "analisi_ana_dimo_horis_genika_synola_df.dtypes"
      ],
      "execution_count": null,
      "outputs": [
        {
          "output_type": "execute_result",
          "data": {
            "text/plain": [
              "ΔΗΜΟΣ                                      object\n",
              "ΠΡΟΣ ΧΥΤΑ                                 float64\n",
              "ΠΡΟΣ ΣΜΑ                                  float64\n",
              "ΠΡΟΣ ΕΜΑ ΑΠΟΡΡΙΜΜΑΤΑ                      float64\n",
              "ΠΡΟΣ ΕΜΑ ΠΡΑΣΙΝΑ                          float64\n",
              "ΠΡΟΣ ΕΜΑ ΟΡΓΑΝΙΚΑ                         float64\n",
              "ΠΡΟΣ ΕΜΑ ΑΝΑΚΥΚΛΩΣΗ                       float64\n",
              "ΠΡΟΣ ΕΜΑ ΛΑΪΚΕΣ ΑΓΟΡΕΣ                    float64\n",
              "ΠΡΟΓΡΑΜΜΑ ΑΝΑΚΥΚΛΩΣΗΣ ΧΑΡΤΙΟΥ             float64\n",
              "ΑΠΟ ΔΗΜΟΥΣ ΠΡΟΣ ΚΔΑΥ                      float64\n",
              "ΠΡΟΣ ΧΥΤΑ ΑΠΟ ΚΔΑΥ                        float64\n",
              "ΣΥΣΚΕΥΑΣΙΑ ΣΤΑ ΚΔΑΥ                       float64\n",
              "ΕΤΟΣ                                       object\n",
              "ΣΥΝΟΛΟ                                    float64\n",
              "ΜΟΝΙΜΟΣ ΠΛΗΘΥΣΜΟΣ ΒΑΣΕΙ ΑΠΟΓΡΑΦΗΣ 2011    float64\n",
              "ΑΠΟΒΛΗΤΑ ΑΝΑ ΚΑΤΟΙΚΟ (KG)                 float64\n",
              "ΑΝΑΚΥΚΛΩΣΗ (ΑΘΡΟΙΣΜΑ)                     float64\n",
              "ΑΝΑΚΥΚΛΩΣΗ ΑΝΑ ΚΑΤΟΙΚΟ (KG)               float64\n",
              "ΠΟΣΟΣΤΟ ΑΝΑΚΥΚΛΩΣΗΣ                       float64\n",
              "dtype: object"
            ]
          },
          "metadata": {},
          "execution_count": 193
        }
      ]
    },
    {
      "cell_type": "code",
      "metadata": {
        "id": "EZpA3xElB7gT"
      },
      "source": [
        "# Turn numeric data from specific columns to integer type\n",
        "#analisi_ana_dimo_horis_genika_synola_df = analisi_ana_dimo_horis_genika_synola_df.fillna(0) #  Λύση για σφάλμα \"cannot convert non-finite values (NA or inf) to integer\"\n",
        "#analisi_ana_dimo_horis_genika_synola_df = analisi_ana_dimo_horis_genika_synola_df.astype({\"ΠΟΣΟΣΤΟ ΑΝΑΚΥΚΛΩΣΗΣ\":'int'}) "
      ],
      "execution_count": null,
      "outputs": []
    },
    {
      "cell_type": "code",
      "metadata": {
        "id": "9EYXRGWlTDuq"
      },
      "source": [
        "# Reorder columns \n",
        "analisi_ana_dimo_horis_genika_synola_df = analisi_ana_dimo_horis_genika_synola_df[['ΔΗΜΟΣ','ΜΟΝΙΜΟΣ ΠΛΗΘΥΣΜΟΣ ΒΑΣΕΙ ΑΠΟΓΡΑΦΗΣ 2011','ΕΤΟΣ','ΠΡΟΣ ΧΥΤΑ','ΠΡΟΣ ΣΜΑ','ΠΡΟΣ ΕΜΑ ΑΠΟΡΡΙΜΜΑΤΑ','ΠΡΟΣ ΕΜΑ ΠΡΑΣΙΝΑ','ΠΡΟΣ ΕΜΑ ΟΡΓΑΝΙΚΑ','ΠΡΟΣ ΕΜΑ ΑΝΑΚΥΚΛΩΣΗ','ΠΡΟΣ ΕΜΑ ΛΑΪΚΕΣ ΑΓΟΡΕΣ','ΠΡΟΓΡΑΜΜΑ ΑΝΑΚΥΚΛΩΣΗΣ ΧΑΡΤΙΟΥ','ΣΥΣΚΕΥΑΣΙΑ ΣΤΑ ΚΔΑΥ','ΠΡΟΣ ΧΥΤΑ ΑΠΟ ΚΔΑΥ','ΑΠΟ ΔΗΜΟΥΣ ΠΡΟΣ ΚΔΑΥ','ΣΥΝΟΛΟ','ΑΠΟΒΛΗΤΑ ΑΝΑ ΚΑΤΟΙΚΟ (KG)','ΑΝΑΚΥΚΛΩΣΗ (ΑΘΡΟΙΣΜΑ)','ΑΝΑΚΥΚΛΩΣΗ ΑΝΑ ΚΑΤΟΙΚΟ (KG)', 'ΠΟΣΟΣΤΟ ΑΝΑΚΥΚΛΩΣΗΣ']]"
      ],
      "execution_count": null,
      "outputs": []
    },
    {
      "cell_type": "code",
      "metadata": {
        "id": "XRR_lavG-UUE",
        "colab": {
          "base_uri": "https://localhost:8080/",
          "height": 17
        },
        "outputId": "0ef80cf1-8675-48a5-e92c-10954eff4f3d"
      },
      "source": [
        "# Export dataframe to excel\n",
        "from google.colab import files\n",
        "analisi_ana_dimo_horis_genika_synola_df.to_excel('Ετήσια ανάλυση ανά δήμο 2015 - 2020 (χωρίς γενικά σύνολα).xls') \n",
        "files.download(\"Ετήσια ανάλυση ανά δήμο 2015 - 2020 (χωρίς γενικά σύνολα).xls\")"
      ],
      "execution_count": null,
      "outputs": [
        {
          "output_type": "display_data",
          "data": {
            "application/javascript": [
              "\n",
              "    async function download(id, filename, size) {\n",
              "      if (!google.colab.kernel.accessAllowed) {\n",
              "        return;\n",
              "      }\n",
              "      const div = document.createElement('div');\n",
              "      const label = document.createElement('label');\n",
              "      label.textContent = `Downloading \"${filename}\": `;\n",
              "      div.appendChild(label);\n",
              "      const progress = document.createElement('progress');\n",
              "      progress.max = size;\n",
              "      div.appendChild(progress);\n",
              "      document.body.appendChild(div);\n",
              "\n",
              "      const buffers = [];\n",
              "      let downloaded = 0;\n",
              "\n",
              "      const channel = await google.colab.kernel.comms.open(id);\n",
              "      // Send a message to notify the kernel that we're ready.\n",
              "      channel.send({})\n",
              "\n",
              "      for await (const message of channel.messages) {\n",
              "        // Send a message to notify the kernel that we're ready.\n",
              "        channel.send({})\n",
              "        if (message.buffers) {\n",
              "          for (const buffer of message.buffers) {\n",
              "            buffers.push(buffer);\n",
              "            downloaded += buffer.byteLength;\n",
              "            progress.value = downloaded;\n",
              "          }\n",
              "        }\n",
              "      }\n",
              "      const blob = new Blob(buffers, {type: 'application/binary'});\n",
              "      const a = document.createElement('a');\n",
              "      a.href = window.URL.createObjectURL(blob);\n",
              "      a.download = filename;\n",
              "      div.appendChild(a);\n",
              "      a.click();\n",
              "      div.remove();\n",
              "    }\n",
              "  "
            ],
            "text/plain": [
              "<IPython.core.display.Javascript object>"
            ]
          },
          "metadata": {}
        },
        {
          "output_type": "display_data",
          "data": {
            "application/javascript": [
              "download(\"download_b9977f82-3143-4f07-9923-f5e8f9d4575a\", \"\\u0395\\u03c4\\u03ae\\u03c3\\u03b9\\u03b1 \\u03b1\\u03bd\\u03ac\\u03bb\\u03c5\\u03c3\\u03b7 \\u03b1\\u03bd\\u03ac \\u03b4\\u03ae\\u03bc\\u03bf 2015 - 2020 (\\u03c7\\u03c9\\u03c1\\u03af\\u03c2 \\u03b3\\u03b5\\u03bd\\u03b9\\u03ba\\u03ac \\u03c3\\u03cd\\u03bd\\u03bf\\u03bb\\u03b1).xls\", 96256)"
            ],
            "text/plain": [
              "<IPython.core.display.Javascript object>"
            ]
          },
          "metadata": {}
        }
      ]
    },
    {
      "cell_type": "code",
      "metadata": {
        "id": "Xb_aK082ZZsY",
        "colab": {
          "base_uri": "https://localhost:8080/",
          "height": 17
        },
        "outputId": "a4a896d0-ae0c-408d-fbd3-3078423ae993"
      },
      "source": [
        "# Export dataframe to excel\n",
        "analisi_ana_dimo_metavoles_df.to_excel('Ετήσια ανάλυση ανά δήμο 2015 - 2020 (μεταβολές σε σύνολο αποβλήτων).xls') \n",
        "files.download(\"Ετήσια ανάλυση ανά δήμο 2015 - 2020 (μεταβολές σε σύνολο αποβλήτων).xls\")"
      ],
      "execution_count": null,
      "outputs": [
        {
          "output_type": "display_data",
          "data": {
            "application/javascript": [
              "\n",
              "    async function download(id, filename, size) {\n",
              "      if (!google.colab.kernel.accessAllowed) {\n",
              "        return;\n",
              "      }\n",
              "      const div = document.createElement('div');\n",
              "      const label = document.createElement('label');\n",
              "      label.textContent = `Downloading \"${filename}\": `;\n",
              "      div.appendChild(label);\n",
              "      const progress = document.createElement('progress');\n",
              "      progress.max = size;\n",
              "      div.appendChild(progress);\n",
              "      document.body.appendChild(div);\n",
              "\n",
              "      const buffers = [];\n",
              "      let downloaded = 0;\n",
              "\n",
              "      const channel = await google.colab.kernel.comms.open(id);\n",
              "      // Send a message to notify the kernel that we're ready.\n",
              "      channel.send({})\n",
              "\n",
              "      for await (const message of channel.messages) {\n",
              "        // Send a message to notify the kernel that we're ready.\n",
              "        channel.send({})\n",
              "        if (message.buffers) {\n",
              "          for (const buffer of message.buffers) {\n",
              "            buffers.push(buffer);\n",
              "            downloaded += buffer.byteLength;\n",
              "            progress.value = downloaded;\n",
              "          }\n",
              "        }\n",
              "      }\n",
              "      const blob = new Blob(buffers, {type: 'application/binary'});\n",
              "      const a = document.createElement('a');\n",
              "      a.href = window.URL.createObjectURL(blob);\n",
              "      a.download = filename;\n",
              "      div.appendChild(a);\n",
              "      a.click();\n",
              "      div.remove();\n",
              "    }\n",
              "  "
            ],
            "text/plain": [
              "<IPython.core.display.Javascript object>"
            ]
          },
          "metadata": {}
        },
        {
          "output_type": "display_data",
          "data": {
            "application/javascript": [
              "download(\"download_14b01364-5e87-4830-a65c-308d11ee747b\", \"\\u0395\\u03c4\\u03ae\\u03c3\\u03b9\\u03b1 \\u03b1\\u03bd\\u03ac\\u03bb\\u03c5\\u03c3\\u03b7 \\u03b1\\u03bd\\u03ac \\u03b4\\u03ae\\u03bc\\u03bf 2015 - 2020 (\\u03bc\\u03b5\\u03c4\\u03b1\\u03b2\\u03bf\\u03bb\\u03ad\\u03c2 \\u03c3\\u03b5 \\u03c3\\u03cd\\u03bd\\u03bf\\u03bb\\u03bf \\u03b1\\u03c0\\u03bf\\u03b2\\u03bb\\u03ae\\u03c4\\u03c9\\u03bd).xls\", 17920)"
            ],
            "text/plain": [
              "<IPython.core.display.Javascript object>"
            ]
          },
          "metadata": {}
        }
      ]
    },
    {
      "cell_type": "code",
      "metadata": {
        "id": "FXB6_kY61UNA",
        "colab": {
          "base_uri": "https://localhost:8080/",
          "height": 17
        },
        "outputId": "7e64a043-7476-4054-bb06-4966fe69de0d"
      },
      "source": [
        "# Export dataframe to excel\n",
        "analisi_ana_dimo_df.to_excel('Ετήσια ανάλυση ανά δήμο 2015 - 2020.xls') \n",
        "files.download(\"Ετήσια ανάλυση ανά δήμο 2015 - 2020.xls\")"
      ],
      "execution_count": null,
      "outputs": [
        {
          "output_type": "display_data",
          "data": {
            "application/javascript": [
              "\n",
              "    async function download(id, filename, size) {\n",
              "      if (!google.colab.kernel.accessAllowed) {\n",
              "        return;\n",
              "      }\n",
              "      const div = document.createElement('div');\n",
              "      const label = document.createElement('label');\n",
              "      label.textContent = `Downloading \"${filename}\": `;\n",
              "      div.appendChild(label);\n",
              "      const progress = document.createElement('progress');\n",
              "      progress.max = size;\n",
              "      div.appendChild(progress);\n",
              "      document.body.appendChild(div);\n",
              "\n",
              "      const buffers = [];\n",
              "      let downloaded = 0;\n",
              "\n",
              "      const channel = await google.colab.kernel.comms.open(id);\n",
              "      // Send a message to notify the kernel that we're ready.\n",
              "      channel.send({})\n",
              "\n",
              "      for await (const message of channel.messages) {\n",
              "        // Send a message to notify the kernel that we're ready.\n",
              "        channel.send({})\n",
              "        if (message.buffers) {\n",
              "          for (const buffer of message.buffers) {\n",
              "            buffers.push(buffer);\n",
              "            downloaded += buffer.byteLength;\n",
              "            progress.value = downloaded;\n",
              "          }\n",
              "        }\n",
              "      }\n",
              "      const blob = new Blob(buffers, {type: 'application/binary'});\n",
              "      const a = document.createElement('a');\n",
              "      a.href = window.URL.createObjectURL(blob);\n",
              "      a.download = filename;\n",
              "      div.appendChild(a);\n",
              "      a.click();\n",
              "      div.remove();\n",
              "    }\n",
              "  "
            ],
            "text/plain": [
              "<IPython.core.display.Javascript object>"
            ]
          },
          "metadata": {}
        },
        {
          "output_type": "display_data",
          "data": {
            "application/javascript": [
              "download(\"download_815c16d5-d2b4-47be-b3c4-d02fcea5d4bc\", \"\\u0395\\u03c4\\u03ae\\u03c3\\u03b9\\u03b1 \\u03b1\\u03bd\\u03ac\\u03bb\\u03c5\\u03c3\\u03b7 \\u03b1\\u03bd\\u03ac \\u03b4\\u03ae\\u03bc\\u03bf 2015 - 2020.xls\", 71680)"
            ],
            "text/plain": [
              "<IPython.core.display.Javascript object>"
            ]
          },
          "metadata": {}
        }
      ]
    },
    {
      "cell_type": "code",
      "metadata": {
        "id": "EvDOu6I2y51S"
      },
      "source": [
        "# Η εξαγωγή σε excel έγινε γιατί το ποσοστό ανακύκλωσης δεν αντιστοιχούσε στο ποσοστό ανακύκλωσης του ΕΔΣΝΑ για το 2020.\n",
        "# Στο excel δημιουργήθηκε στήλη όπου υπολογίστηκε το σύνολο λαμβάνοντας υπόψιν και το υπόλλειμα των μπλε κάδων από ΚΔΑΥ (μόνο για το 2019 είχαν υπολογίσει πλήρως το σύνολο)\n",
        "# Σε αυτό το σημείο επέστρεψα σε προηγούμενα βήματα ώστε να γίνει διόρθωση στα dataframes, μιας και αυτό επηρέαζε τα αποτελέσματα. \n",
        "# Κάνοντας την απαραίτητη αφαίρεση των συνόλων τα οποία εν συνεχεία ανήρτησα εκ νέου, απέφυγα να τροποποιήσω το όνομα της νέα στήλης στα επόμενα βήματα. Αυτό με βοήθησε να εξοικονομήσω χρόνο."
      ],
      "execution_count": null,
      "outputs": []
    },
    {
      "cell_type": "code",
      "metadata": {
        "id": "8Nsv7Yi87pz6"
      },
      "source": [
        "# New columns (σύνοψη)\n",
        "# 1) Ποσοστό ανακύκλωσης \n",
        "\n",
        "# 2) Απόλυτη μεταβολή \n",
        "\n",
        "# 3) Ποσοστιαία μεταβολή (υπολογισμός μέσω excel)\n",
        "\n",
        "# 4) Κατά κεφαλήν εισόδημα και απορρίμματα (εφόσον υπάρχει ανά δήμο)\n",
        "\n",
        "# 5) Πληθυσμός ανά δήμο βάσει τελευταίας απογραφής (2011)\n",
        "\n",
        "# 6) Απόβλητα ανά κάτοικο (kg) \n",
        "\n",
        "# 7) Ανακύκλωση ανά κάτοικο (kg) "
      ],
      "execution_count": null,
      "outputs": []
    },
    {
      "cell_type": "code",
      "metadata": {
        "id": "PT06ya5-_jqh"
      },
      "source": [
        "# Optimizations\n",
        "# 1) Ανάλυση ανά δήμο στη διάρκεια των ετών\n",
        "# 2) Ποσοστό ανακύκλωσης\n",
        "# 3) Χυτα vs Ανακύκλωση\n",
        "# 4) Υπόλειμμα μπλε κάδων σε σχέση με συνολική ποσότητα και ανακυκλώσιμα\n",
        "# 5) Σύνολο δήμων ανά κατηγορία\n",
        "# 6) Μεταβολή απορριμμάτων ανά δήμο κατά τη διάρκεια του χρόνου\n",
        "# 7) Χάρτης με ποσοστό ανακύκλωσης ανά περιοχή\n",
        "# 8) Απόβλητα ανά κάτοικο (περιοχή)\n",
        "# 9) Ανακύκλωση ανά κάτοικο (περιοχή)"
      ],
      "execution_count": null,
      "outputs": []
    }
  ]
}